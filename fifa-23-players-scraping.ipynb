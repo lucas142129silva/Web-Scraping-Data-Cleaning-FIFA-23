{
 "cells": [
  {
   "cell_type": "markdown",
   "id": "5da17893",
   "metadata": {
    "papermill": {
     "duration": 0.017291,
     "end_time": "2023-01-06T22:40:11.826741",
     "exception": false,
     "start_time": "2023-01-06T22:40:11.809450",
     "status": "completed"
    },
    "tags": []
   },
   "source": [
    "<div style=\"font-family:Inter; text-align:center; font-size:36px;\n",
    "            background-color:#ead1dc; border-radius: 20px; padding: 10px\">\n",
    "    <b>Introduction</b></div>"
   ]
  },
  {
   "cell_type": "markdown",
   "id": "b1beb0d1",
   "metadata": {
    "papermill": {
     "duration": 0.01604,
     "end_time": "2023-01-06T22:40:11.858925",
     "exception": false,
     "start_time": "2023-01-06T22:40:11.842885",
     "status": "completed"
    },
    "tags": []
   },
   "source": [
    "<div style=\"font-size: 26px; font-family:Inter\"><b>Objectives</b></div>\n",
    "<hr style=\"height:6px; background-color:#9c9598\"></hr>\n",
    "<p style=\"font-size: 16px; font-family:Inter\">Make an <b>updatable FIFA 23 players dataset</b>, new players will be added and prices will be updated, possibiliting the price analysis. Also, it helps me to improve in <b>web scraping and data cleaning</b>. I hope you enjoy.</p>"
   ]
  },
  {
   "cell_type": "markdown",
   "id": "23db5522",
   "metadata": {
    "papermill": {
     "duration": 0.021924,
     "end_time": "2023-01-06T22:40:11.896705",
     "exception": false,
     "start_time": "2023-01-06T22:40:11.874781",
     "status": "completed"
    },
    "tags": []
   },
   "source": [
    "<div style=\"font-size: 26px; font-family:Inter\"><b>Technologies and Concepts used</b></div>\n",
    "<hr style=\"height:6px; background-color:#9c9598\"></hr>\n",
    "<div style=\"font-size: 16px; font-family:Inter\">\n",
    "    <ul>\n",
    "        <li> <b>Beautiful Soup</b> for Web Scraping;</li>   \n",
    "        <li> <b>URLlib</b> for requests;</li>\n",
    "        <li> <b>Pandas</b> for data manipulation and data cleaning; </li>\n",
    "    </ul>\n",
    "</div>\n",
    "<img src=\"https://upload.wikimedia.org/wikipedia/commons/thumb/e/ed/Pandas_logo.svg/1200px-Pandas_logo.svg.png\" style=\"width:150px;height:-100px\"></img>"
   ]
  },
  {
   "cell_type": "markdown",
   "id": "4eb23b96",
   "metadata": {
    "papermill": {
     "duration": 0.021625,
     "end_time": "2023-01-06T22:40:11.935598",
     "exception": false,
     "start_time": "2023-01-06T22:40:11.913973",
     "status": "completed"
    },
    "tags": []
   },
   "source": [
    "<div style=\"font-size: 26px; font-family:Inter\"><b>From where the data was scraped</b></div>\n",
    "<hr style=\"height:6px; background-color:#9c9598\"></hr>\n",
    "<p style=\"font-size: 16px; font-family:Inter\"><b>FUTBIN</b> is a FIFA site that contains the FIFA 23 players and features database.</p>"
   ]
  },
  {
   "cell_type": "markdown",
   "id": "8fc3b000",
   "metadata": {
    "papermill": {
     "duration": 0.016111,
     "end_time": "2023-01-06T22:40:11.975019",
     "exception": false,
     "start_time": "2023-01-06T22:40:11.958908",
     "status": "completed"
    },
    "tags": []
   },
   "source": [
    "<img src=\"https://cdn.futbin.com/design/img/futbinBigLogo-w.png\" style=\"background-color:#75ddac;border-radius:20px\"><img>"
   ]
  },
  {
   "cell_type": "markdown",
   "id": "34b6745a",
   "metadata": {
    "papermill": {
     "duration": 0.016769,
     "end_time": "2023-01-06T22:40:12.009197",
     "exception": false,
     "start_time": "2023-01-06T22:40:11.992428",
     "status": "completed"
    },
    "tags": []
   },
   "source": [
    "<div style=\"font-family:Inter; text-align:center; font-size:36px;\n",
    "            background-color:#ead1dc; border-radius: 20px; padding: 10px\">\n",
    "    <b>Imports</b></div>"
   ]
  },
  {
   "cell_type": "code",
   "execution_count": 1,
   "id": "b62aa625",
   "metadata": {
    "execution": {
     "iopub.execute_input": "2023-01-06T22:40:12.042774Z",
     "iopub.status.busy": "2023-01-06T22:40:12.041916Z",
     "iopub.status.idle": "2023-01-06T22:40:12.255443Z",
     "shell.execute_reply": "2023-01-06T22:40:12.254147Z"
    },
    "papermill": {
     "duration": 0.233721,
     "end_time": "2023-01-06T22:40:12.258574",
     "exception": false,
     "start_time": "2023-01-06T22:40:12.024853",
     "status": "completed"
    },
    "tags": []
   },
   "outputs": [],
   "source": [
    "# Data Manipulation\n",
    "import numpy as np\n",
    "import pandas as pd\n",
    "\n",
    "# Web Scraping\n",
    "from urllib.request import Request, urlopen\n",
    "from urllib.error import HTTPError\n",
    "from bs4 import BeautifulSoup\n",
    "\n",
    "# Time\n",
    "from datetime import date\n",
    "from time import sleep"
   ]
  },
  {
   "cell_type": "markdown",
   "id": "46b179c0",
   "metadata": {
    "papermill": {
     "duration": 0.015592,
     "end_time": "2023-01-06T22:40:12.290530",
     "exception": false,
     "start_time": "2023-01-06T22:40:12.274938",
     "status": "completed"
    },
    "tags": []
   },
   "source": [
    "<div style=\"font-family:Inter; text-align:center; font-size:36px;\n",
    "            background-color:#ead1dc; border-radius: 20px; padding: 10px\">\n",
    "    <b>Creating a Pipeline Step by Step</b></div>"
   ]
  },
  {
   "cell_type": "markdown",
   "id": "485bb7a3",
   "metadata": {
    "papermill": {
     "duration": 0.017303,
     "end_time": "2023-01-06T22:40:12.324482",
     "exception": false,
     "start_time": "2023-01-06T22:40:12.307179",
     "status": "completed"
    },
    "tags": []
   },
   "source": [
    "<div style=\"font-size: 26px; font-family:Inter\"><b>Example - Top 30 Gold Players - Mbappé</b></div>\n",
    "<hr style=\"height:6px; background-color:#9c9598\"></hr>"
   ]
  },
  {
   "cell_type": "code",
   "execution_count": 2,
   "id": "362c7f1b",
   "metadata": {
    "execution": {
     "iopub.execute_input": "2023-01-06T22:40:12.357879Z",
     "iopub.status.busy": "2023-01-06T22:40:12.357430Z",
     "iopub.status.idle": "2023-01-06T22:40:13.997268Z",
     "shell.execute_reply": "2023-01-06T22:40:13.995944Z"
    },
    "papermill": {
     "duration": 1.659622,
     "end_time": "2023-01-06T22:40:13.999917",
     "exception": false,
     "start_time": "2023-01-06T22:40:12.340295",
     "status": "completed"
    },
    "tags": []
   },
   "outputs": [],
   "source": [
    "url = \"https://www.futbin.com/players?page=1&version=gold_rare&pos_type=all\"\n",
    "\n",
    "headers = {'User-Agent': 'Mozilla/5.0'}\n",
    "req = Request(url, headers=headers)\n",
    "response = urlopen(req)\n",
    "html = response.read()\n",
    "\n",
    "\n",
    "soup = BeautifulSoup(html, 'html.parser')"
   ]
  },
  {
   "cell_type": "code",
   "execution_count": 3,
   "id": "40323475",
   "metadata": {
    "execution": {
     "iopub.execute_input": "2023-01-06T22:40:14.035932Z",
     "iopub.status.busy": "2023-01-06T22:40:14.035451Z",
     "iopub.status.idle": "2023-01-06T22:40:14.046013Z",
     "shell.execute_reply": "2023-01-06T22:40:14.044672Z"
    },
    "papermill": {
     "duration": 0.031976,
     "end_time": "2023-01-06T22:40:14.048750",
     "exception": false,
     "start_time": "2023-01-06T22:40:14.016774",
     "status": "completed"
    },
    "tags": []
   },
   "outputs": [],
   "source": [
    "example = soup.find_all(\"tr\")[4] # Mbappé"
   ]
  },
  {
   "cell_type": "code",
   "execution_count": 4,
   "id": "eb7725e4",
   "metadata": {
    "execution": {
     "iopub.execute_input": "2023-01-06T22:40:14.084168Z",
     "iopub.status.busy": "2023-01-06T22:40:14.083776Z",
     "iopub.status.idle": "2023-01-06T22:40:14.089463Z",
     "shell.execute_reply": "2023-01-06T22:40:14.088234Z"
    },
    "papermill": {
     "duration": 0.027088,
     "end_time": "2023-01-06T22:40:14.092294",
     "exception": false,
     "start_time": "2023-01-06T22:40:14.065206",
     "status": "completed"
    },
    "tags": []
   },
   "outputs": [],
   "source": [
    "attributes = [td.get_text() for td in example.find_all(\"td\")]"
   ]
  },
  {
   "cell_type": "markdown",
   "id": "36b4043e",
   "metadata": {
    "papermill": {
     "duration": 0.016871,
     "end_time": "2023-01-06T22:40:14.125749",
     "exception": false,
     "start_time": "2023-01-06T22:40:14.108878",
     "status": "completed"
    },
    "tags": []
   },
   "source": [
    "<div style=\"font-size: 26px; font-family:Inter\"><b>Clean the Data</b></div>\n",
    "<hr style=\"height:6px; background-color:#9c9598\"></hr>"
   ]
  },
  {
   "cell_type": "code",
   "execution_count": 5,
   "id": "c76ba836",
   "metadata": {
    "execution": {
     "iopub.execute_input": "2023-01-06T22:40:14.160430Z",
     "iopub.status.busy": "2023-01-06T22:40:14.160042Z",
     "iopub.status.idle": "2023-01-06T22:40:14.165459Z",
     "shell.execute_reply": "2023-01-06T22:40:14.163971Z"
    },
    "papermill": {
     "duration": 0.024955,
     "end_time": "2023-01-06T22:40:14.167667",
     "exception": false,
     "start_time": "2023-01-06T22:40:14.142712",
     "status": "completed"
    },
    "tags": []
   },
   "outputs": [],
   "source": [
    "def flatten_list(list_):\n",
    "    output = []\n",
    "    for sublist in list_:\n",
    "        output.extend(sublist)\n",
    "        \n",
    "    return output"
   ]
  },
  {
   "cell_type": "code",
   "execution_count": 6,
   "id": "def37b2c",
   "metadata": {
    "execution": {
     "iopub.execute_input": "2023-01-06T22:40:14.201133Z",
     "iopub.status.busy": "2023-01-06T22:40:14.200705Z",
     "iopub.status.idle": "2023-01-06T22:40:14.206447Z",
     "shell.execute_reply": "2023-01-06T22:40:14.205294Z"
    },
    "papermill": {
     "duration": 0.02562,
     "end_time": "2023-01-06T22:40:14.208953",
     "exception": false,
     "start_time": "2023-01-06T22:40:14.183333",
     "status": "completed"
    },
    "tags": []
   },
   "outputs": [],
   "source": [
    "attributes = [i.strip() for i in attributes]"
   ]
  },
  {
   "cell_type": "markdown",
   "id": "6f8bc3f1",
   "metadata": {
    "papermill": {
     "duration": 0.016755,
     "end_time": "2023-01-06T22:40:14.242415",
     "exception": false,
     "start_time": "2023-01-06T22:40:14.225660",
     "status": "completed"
    },
    "tags": []
   },
   "source": [
    "<div style=\"font-size: 26px; font-family:Inter\"><b>Get the Positions, Run Style and Price</b></div>\n",
    "<hr style=\"height:6px; background-color:#9c9598\"></hr>\n",
    "<p style=\"font-size: 16px; font-family:Inter\">Get these three attributes by splitting by \"\\n\". This will generate a list of lists, so it flattens to an one dimensional vector.</p>"
   ]
  },
  {
   "cell_type": "code",
   "execution_count": 7,
   "id": "59a60cb2",
   "metadata": {
    "execution": {
     "iopub.execute_input": "2023-01-06T22:40:14.277247Z",
     "iopub.status.busy": "2023-01-06T22:40:14.276855Z",
     "iopub.status.idle": "2023-01-06T22:40:14.282112Z",
     "shell.execute_reply": "2023-01-06T22:40:14.280648Z"
    },
    "papermill": {
     "duration": 0.025838,
     "end_time": "2023-01-06T22:40:14.284876",
     "exception": false,
     "start_time": "2023-01-06T22:40:14.259038",
     "status": "completed"
    },
    "tags": []
   },
   "outputs": [],
   "source": [
    "attributes = flatten_list([i.split(\"\\n\") for i in attributes])"
   ]
  },
  {
   "cell_type": "markdown",
   "id": "aab09efc",
   "metadata": {
    "papermill": {
     "duration": 0.01559,
     "end_time": "2023-01-06T22:40:14.317385",
     "exception": false,
     "start_time": "2023-01-06T22:40:14.301795",
     "status": "completed"
    },
    "tags": []
   },
   "source": [
    "<div style=\"font-size: 26px; font-family:Inter\"><b>Get the Workrates</b></div>\n",
    "<hr style=\"height:6px; background-color:#9c9598\"></hr>\n",
    "<p style=\"font-size: 16px; font-family:Inter\">Get the attack and defense workrates by splitting by \"\\\\\" and then flattening again.</p>"
   ]
  },
  {
   "cell_type": "code",
   "execution_count": 8,
   "id": "aff5223c",
   "metadata": {
    "execution": {
     "iopub.execute_input": "2023-01-06T22:40:14.351581Z",
     "iopub.status.busy": "2023-01-06T22:40:14.351111Z",
     "iopub.status.idle": "2023-01-06T22:40:14.356713Z",
     "shell.execute_reply": "2023-01-06T22:40:14.355485Z"
    },
    "papermill": {
     "duration": 0.02553,
     "end_time": "2023-01-06T22:40:14.359280",
     "exception": false,
     "start_time": "2023-01-06T22:40:14.333750",
     "status": "completed"
    },
    "tags": []
   },
   "outputs": [],
   "source": [
    "attributes = flatten_list([i.split(\"\\\\\") for i in attributes])"
   ]
  },
  {
   "cell_type": "markdown",
   "id": "adfc0657",
   "metadata": {
    "papermill": {
     "duration": 0.015903,
     "end_time": "2023-01-06T22:40:14.391682",
     "exception": false,
     "start_time": "2023-01-06T22:40:14.375779",
     "status": "completed"
    },
    "tags": []
   },
   "source": [
    "<div style=\"font-size: 26px; font-family:Inter\"><b>Cleaning again removing empty values</b></div>\n",
    "<hr style=\"height:6px; background-color:#9c9598\"></hr>\n",
    "<p style=\"font-size: 16px; font-family:Inter\">After all, there are items that are empty or dirty with \"\\n\" or \"\\r\", so it cleans it and generates a final list result.</p>"
   ]
  },
  {
   "cell_type": "code",
   "execution_count": 9,
   "id": "b956dedc",
   "metadata": {
    "execution": {
     "iopub.execute_input": "2023-01-06T22:40:14.426364Z",
     "iopub.status.busy": "2023-01-06T22:40:14.425962Z",
     "iopub.status.idle": "2023-01-06T22:40:14.430638Z",
     "shell.execute_reply": "2023-01-06T22:40:14.429737Z"
    },
    "papermill": {
     "duration": 0.025054,
     "end_time": "2023-01-06T22:40:14.432885",
     "exception": false,
     "start_time": "2023-01-06T22:40:14.407831",
     "status": "completed"
    },
    "tags": []
   },
   "outputs": [],
   "source": [
    "attributes = [item.strip() for item in attributes if item.strip() != \"\"]"
   ]
  },
  {
   "cell_type": "markdown",
   "id": "badd97dc",
   "metadata": {
    "papermill": {
     "duration": 0.015489,
     "end_time": "2023-01-06T22:40:14.464695",
     "exception": false,
     "start_time": "2023-01-06T22:40:14.449206",
     "status": "completed"
    },
    "tags": []
   },
   "source": [
    "<div style=\"font-size: 26px; font-family:Inter\"><b>Partial Result</b></div>\n",
    "<hr style=\"height:6px; background-color:#9c9598\"></hr>"
   ]
  },
  {
   "cell_type": "code",
   "execution_count": 10,
   "id": "a9efb969",
   "metadata": {
    "execution": {
     "iopub.execute_input": "2023-01-06T22:40:14.498428Z",
     "iopub.status.busy": "2023-01-06T22:40:14.498006Z",
     "iopub.status.idle": "2023-01-06T22:40:14.509873Z",
     "shell.execute_reply": "2023-01-06T22:40:14.508434Z"
    },
    "papermill": {
     "duration": 0.031818,
     "end_time": "2023-01-06T22:40:14.512542",
     "exception": false,
     "start_time": "2023-01-06T22:40:14.480724",
     "status": "completed"
    },
    "tags": []
   },
   "outputs": [
    {
     "data": {
      "text/plain": [
       "['Kylian Mbappé',\n",
       " '91',\n",
       " 'ST',\n",
       " 'CF,LW',\n",
       " 'Normal',\n",
       " 'Controlled',\n",
       " '835K',\n",
       " '0.60%',\n",
       " '5',\n",
       " '4',\n",
       " 'H',\n",
       " 'L',\n",
       " '97',\n",
       " '89',\n",
       " '80',\n",
       " '92',\n",
       " '36',\n",
       " '76',\n",
       " '182cm | 6\\'0\"',\n",
       " 'Unique  (73kg)',\n",
       " '-1999',\n",
       " '470',\n",
       " '2223']"
      ]
     },
     "execution_count": 10,
     "metadata": {},
     "output_type": "execute_result"
    }
   ],
   "source": [
    "attributes"
   ]
  },
  {
   "cell_type": "markdown",
   "id": "832198bb",
   "metadata": {
    "papermill": {
     "duration": 0.015938,
     "end_time": "2023-01-06T22:40:14.544970",
     "exception": false,
     "start_time": "2023-01-06T22:40:14.529032",
     "status": "completed"
    },
    "tags": []
   },
   "source": [
    "<div style=\"font-size: 26px; font-family:Inter\"><b>Get player information</b></div>\n",
    "<hr style=\"height:6px; background-color:#9c9598\"></hr>\n",
    "<p style=\"font-size: 16px; font-family:Inter\">Get player information for club, nation and league. They all are links, so they are tagged as \"&lt a &gt\".</p>"
   ]
  },
  {
   "cell_type": "code",
   "execution_count": 11,
   "id": "2b0f5806",
   "metadata": {
    "execution": {
     "iopub.execute_input": "2023-01-06T22:40:14.578590Z",
     "iopub.status.busy": "2023-01-06T22:40:14.578179Z",
     "iopub.status.idle": "2023-01-06T22:40:14.586093Z",
     "shell.execute_reply": "2023-01-06T22:40:14.584872Z"
    },
    "papermill": {
     "duration": 0.02764,
     "end_time": "2023-01-06T22:40:14.588678",
     "exception": false,
     "start_time": "2023-01-06T22:40:14.561038",
     "status": "completed"
    },
    "tags": []
   },
   "outputs": [
    {
     "data": {
      "text/plain": [
       "['Paris SG', 'France', 'Ligue 1']"
      ]
     },
     "execution_count": 11,
     "metadata": {},
     "output_type": "execute_result"
    }
   ],
   "source": [
    "player_information = example.find_all(\"span\")[0].find_all(\"a\")\n",
    "player_information = [item['data-original-title'] for item in player_information]\n",
    "player_information"
   ]
  },
  {
   "cell_type": "markdown",
   "id": "c6bb6d74",
   "metadata": {
    "papermill": {
     "duration": 0.016751,
     "end_time": "2023-01-06T22:40:14.621917",
     "exception": false,
     "start_time": "2023-01-06T22:40:14.605166",
     "status": "completed"
    },
    "tags": []
   },
   "source": [
    "<div style=\"font-size: 26px; font-family:Inter\"><b>Joining all the pipeline</b></div>\n",
    "<hr style=\"height:6px; background-color:#9c9598\"></hr>\n",
    "<p style=\"font-size: 16px; font-family:Inter\">Joining all the pipeline in order to create a dictionary of each player, which all values are labeled.</p>"
   ]
  },
  {
   "cell_type": "code",
   "execution_count": 12,
   "id": "f6fd2d18",
   "metadata": {
    "execution": {
     "iopub.execute_input": "2023-01-06T22:40:14.656838Z",
     "iopub.status.busy": "2023-01-06T22:40:14.656377Z",
     "iopub.status.idle": "2023-01-06T22:40:14.663017Z",
     "shell.execute_reply": "2023-01-06T22:40:14.661732Z"
    },
    "papermill": {
     "duration": 0.027654,
     "end_time": "2023-01-06T22:40:14.665861",
     "exception": false,
     "start_time": "2023-01-06T22:40:14.638207",
     "status": "completed"
    },
    "tags": []
   },
   "outputs": [],
   "source": [
    "attributes_names = [\"Name\", \"Club\", \"Nation\", \"League\", \"Rating\", \"Main_Position\", \"Alternate_Positions\", \n",
    "                    \"Card_Version\", \"Run_Style\", \"Price\", \"Price_Variation\", \"Skills_Star\", \"Weak_Foot_Star\", \n",
    "                    \"Attack_Workrate\", \"Defense_Workrate\", \n",
    "                    \"Pace / Diving\", \"Shooting / Handling\",\n",
    "                    \"Passing / Kicking\", \"Dribbling / Reflexes\", \n",
    "                    \"Defense / Speed\", \"Physical / Positioning\", \n",
    "                    \"Height\", \"BodyType\", \"Popularity\", \"Base_Stats\", \"Ingame_Stats\"]"
   ]
  },
  {
   "cell_type": "code",
   "execution_count": 13,
   "id": "7bfd16f3",
   "metadata": {
    "execution": {
     "iopub.execute_input": "2023-01-06T22:40:14.700225Z",
     "iopub.status.busy": "2023-01-06T22:40:14.699024Z",
     "iopub.status.idle": "2023-01-06T22:40:14.704462Z",
     "shell.execute_reply": "2023-01-06T22:40:14.703569Z"
    },
    "papermill": {
     "duration": 0.025134,
     "end_time": "2023-01-06T22:40:14.706923",
     "exception": false,
     "start_time": "2023-01-06T22:40:14.681789",
     "status": "completed"
    },
    "tags": []
   },
   "outputs": [],
   "source": [
    "for e, info in enumerate(player_information):\n",
    "    attributes.insert(e + 1, info)"
   ]
  },
  {
   "cell_type": "code",
   "execution_count": 14,
   "id": "f16d8168",
   "metadata": {
    "execution": {
     "iopub.execute_input": "2023-01-06T22:40:14.742366Z",
     "iopub.status.busy": "2023-01-06T22:40:14.741173Z",
     "iopub.status.idle": "2023-01-06T22:40:14.749854Z",
     "shell.execute_reply": "2023-01-06T22:40:14.748885Z"
    },
    "papermill": {
     "duration": 0.02938,
     "end_time": "2023-01-06T22:40:14.752372",
     "exception": false,
     "start_time": "2023-01-06T22:40:14.722992",
     "status": "completed"
    },
    "tags": []
   },
   "outputs": [
    {
     "data": {
      "text/plain": [
       "{'Name': 'Kylian Mbappé',\n",
       " 'Club': 'Paris SG',\n",
       " 'Nation': 'France',\n",
       " 'League': 'Ligue 1',\n",
       " 'Rating': '91',\n",
       " 'Main_Position': 'ST',\n",
       " 'Alternate_Positions': 'CF,LW',\n",
       " 'Card_Version': 'Normal',\n",
       " 'Run_Style': 'Controlled',\n",
       " 'Price': '835K',\n",
       " 'Price_Variation': '0.60%',\n",
       " 'Skills_Star': '5',\n",
       " 'Weak_Foot_Star': '4',\n",
       " 'Attack_Workrate': 'H',\n",
       " 'Defense_Workrate': 'L',\n",
       " 'Pace / Diving': '97',\n",
       " 'Shooting / Handling': '89',\n",
       " 'Passing / Kicking': '80',\n",
       " 'Dribbling / Reflexes': '92',\n",
       " 'Defense / Speed': '36',\n",
       " 'Physical / Positioning': '76',\n",
       " 'Height': '182cm | 6\\'0\"',\n",
       " 'BodyType': 'Unique  (73kg)',\n",
       " 'Popularity': '-1999',\n",
       " 'Base_Stats': '470',\n",
       " 'Ingame_Stats': '2223'}"
      ]
     },
     "execution_count": 14,
     "metadata": {},
     "output_type": "execute_result"
    }
   ],
   "source": [
    "player_dict = dict(zip(attributes_names, attributes))\n",
    "player_dict"
   ]
  },
  {
   "cell_type": "markdown",
   "id": "f0132430",
   "metadata": {
    "papermill": {
     "duration": 0.016326,
     "end_time": "2023-01-06T22:40:14.784992",
     "exception": false,
     "start_time": "2023-01-06T22:40:14.768666",
     "status": "completed"
    },
    "tags": []
   },
   "source": [
    "<div style=\"font-size: 26px; font-family:Inter\"><b>Players without Alternate Position problem</b></div>\n",
    "<hr style=\"height:6px; background-color:#9c9598\"></hr>\n",
    "<p style=\"font-size: 16px; font-family:Inter\">Players that don't have an alternate position have the value as \"\", so the function cleans it, implying in missing values. One example is Van Dijk, his values vector has 25 values instead of 26 like Mbappé, so for these players it adds \"0\" in the alternate position field using the same attributes names dictionary.</p>"
   ]
  },
  {
   "cell_type": "code",
   "execution_count": 15,
   "id": "60de0c3e",
   "metadata": {
    "execution": {
     "iopub.execute_input": "2023-01-06T22:40:14.819698Z",
     "iopub.status.busy": "2023-01-06T22:40:14.819236Z",
     "iopub.status.idle": "2023-01-06T22:40:14.829596Z",
     "shell.execute_reply": "2023-01-06T22:40:14.828207Z"
    },
    "papermill": {
     "duration": 0.030253,
     "end_time": "2023-01-06T22:40:14.831938",
     "exception": false,
     "start_time": "2023-01-06T22:40:14.801685",
     "status": "completed"
    },
    "tags": []
   },
   "outputs": [],
   "source": [
    "van_dijk = soup.find_all(\"tr\")[12]"
   ]
  },
  {
   "cell_type": "code",
   "execution_count": 16,
   "id": "425fc5c4",
   "metadata": {
    "_kg_hide-input": true,
    "execution": {
     "iopub.execute_input": "2023-01-06T22:40:14.867794Z",
     "iopub.status.busy": "2023-01-06T22:40:14.867089Z",
     "iopub.status.idle": "2023-01-06T22:40:14.879172Z",
     "shell.execute_reply": "2023-01-06T22:40:14.877996Z"
    },
    "papermill": {
     "duration": 0.033371,
     "end_time": "2023-01-06T22:40:14.881684",
     "exception": false,
     "start_time": "2023-01-06T22:40:14.848313",
     "status": "completed"
    },
    "tags": []
   },
   "outputs": [
    {
     "data": {
      "text/plain": [
       "['Virgil van Dijk',\n",
       " 'Liverpool',\n",
       " 'Netherlands',\n",
       " 'Premier League',\n",
       " '90',\n",
       " 'CB',\n",
       " 'Normal',\n",
       " 'Lengthy',\n",
       " '72K',\n",
       " '2.70%',\n",
       " '2',\n",
       " '3',\n",
       " 'M',\n",
       " 'H',\n",
       " '81',\n",
       " '60',\n",
       " '71',\n",
       " '72',\n",
       " '91',\n",
       " '86',\n",
       " '193cm | 6\\'4\"',\n",
       " 'Unique  (92kg)',\n",
       " '2933',\n",
       " '461',\n",
       " '2149']"
      ]
     },
     "execution_count": 16,
     "metadata": {},
     "output_type": "execute_result"
    }
   ],
   "source": [
    "attributes = [td.get_text() for td in van_dijk.find_all(\"td\")]\n",
    "attributes = [i.strip() for i in attributes]\n",
    "\n",
    "attributes = flatten_list([i.split(\"\\n\") for i in attributes])\n",
    "attributes = flatten_list([i.split(\"\\\\\") for i in attributes])\n",
    "\n",
    "attributes = [item.strip() for item in attributes if item.strip() != \"\"]\n",
    "\n",
    "player_information = van_dijk.find_all(\"span\")[0].find_all(\"a\")\n",
    "player_information = [item['data-original-title'] for item in player_information]\n",
    "\n",
    "for e, info in enumerate(player_information):\n",
    "    attributes.insert(e + 1, info)\n",
    "    \n",
    "attributes"
   ]
  },
  {
   "cell_type": "code",
   "execution_count": 17,
   "id": "2fabc3bb",
   "metadata": {
    "execution": {
     "iopub.execute_input": "2023-01-06T22:40:14.917224Z",
     "iopub.status.busy": "2023-01-06T22:40:14.916802Z",
     "iopub.status.idle": "2023-01-06T22:40:14.923085Z",
     "shell.execute_reply": "2023-01-06T22:40:14.922131Z"
    },
    "papermill": {
     "duration": 0.027222,
     "end_time": "2023-01-06T22:40:14.925475",
     "exception": false,
     "start_time": "2023-01-06T22:40:14.898253",
     "status": "completed"
    },
    "tags": []
   },
   "outputs": [
    {
     "data": {
      "text/plain": [
       "25"
      ]
     },
     "execution_count": 17,
     "metadata": {},
     "output_type": "execute_result"
    }
   ],
   "source": [
    "len(attributes)"
   ]
  },
  {
   "cell_type": "markdown",
   "id": "7e8757ae",
   "metadata": {
    "papermill": {
     "duration": 0.016058,
     "end_time": "2023-01-06T22:40:14.958119",
     "exception": false,
     "start_time": "2023-01-06T22:40:14.942061",
     "status": "completed"
    },
    "tags": []
   },
   "source": [
    "<div style=\"font-size: 26px; font-family:Inter\"><b>Joining all the steps into a function</b></div>\n",
    "<hr style=\"height:6px; background-color:#9c9598\"></hr>"
   ]
  },
  {
   "cell_type": "code",
   "execution_count": 18,
   "id": "c2dd8181",
   "metadata": {
    "execution": {
     "iopub.execute_input": "2023-01-06T22:40:14.993827Z",
     "iopub.status.busy": "2023-01-06T22:40:14.992623Z",
     "iopub.status.idle": "2023-01-06T22:40:15.002075Z",
     "shell.execute_reply": "2023-01-06T22:40:15.001157Z"
    },
    "papermill": {
     "duration": 0.029919,
     "end_time": "2023-01-06T22:40:15.004904",
     "exception": false,
     "start_time": "2023-01-06T22:40:14.974985",
     "status": "completed"
    },
    "tags": []
   },
   "outputs": [],
   "source": [
    "def get_player_attributes(row):\n",
    "    attributes = [td.get_text() for td in row.find_all(\"td\")]\n",
    "    attributes = [i.strip() for i in attributes]\n",
    "    \n",
    "    attributes = flatten_list([i.split(\"\\n\") for i in attributes])\n",
    "    attributes = flatten_list([i.split(\"\\\\\") for i in attributes])\n",
    "    \n",
    "    attributes = [item.strip() for item in attributes if item.strip() != \"\"]\n",
    "    \n",
    "    # Club, League and Nation\n",
    "    player_information = row.find_all(\"span\")[0].find_all(\"a\")\n",
    "    player_information = [item['data-original-title'] for item in player_information]\n",
    "    \n",
    "    # Adding to the attributes list\n",
    "    for e, info in enumerate(player_information):\n",
    "        attributes.insert(e + 1, info)\n",
    "        \n",
    "    # If a player doesn't have an alternate position\n",
    "    if len(attributes) == 25:\n",
    "        attributes.insert(6, None)\n",
    "    \n",
    "    player_dict = dict(zip(attributes_names, attributes))\n",
    "    return player_dict"
   ]
  },
  {
   "cell_type": "markdown",
   "id": "1d43c8ce",
   "metadata": {
    "papermill": {
     "duration": 0.017021,
     "end_time": "2023-01-06T22:40:15.040008",
     "exception": false,
     "start_time": "2023-01-06T22:40:15.022987",
     "status": "completed"
    },
    "tags": []
   },
   "source": [
    "<div style=\"font-size: 26px; font-family:Inter\"><b>Example with the top 30 gold players</b></div>\n",
    "<hr style=\"height:6px; background-color:#9c9598\"></hr>"
   ]
  },
  {
   "cell_type": "code",
   "execution_count": 19,
   "id": "55186c7b",
   "metadata": {
    "execution": {
     "iopub.execute_input": "2023-01-06T22:40:15.076564Z",
     "iopub.status.busy": "2023-01-06T22:40:15.075223Z",
     "iopub.status.idle": "2023-01-06T22:40:15.085514Z",
     "shell.execute_reply": "2023-01-06T22:40:15.084353Z"
    },
    "papermill": {
     "duration": 0.031327,
     "end_time": "2023-01-06T22:40:15.088046",
     "exception": false,
     "start_time": "2023-01-06T22:40:15.056719",
     "status": "completed"
    },
    "tags": []
   },
   "outputs": [],
   "source": [
    "gold_players_page = soup.find_all(\"tr\")[::2]"
   ]
  },
  {
   "cell_type": "code",
   "execution_count": 20,
   "id": "5f6a56df",
   "metadata": {
    "execution": {
     "iopub.execute_input": "2023-01-06T22:40:15.123407Z",
     "iopub.status.busy": "2023-01-06T22:40:15.123014Z",
     "iopub.status.idle": "2023-01-06T22:40:15.137327Z",
     "shell.execute_reply": "2023-01-06T22:40:15.136076Z"
    },
    "papermill": {
     "duration": 0.03455,
     "end_time": "2023-01-06T22:40:15.139536",
     "exception": false,
     "start_time": "2023-01-06T22:40:15.104986",
     "status": "completed"
    },
    "tags": []
   },
   "outputs": [],
   "source": [
    "top30_gold_players = list()\n",
    "\n",
    "for player_row in gold_players_page:\n",
    "    player_attributes = get_player_attributes(player_row)\n",
    "    top30_gold_players.append(player_attributes)"
   ]
  },
  {
   "cell_type": "code",
   "execution_count": 21,
   "id": "b0ed9a27",
   "metadata": {
    "_kg_hide-input": true,
    "execution": {
     "iopub.execute_input": "2023-01-06T22:40:15.178666Z",
     "iopub.status.busy": "2023-01-06T22:40:15.177899Z",
     "iopub.status.idle": "2023-01-06T22:40:15.214421Z",
     "shell.execute_reply": "2023-01-06T22:40:15.213056Z"
    },
    "papermill": {
     "duration": 0.057667,
     "end_time": "2023-01-06T22:40:15.217142",
     "exception": false,
     "start_time": "2023-01-06T22:40:15.159475",
     "status": "completed"
    },
    "tags": []
   },
   "outputs": [
    {
     "data": {
      "text/html": [
       "<div>\n",
       "<style scoped>\n",
       "    .dataframe tbody tr th:only-of-type {\n",
       "        vertical-align: middle;\n",
       "    }\n",
       "\n",
       "    .dataframe tbody tr th {\n",
       "        vertical-align: top;\n",
       "    }\n",
       "\n",
       "    .dataframe thead th {\n",
       "        text-align: right;\n",
       "    }\n",
       "</style>\n",
       "<table border=\"1\" class=\"dataframe\">\n",
       "  <thead>\n",
       "    <tr style=\"text-align: right;\">\n",
       "      <th></th>\n",
       "      <th>Name</th>\n",
       "      <th>Club</th>\n",
       "      <th>Nation</th>\n",
       "      <th>League</th>\n",
       "      <th>Rating</th>\n",
       "      <th>Main_Position</th>\n",
       "      <th>Alternate_Positions</th>\n",
       "      <th>Card_Version</th>\n",
       "      <th>Run_Style</th>\n",
       "      <th>Price</th>\n",
       "      <th>...</th>\n",
       "      <th>Shooting / Handling</th>\n",
       "      <th>Passing / Kicking</th>\n",
       "      <th>Dribbling / Reflexes</th>\n",
       "      <th>Defense / Speed</th>\n",
       "      <th>Physical / Positioning</th>\n",
       "      <th>Height</th>\n",
       "      <th>BodyType</th>\n",
       "      <th>Popularity</th>\n",
       "      <th>Base_Stats</th>\n",
       "      <th>Ingame_Stats</th>\n",
       "    </tr>\n",
       "  </thead>\n",
       "  <tbody>\n",
       "    <tr>\n",
       "      <th>0</th>\n",
       "      <td>Karim Benzema</td>\n",
       "      <td>Real Madrid</td>\n",
       "      <td>France</td>\n",
       "      <td>LaLiga Santander</td>\n",
       "      <td>91</td>\n",
       "      <td>CF</td>\n",
       "      <td>ST</td>\n",
       "      <td>Normal</td>\n",
       "      <td>Controlled</td>\n",
       "      <td>66.5K</td>\n",
       "      <td>...</td>\n",
       "      <td>88</td>\n",
       "      <td>83</td>\n",
       "      <td>87</td>\n",
       "      <td>39</td>\n",
       "      <td>78</td>\n",
       "      <td>185cm | 6'1\"</td>\n",
       "      <td>Average  (81kg)</td>\n",
       "      <td>3557</td>\n",
       "      <td>455</td>\n",
       "      <td>2196</td>\n",
       "    </tr>\n",
       "    <tr>\n",
       "      <th>1</th>\n",
       "      <td>Robert Lewandowski</td>\n",
       "      <td>FC Barcelona</td>\n",
       "      <td>Poland</td>\n",
       "      <td>LaLiga Santander</td>\n",
       "      <td>91</td>\n",
       "      <td>ST</td>\n",
       "      <td>CF</td>\n",
       "      <td>Normal</td>\n",
       "      <td>Controlled</td>\n",
       "      <td>68.5K</td>\n",
       "      <td>...</td>\n",
       "      <td>91</td>\n",
       "      <td>79</td>\n",
       "      <td>86</td>\n",
       "      <td>44</td>\n",
       "      <td>83</td>\n",
       "      <td>185cm | 6'1\"</td>\n",
       "      <td>Unique  (81kg)</td>\n",
       "      <td>1108</td>\n",
       "      <td>458</td>\n",
       "      <td>2242</td>\n",
       "    </tr>\n",
       "    <tr>\n",
       "      <th>2</th>\n",
       "      <td>Kylian Mbappé</td>\n",
       "      <td>Paris SG</td>\n",
       "      <td>France</td>\n",
       "      <td>Ligue 1</td>\n",
       "      <td>91</td>\n",
       "      <td>ST</td>\n",
       "      <td>CF,LW</td>\n",
       "      <td>Normal</td>\n",
       "      <td>Controlled</td>\n",
       "      <td>835K</td>\n",
       "      <td>...</td>\n",
       "      <td>89</td>\n",
       "      <td>80</td>\n",
       "      <td>92</td>\n",
       "      <td>36</td>\n",
       "      <td>76</td>\n",
       "      <td>182cm | 6'0\"</td>\n",
       "      <td>Unique  (73kg)</td>\n",
       "      <td>-1999</td>\n",
       "      <td>470</td>\n",
       "      <td>2223</td>\n",
       "    </tr>\n",
       "    <tr>\n",
       "      <th>3</th>\n",
       "      <td>Kevin De Bruyne</td>\n",
       "      <td>Manchester City</td>\n",
       "      <td>Belgium</td>\n",
       "      <td>Premier League</td>\n",
       "      <td>91</td>\n",
       "      <td>CM</td>\n",
       "      <td>CAM</td>\n",
       "      <td>Normal</td>\n",
       "      <td>Controlled</td>\n",
       "      <td>67K</td>\n",
       "      <td>...</td>\n",
       "      <td>88</td>\n",
       "      <td>93</td>\n",
       "      <td>87</td>\n",
       "      <td>64</td>\n",
       "      <td>77</td>\n",
       "      <td>181cm | 5'11\"</td>\n",
       "      <td>Unique  (70kg)</td>\n",
       "      <td>1873</td>\n",
       "      <td>483</td>\n",
       "      <td>2336</td>\n",
       "    </tr>\n",
       "    <tr>\n",
       "      <th>4</th>\n",
       "      <td>Lionel Messi</td>\n",
       "      <td>Paris SG</td>\n",
       "      <td>Argentina</td>\n",
       "      <td>Ligue 1</td>\n",
       "      <td>91</td>\n",
       "      <td>RW</td>\n",
       "      <td>RM</td>\n",
       "      <td>Normal</td>\n",
       "      <td>Explosive</td>\n",
       "      <td>70K</td>\n",
       "      <td>...</td>\n",
       "      <td>89</td>\n",
       "      <td>90</td>\n",
       "      <td>94</td>\n",
       "      <td>34</td>\n",
       "      <td>64</td>\n",
       "      <td>169cm | 5'7\"</td>\n",
       "      <td>Messi  (67kg)</td>\n",
       "      <td>2766</td>\n",
       "      <td>452</td>\n",
       "      <td>2232</td>\n",
       "    </tr>\n",
       "  </tbody>\n",
       "</table>\n",
       "<p>5 rows × 26 columns</p>\n",
       "</div>"
      ],
      "text/plain": [
       "                 Name             Club     Nation            League Rating  \\\n",
       "0       Karim Benzema      Real Madrid     France  LaLiga Santander     91   \n",
       "1  Robert Lewandowski     FC Barcelona     Poland  LaLiga Santander     91   \n",
       "2       Kylian Mbappé         Paris SG     France           Ligue 1     91   \n",
       "3     Kevin De Bruyne  Manchester City    Belgium    Premier League     91   \n",
       "4        Lionel Messi         Paris SG  Argentina           Ligue 1     91   \n",
       "\n",
       "  Main_Position Alternate_Positions Card_Version   Run_Style  Price  ...  \\\n",
       "0            CF                  ST       Normal  Controlled  66.5K  ...   \n",
       "1            ST                  CF       Normal  Controlled  68.5K  ...   \n",
       "2            ST               CF,LW       Normal  Controlled   835K  ...   \n",
       "3            CM                 CAM       Normal  Controlled    67K  ...   \n",
       "4            RW                  RM       Normal   Explosive    70K  ...   \n",
       "\n",
       "  Shooting / Handling Passing / Kicking Dribbling / Reflexes Defense / Speed  \\\n",
       "0                  88                83                   87              39   \n",
       "1                  91                79                   86              44   \n",
       "2                  89                80                   92              36   \n",
       "3                  88                93                   87              64   \n",
       "4                  89                90                   94              34   \n",
       "\n",
       "  Physical / Positioning         Height         BodyType Popularity  \\\n",
       "0                     78   185cm | 6'1\"  Average  (81kg)       3557   \n",
       "1                     83   185cm | 6'1\"   Unique  (81kg)       1108   \n",
       "2                     76   182cm | 6'0\"   Unique  (73kg)      -1999   \n",
       "3                     77  181cm | 5'11\"   Unique  (70kg)       1873   \n",
       "4                     64   169cm | 5'7\"    Messi  (67kg)       2766   \n",
       "\n",
       "  Base_Stats Ingame_Stats  \n",
       "0        455         2196  \n",
       "1        458         2242  \n",
       "2        470         2223  \n",
       "3        483         2336  \n",
       "4        452         2232  \n",
       "\n",
       "[5 rows x 26 columns]"
      ]
     },
     "execution_count": 21,
     "metadata": {},
     "output_type": "execute_result"
    }
   ],
   "source": [
    "top30_gold_players = pd.DataFrame(top30_gold_players)\n",
    "top30_gold_players.head()"
   ]
  },
  {
   "cell_type": "markdown",
   "id": "27945cf8",
   "metadata": {
    "papermill": {
     "duration": 0.01728,
     "end_time": "2023-01-06T22:40:15.252690",
     "exception": false,
     "start_time": "2023-01-06T22:40:15.235410",
     "status": "completed"
    },
    "tags": []
   },
   "source": [
    "<div style=\"font-family:Inter; text-align:center; font-size:36px;\n",
    "            background-color:#ead1dc; border-radius: 20px; padding: 10px\">\n",
    "    <b>Missing Values</b></div>"
   ]
  },
  {
   "cell_type": "markdown",
   "id": "9be7edaf",
   "metadata": {
    "papermill": {
     "duration": 0.017641,
     "end_time": "2023-01-06T22:40:15.288799",
     "exception": false,
     "start_time": "2023-01-06T22:40:15.271158",
     "status": "completed"
    },
    "tags": []
   },
   "source": [
    "<div style=\"font-size: 26px; font-family:Inter\"><b>Casillas Problem</b></div>\n",
    "<hr style=\"height:6px; background-color:#9c9598\"></hr>\n",
    "<p style=\"font-size: 16px; font-family:Inter\">For example, Casillas doesn't have height neither bodytype, besides the alternate position, like a few players as Cafu, that doesn't have the bodytype.</p> \n",
    "<p style=\"font-size: 16px; font-family:Inter\">The solution for the problem is to find what differentiates the height and bodytype from the other attributes. The height has its separator \"|\" (differs cm to feet) while bodytype contains the weight of the player in \"()\".</p>\n",
    "<p style=\"font-size: 16px; font-family:Inter\">So if a player doens't have the separator \"|\" in any of his attributes, it means that he doenst' have height, so it completes with \"0\" or \"Other\". The same way for bodytype.</p>"
   ]
  },
  {
   "cell_type": "code",
   "execution_count": 22,
   "id": "c5c85d18",
   "metadata": {
    "_kg_hide-input": true,
    "execution": {
     "iopub.execute_input": "2023-01-06T22:40:15.326608Z",
     "iopub.status.busy": "2023-01-06T22:40:15.325343Z",
     "iopub.status.idle": "2023-01-06T22:40:16.934803Z",
     "shell.execute_reply": "2023-01-06T22:40:16.933339Z"
    },
    "papermill": {
     "duration": 1.631098,
     "end_time": "2023-01-06T22:40:16.937969",
     "exception": false,
     "start_time": "2023-01-06T22:40:15.306871",
     "status": "completed"
    },
    "tags": []
   },
   "outputs": [],
   "source": [
    "page = \"https://www.futbin.com/players?page=3&pos_type=all\"\n",
    "\n",
    "headers = {'User-Agent': 'Mozilla/5.0'}\n",
    "req = Request(page, headers=headers)\n",
    "response = urlopen(req)\n",
    "html = response.read()\n",
    "\n",
    "\n",
    "soup_p = BeautifulSoup(html, 'html.parser')"
   ]
  },
  {
   "cell_type": "code",
   "execution_count": 23,
   "id": "d1fbcd05",
   "metadata": {
    "execution": {
     "iopub.execute_input": "2023-01-06T22:40:16.977101Z",
     "iopub.status.busy": "2023-01-06T22:40:16.976671Z",
     "iopub.status.idle": "2023-01-06T22:40:16.986714Z",
     "shell.execute_reply": "2023-01-06T22:40:16.985575Z"
    },
    "papermill": {
     "duration": 0.033564,
     "end_time": "2023-01-06T22:40:16.989301",
     "exception": false,
     "start_time": "2023-01-06T22:40:16.955737",
     "status": "completed"
    },
    "tags": []
   },
   "outputs": [],
   "source": [
    "casillas = soup_p.find_all(\"tr\")[32]"
   ]
  },
  {
   "cell_type": "code",
   "execution_count": 24,
   "id": "696eb42b",
   "metadata": {
    "_kg_hide-input": true,
    "execution": {
     "iopub.execute_input": "2023-01-06T22:40:17.026735Z",
     "iopub.status.busy": "2023-01-06T22:40:17.026050Z",
     "iopub.status.idle": "2023-01-06T22:40:17.036223Z",
     "shell.execute_reply": "2023-01-06T22:40:17.034993Z"
    },
    "papermill": {
     "duration": 0.031843,
     "end_time": "2023-01-06T22:40:17.038549",
     "exception": false,
     "start_time": "2023-01-06T22:40:17.006706",
     "status": "completed"
    },
    "tags": []
   },
   "outputs": [
    {
     "data": {
      "text/plain": [
       "['Casillas Fernández',\n",
       " '92',\n",
       " 'GK',\n",
       " 'Icon',\n",
       " 'Controlled',\n",
       " '489K',\n",
       " '2.09%',\n",
       " '1',\n",
       " '3',\n",
       " 'M',\n",
       " 'M',\n",
       " '93',\n",
       " '89',\n",
       " '85',\n",
       " '95',\n",
       " '60',\n",
       " '91',\n",
       " '76',\n",
       " '513',\n",
       " '1355']"
      ]
     },
     "execution_count": 24,
     "metadata": {},
     "output_type": "execute_result"
    }
   ],
   "source": [
    "c_attributes = [td.get_text() for td in casillas.find_all(\"td\")]\n",
    "c_attributes = [i.strip() for i in c_attributes]\n",
    "\n",
    "c_attributes = flatten_list([i.split(\"\\n\") for i in c_attributes])\n",
    "c_attributes = flatten_list([i.split(\"\\\\\") for i in c_attributes])\n",
    "c_attributes = [i.strip() for i in c_attributes if i.strip() != \"\"]\n",
    "c_attributes"
   ]
  },
  {
   "cell_type": "markdown",
   "id": "be18724b",
   "metadata": {
    "papermill": {
     "duration": 0.017468,
     "end_time": "2023-01-06T22:40:17.073946",
     "exception": false,
     "start_time": "2023-01-06T22:40:17.056478",
     "status": "completed"
    },
    "tags": []
   },
   "source": [
    "<div style=\"font-size: 26px; font-family:Inter\"><b>Function to find these missing values</b></div>\n",
    "<hr style=\"height:6px; background-color:#9c9598\"></hr>\n",
    "<p style=\"font-size: 16px; font-family:Inter\"> It iterates for the attributes list and returns False if doesn't contain. If the function find the separator in an item it will break the loop and the value will keep his True value, meaning that it found and the player has the attribute.</p>"
   ]
  },
  {
   "cell_type": "code",
   "execution_count": 25,
   "id": "3f58a685",
   "metadata": {
    "execution": {
     "iopub.execute_input": "2023-01-06T22:40:17.111653Z",
     "iopub.status.busy": "2023-01-06T22:40:17.111194Z",
     "iopub.status.idle": "2023-01-06T22:40:17.117750Z",
     "shell.execute_reply": "2023-01-06T22:40:17.116539Z"
    },
    "papermill": {
     "duration": 0.027695,
     "end_time": "2023-01-06T22:40:17.120099",
     "exception": false,
     "start_time": "2023-01-06T22:40:17.092404",
     "status": "completed"
    },
    "tags": []
   },
   "outputs": [],
   "source": [
    "def find_missing_att(list_att, sep):\n",
    "    '''Iterates for the attributes list and  returns False if doesn't contain.\n",
    "    If the function find the separator in an item it will break the loop and \n",
    "    the value will keep his True value, meaning that it found and the player has\n",
    "    the attribute.'''\n",
    "    for att in list_att:\n",
    "        value = sep in att\n",
    "        if value:\n",
    "            break\n",
    "            \n",
    "    return value"
   ]
  },
  {
   "cell_type": "markdown",
   "id": "34a56fbb",
   "metadata": {
    "papermill": {
     "duration": 0.017757,
     "end_time": "2023-01-06T22:40:17.154599",
     "exception": false,
     "start_time": "2023-01-06T22:40:17.136842",
     "status": "completed"
    },
    "tags": []
   },
   "source": [
    "<div style=\"font-size: 26px; font-family:Inter\"><b>Searching for height using \"|\"</b></div>\n",
    "<hr style=\"height:6px; background-color:#9c9598\"></hr>"
   ]
  },
  {
   "cell_type": "code",
   "execution_count": 26,
   "id": "b7738640",
   "metadata": {
    "execution": {
     "iopub.execute_input": "2023-01-06T22:40:17.192919Z",
     "iopub.status.busy": "2023-01-06T22:40:17.192194Z",
     "iopub.status.idle": "2023-01-06T22:40:17.198817Z",
     "shell.execute_reply": "2023-01-06T22:40:17.197457Z"
    },
    "papermill": {
     "duration": 0.028434,
     "end_time": "2023-01-06T22:40:17.201261",
     "exception": false,
     "start_time": "2023-01-06T22:40:17.172827",
     "status": "completed"
    },
    "tags": []
   },
   "outputs": [
    {
     "name": "stdout",
     "output_type": "stream",
     "text": [
      "Casillas (don't have):  False\n",
      "Van Dijk (have):  True\n"
     ]
    }
   ],
   "source": [
    "# Searching for height using \"|\"\n",
    "print(\"Casillas (don't have): \", find_missing_att(c_attributes, \"|\"))\n",
    "print(\"Van Dijk (have): \", find_missing_att(attributes, \"|\"))"
   ]
  },
  {
   "cell_type": "markdown",
   "id": "1d3b1d49",
   "metadata": {
    "papermill": {
     "duration": 0.017484,
     "end_time": "2023-01-06T22:40:17.235917",
     "exception": false,
     "start_time": "2023-01-06T22:40:17.218433",
     "status": "completed"
    },
    "tags": []
   },
   "source": [
    "<div style=\"font-size: 26px; font-family:Inter\"><b>Searching for bodytype / weight using \"(\"</b></div>\n",
    "<hr style=\"height:6px; background-color:#9c9598\"></hr>"
   ]
  },
  {
   "cell_type": "code",
   "execution_count": 27,
   "id": "a1fb6f09",
   "metadata": {
    "execution": {
     "iopub.execute_input": "2023-01-06T22:40:17.272748Z",
     "iopub.status.busy": "2023-01-06T22:40:17.272301Z",
     "iopub.status.idle": "2023-01-06T22:40:17.279437Z",
     "shell.execute_reply": "2023-01-06T22:40:17.277793Z"
    },
    "papermill": {
     "duration": 0.028978,
     "end_time": "2023-01-06T22:40:17.282429",
     "exception": false,
     "start_time": "2023-01-06T22:40:17.253451",
     "status": "completed"
    },
    "tags": []
   },
   "outputs": [
    {
     "name": "stdout",
     "output_type": "stream",
     "text": [
      "Casillas (don't have):  False\n",
      "Van Dijk (have):  True\n"
     ]
    }
   ],
   "source": [
    "# Searching for bodytype / weight using \"(\"\n",
    "print(\"Casillas (don't have): \", find_missing_att(c_attributes, \"(\"))\n",
    "print(\"Van Dijk (have): \", find_missing_att(attributes, \"(\"))"
   ]
  },
  {
   "cell_type": "markdown",
   "id": "965cd0a8",
   "metadata": {
    "papermill": {
     "duration": 0.017957,
     "end_time": "2023-01-06T22:40:17.319950",
     "exception": false,
     "start_time": "2023-01-06T22:40:17.301993",
     "status": "completed"
    },
    "tags": []
   },
   "source": [
    "<div style=\"font-size: 26px; font-family:Inter\"><b>Update the searching function</b></div>\n",
    "<hr style=\"height:6px; background-color:#9c9598\"></hr>"
   ]
  },
  {
   "cell_type": "code",
   "execution_count": 28,
   "id": "f32d5b7f",
   "metadata": {
    "execution": {
     "iopub.execute_input": "2023-01-06T22:40:17.357064Z",
     "iopub.status.busy": "2023-01-06T22:40:17.356620Z",
     "iopub.status.idle": "2023-01-06T22:40:17.369170Z",
     "shell.execute_reply": "2023-01-06T22:40:17.367700Z"
    },
    "papermill": {
     "duration": 0.033991,
     "end_time": "2023-01-06T22:40:17.371824",
     "exception": false,
     "start_time": "2023-01-06T22:40:17.337833",
     "status": "completed"
    },
    "tags": []
   },
   "outputs": [],
   "source": [
    "def get_player_attributes(row):\n",
    "    attributes = [td.get_text() for td in row.find_all(\"td\")]\n",
    "    attributes = [i.strip() for i in attributes]\n",
    "    \n",
    "    attributes = flatten_list([i.split(\"\\n\") for i in attributes])\n",
    "    attributes = flatten_list([i.split(\"\\\\\") for i in attributes])\n",
    "    \n",
    "    attributes = [item.strip() for item in attributes if item.strip() != \"\"]\n",
    "    \n",
    "    # Club, League and Nation\n",
    "    player_information = row.find_all(\"span\")[0].find_all(\"a\")\n",
    "    player_information = [item['data-original-title'] for item in player_information]\n",
    "    \n",
    "    # Adding to the attributes list\n",
    "    for e, info in enumerate(player_information):\n",
    "        attributes.insert(e + 1, info)\n",
    "    \n",
    "    # Searching for missing values\n",
    "    ## Height\n",
    "    if not find_missing_att(attributes, \"|\"):\n",
    "        attributes.insert(-3, \"0\")\n",
    "    ## BodyType -- completed with the most common\n",
    "    if not find_missing_att(attributes, \"(\"):\n",
    "        attributes.insert(-3, \"Normal\")\n",
    "    ## Price Variation:\n",
    "    if not find_missing_att(attributes, \"%\"):\n",
    "        attributes.insert(10, \"0\")\n",
    "        \n",
    "    # Player doesn't have card version labeled\n",
    "    runstyle = [\"Controlled\", \"Explosive\", \"Lengthy\"]\n",
    "    if len(attributes) < 25:\n",
    "        for style in runstyle:\n",
    "            if style in attributes:\n",
    "                index = attributes.index(style)\n",
    "                attributes.insert(index - 1, \"Normal\")\n",
    "    \n",
    "    # If a player doesn't have an alternate position\n",
    "    if len(attributes) == 25:\n",
    "        attributes.insert(6, \"0\")\n",
    "    \n",
    "    player_dict = dict(zip(attributes_names, attributes))\n",
    "    return player_dict"
   ]
  },
  {
   "cell_type": "code",
   "execution_count": 29,
   "id": "233eeadc",
   "metadata": {
    "execution": {
     "iopub.execute_input": "2023-01-06T22:40:17.408394Z",
     "iopub.status.busy": "2023-01-06T22:40:17.407957Z",
     "iopub.status.idle": "2023-01-06T22:40:17.416576Z",
     "shell.execute_reply": "2023-01-06T22:40:17.415309Z"
    },
    "papermill": {
     "duration": 0.029939,
     "end_time": "2023-01-06T22:40:17.419631",
     "exception": false,
     "start_time": "2023-01-06T22:40:17.389692",
     "status": "completed"
    },
    "tags": []
   },
   "outputs": [
    {
     "data": {
      "text/plain": [
       "{'Name': 'Casillas Fernández',\n",
       " 'Club': 'FUT ICONS',\n",
       " 'Nation': 'Spain',\n",
       " 'League': 'Icons',\n",
       " 'Rating': '92',\n",
       " 'Main_Position': 'GK',\n",
       " 'Alternate_Positions': '0',\n",
       " 'Card_Version': 'Icon',\n",
       " 'Run_Style': 'Controlled',\n",
       " 'Price': '489K',\n",
       " 'Price_Variation': '2.09%',\n",
       " 'Skills_Star': '1',\n",
       " 'Weak_Foot_Star': '3',\n",
       " 'Attack_Workrate': 'M',\n",
       " 'Defense_Workrate': 'M',\n",
       " 'Pace / Diving': '93',\n",
       " 'Shooting / Handling': '89',\n",
       " 'Passing / Kicking': '85',\n",
       " 'Dribbling / Reflexes': '95',\n",
       " 'Defense / Speed': '60',\n",
       " 'Physical / Positioning': '91',\n",
       " 'Height': '0',\n",
       " 'BodyType': 'Normal',\n",
       " 'Popularity': '76',\n",
       " 'Base_Stats': '513',\n",
       " 'Ingame_Stats': '1355'}"
      ]
     },
     "execution_count": 29,
     "metadata": {},
     "output_type": "execute_result"
    }
   ],
   "source": [
    "get_player_attributes(casillas)"
   ]
  },
  {
   "cell_type": "markdown",
   "id": "2d5710b1",
   "metadata": {
    "papermill": {
     "duration": 0.016703,
     "end_time": "2023-01-06T22:40:17.453580",
     "exception": false,
     "start_time": "2023-01-06T22:40:17.436877",
     "status": "completed"
    },
    "tags": []
   },
   "source": [
    "<div style=\"font-family:Inter; text-align:center; font-size:36px;\n",
    "            background-color:#ead1dc; border-radius: 20px; padding: 10px\">\n",
    "    <b>Pipeline to iterate through pages</b></div>"
   ]
  },
  {
   "cell_type": "code",
   "execution_count": 30,
   "id": "0dc48ef8",
   "metadata": {
    "execution": {
     "iopub.execute_input": "2023-01-06T22:40:17.491519Z",
     "iopub.status.busy": "2023-01-06T22:40:17.491036Z",
     "iopub.status.idle": "2023-01-06T22:40:17.496879Z",
     "shell.execute_reply": "2023-01-06T22:40:17.495794Z"
    },
    "papermill": {
     "duration": 0.027513,
     "end_time": "2023-01-06T22:40:17.499057",
     "exception": false,
     "start_time": "2023-01-06T22:40:17.471544",
     "status": "completed"
    },
    "tags": []
   },
   "outputs": [],
   "source": [
    "def authentication_page(page):\n",
    "    headers = {'User-Agent': 'Mozilla/5.0'}\n",
    "    req = Request(page, headers=headers)\n",
    "    response = urlopen(req)\n",
    "    html = response.read()\n",
    "    soup_a = BeautifulSoup(html, 'html.parser')\n",
    "    return soup_a"
   ]
  },
  {
   "cell_type": "code",
   "execution_count": 31,
   "id": "285216f1",
   "metadata": {
    "execution": {
     "iopub.execute_input": "2023-01-06T22:40:17.537308Z",
     "iopub.status.busy": "2023-01-06T22:40:17.536860Z",
     "iopub.status.idle": "2023-01-06T22:40:17.543732Z",
     "shell.execute_reply": "2023-01-06T22:40:17.542569Z"
    },
    "papermill": {
     "duration": 0.029162,
     "end_time": "2023-01-06T22:40:17.546340",
     "exception": false,
     "start_time": "2023-01-06T22:40:17.517178",
     "status": "completed"
    },
    "tags": []
   },
   "outputs": [],
   "source": [
    "def iterate_for_page(index):\n",
    "    page_url = \"https://www.futbin.com/players?page=\" + str(index)\n",
    "    \n",
    "    # Authentication\n",
    "    soup_p = authentication_page(page_url)\n",
    "    \n",
    "    # Getting the players from the page\n",
    "    page_players = soup_p.find_all(\"tr\")[::2]\n",
    "    page_dataframe = list()\n",
    "    \n",
    "    # Iteration\n",
    "    for player_row in page_players:\n",
    "        player_attributes = get_player_attributes(player_row)\n",
    "        page_dataframe.append(player_attributes)\n",
    "        \n",
    "    page_dataframe = pd.DataFrame(page_dataframe)\n",
    "    return page_dataframe"
   ]
  },
  {
   "cell_type": "markdown",
   "id": "e7e748ef",
   "metadata": {
    "papermill": {
     "duration": 0.017136,
     "end_time": "2023-01-06T22:40:17.581084",
     "exception": false,
     "start_time": "2023-01-06T22:40:17.563948",
     "status": "completed"
    },
    "tags": []
   },
   "source": [
    "<div style=\"font-size: 26px; font-family:Inter\"><b>Test until page 10</b></div>\n",
    "<hr style=\"height:6px; background-color:#9c9598\"></hr>"
   ]
  },
  {
   "cell_type": "code",
   "execution_count": 32,
   "id": "5925aa74",
   "metadata": {
    "execution": {
     "iopub.execute_input": "2023-01-06T22:40:17.618086Z",
     "iopub.status.busy": "2023-01-06T22:40:17.617640Z",
     "iopub.status.idle": "2023-01-06T22:40:33.323909Z",
     "shell.execute_reply": "2023-01-06T22:40:33.322619Z"
    },
    "papermill": {
     "duration": 15.727884,
     "end_time": "2023-01-06T22:40:33.326775",
     "exception": false,
     "start_time": "2023-01-06T22:40:17.598891",
     "status": "completed"
    },
    "tags": []
   },
   "outputs": [],
   "source": [
    "# Test until page 10\n",
    "players_till_10 = pd.DataFrame([])\n",
    "for i in range(10):\n",
    "    page_df = iterate_for_page(i + 1)\n",
    "    players_till_10 = pd.concat([players_till_10, page_df])"
   ]
  },
  {
   "cell_type": "code",
   "execution_count": 33,
   "id": "8a398208",
   "metadata": {
    "execution": {
     "iopub.execute_input": "2023-01-06T22:40:33.363032Z",
     "iopub.status.busy": "2023-01-06T22:40:33.362639Z",
     "iopub.status.idle": "2023-01-06T22:40:33.407462Z",
     "shell.execute_reply": "2023-01-06T22:40:33.406190Z"
    },
    "papermill": {
     "duration": 0.066178,
     "end_time": "2023-01-06T22:40:33.410154",
     "exception": false,
     "start_time": "2023-01-06T22:40:33.343976",
     "status": "completed"
    },
    "tags": []
   },
   "outputs": [
    {
     "data": {
      "text/html": [
       "<div>\n",
       "<style scoped>\n",
       "    .dataframe tbody tr th:only-of-type {\n",
       "        vertical-align: middle;\n",
       "    }\n",
       "\n",
       "    .dataframe tbody tr th {\n",
       "        vertical-align: top;\n",
       "    }\n",
       "\n",
       "    .dataframe thead th {\n",
       "        text-align: right;\n",
       "    }\n",
       "</style>\n",
       "<table border=\"1\" class=\"dataframe\">\n",
       "  <thead>\n",
       "    <tr style=\"text-align: right;\">\n",
       "      <th></th>\n",
       "      <th>Name</th>\n",
       "      <th>Club</th>\n",
       "      <th>Nation</th>\n",
       "      <th>League</th>\n",
       "      <th>Rating</th>\n",
       "      <th>Main_Position</th>\n",
       "      <th>Alternate_Positions</th>\n",
       "      <th>Card_Version</th>\n",
       "      <th>Run_Style</th>\n",
       "      <th>Price</th>\n",
       "      <th>...</th>\n",
       "      <th>Shooting / Handling</th>\n",
       "      <th>Passing / Kicking</th>\n",
       "      <th>Dribbling / Reflexes</th>\n",
       "      <th>Defense / Speed</th>\n",
       "      <th>Physical / Positioning</th>\n",
       "      <th>Height</th>\n",
       "      <th>BodyType</th>\n",
       "      <th>Popularity</th>\n",
       "      <th>Base_Stats</th>\n",
       "      <th>Ingame_Stats</th>\n",
       "    </tr>\n",
       "  </thead>\n",
       "  <tbody>\n",
       "    <tr>\n",
       "      <th>0</th>\n",
       "      <td>Pelé</td>\n",
       "      <td>FUT ICONS</td>\n",
       "      <td>Brazil</td>\n",
       "      <td>Icons</td>\n",
       "      <td>98</td>\n",
       "      <td>CAM</td>\n",
       "      <td>CF,ST</td>\n",
       "      <td>Icon</td>\n",
       "      <td>Explosive</td>\n",
       "      <td>4.85M</td>\n",
       "      <td>...</td>\n",
       "      <td>96</td>\n",
       "      <td>93</td>\n",
       "      <td>96</td>\n",
       "      <td>60</td>\n",
       "      <td>76</td>\n",
       "      <td>173cm | 5'8\"</td>\n",
       "      <td>Unique  (70kg)</td>\n",
       "      <td>2925</td>\n",
       "      <td>516</td>\n",
       "      <td>2513</td>\n",
       "    </tr>\n",
       "    <tr>\n",
       "      <th>1</th>\n",
       "      <td>Ronaldo</td>\n",
       "      <td>FUT ICONS</td>\n",
       "      <td>Brazil</td>\n",
       "      <td>Icons</td>\n",
       "      <td>96</td>\n",
       "      <td>ST</td>\n",
       "      <td>CF</td>\n",
       "      <td>Icon</td>\n",
       "      <td>Controlled</td>\n",
       "      <td>9.7M</td>\n",
       "      <td>...</td>\n",
       "      <td>95</td>\n",
       "      <td>81</td>\n",
       "      <td>95</td>\n",
       "      <td>45</td>\n",
       "      <td>76</td>\n",
       "      <td>183cm | 6'0\"</td>\n",
       "      <td>R9  (78kg)</td>\n",
       "      <td>3170</td>\n",
       "      <td>489</td>\n",
       "      <td>2341</td>\n",
       "    </tr>\n",
       "    <tr>\n",
       "      <th>2</th>\n",
       "      <td>Zinedine Zidane</td>\n",
       "      <td>FUT ICONS</td>\n",
       "      <td>France</td>\n",
       "      <td>Icons</td>\n",
       "      <td>96</td>\n",
       "      <td>CAM</td>\n",
       "      <td>CM</td>\n",
       "      <td>Icon</td>\n",
       "      <td>Controlled</td>\n",
       "      <td>2.94M</td>\n",
       "      <td>...</td>\n",
       "      <td>92</td>\n",
       "      <td>96</td>\n",
       "      <td>95</td>\n",
       "      <td>75</td>\n",
       "      <td>86</td>\n",
       "      <td>185cm | 6'1\"</td>\n",
       "      <td>Average  (77kg)</td>\n",
       "      <td>1175</td>\n",
       "      <td>529</td>\n",
       "      <td>2548</td>\n",
       "    </tr>\n",
       "    <tr>\n",
       "      <th>3</th>\n",
       "      <td>Pelé</td>\n",
       "      <td>FUT ICONS</td>\n",
       "      <td>Brazil</td>\n",
       "      <td>Icons</td>\n",
       "      <td>96</td>\n",
       "      <td>CF</td>\n",
       "      <td>CAM,ST</td>\n",
       "      <td>World Cup ICON</td>\n",
       "      <td>Explosive</td>\n",
       "      <td>3.9M</td>\n",
       "      <td>...</td>\n",
       "      <td>94</td>\n",
       "      <td>92</td>\n",
       "      <td>95</td>\n",
       "      <td>58</td>\n",
       "      <td>75</td>\n",
       "      <td>173cm | 5'8\"</td>\n",
       "      <td>Unique  (70kg)</td>\n",
       "      <td>914</td>\n",
       "      <td>510</td>\n",
       "      <td>2475</td>\n",
       "    </tr>\n",
       "    <tr>\n",
       "      <th>4</th>\n",
       "      <td>Pelé</td>\n",
       "      <td>FUT ICONS</td>\n",
       "      <td>Brazil</td>\n",
       "      <td>Icons</td>\n",
       "      <td>95</td>\n",
       "      <td>CF</td>\n",
       "      <td>CAM,ST</td>\n",
       "      <td>Icon</td>\n",
       "      <td>Explosive</td>\n",
       "      <td>3.1M</td>\n",
       "      <td>...</td>\n",
       "      <td>93</td>\n",
       "      <td>90</td>\n",
       "      <td>95</td>\n",
       "      <td>56</td>\n",
       "      <td>75</td>\n",
       "      <td>173cm | 5'8\"</td>\n",
       "      <td>Unique  (69kg)</td>\n",
       "      <td>1763</td>\n",
       "      <td>505</td>\n",
       "      <td>2452</td>\n",
       "    </tr>\n",
       "  </tbody>\n",
       "</table>\n",
       "<p>5 rows × 26 columns</p>\n",
       "</div>"
      ],
      "text/plain": [
       "              Name       Club  Nation League Rating Main_Position  \\\n",
       "0             Pelé  FUT ICONS  Brazil  Icons     98           CAM   \n",
       "1          Ronaldo  FUT ICONS  Brazil  Icons     96            ST   \n",
       "2  Zinedine Zidane  FUT ICONS  France  Icons     96           CAM   \n",
       "3             Pelé  FUT ICONS  Brazil  Icons     96            CF   \n",
       "4             Pelé  FUT ICONS  Brazil  Icons     95            CF   \n",
       "\n",
       "  Alternate_Positions    Card_Version   Run_Style  Price  ...  \\\n",
       "0               CF,ST            Icon   Explosive  4.85M  ...   \n",
       "1                  CF            Icon  Controlled   9.7M  ...   \n",
       "2                  CM            Icon  Controlled  2.94M  ...   \n",
       "3              CAM,ST  World Cup ICON   Explosive   3.9M  ...   \n",
       "4              CAM,ST            Icon   Explosive   3.1M  ...   \n",
       "\n",
       "  Shooting / Handling Passing / Kicking Dribbling / Reflexes Defense / Speed  \\\n",
       "0                  96                93                   96              60   \n",
       "1                  95                81                   95              45   \n",
       "2                  92                96                   95              75   \n",
       "3                  94                92                   95              58   \n",
       "4                  93                90                   95              56   \n",
       "\n",
       "  Physical / Positioning        Height         BodyType Popularity Base_Stats  \\\n",
       "0                     76  173cm | 5'8\"   Unique  (70kg)       2925        516   \n",
       "1                     76  183cm | 6'0\"       R9  (78kg)       3170        489   \n",
       "2                     86  185cm | 6'1\"  Average  (77kg)       1175        529   \n",
       "3                     75  173cm | 5'8\"   Unique  (70kg)        914        510   \n",
       "4                     75  173cm | 5'8\"   Unique  (69kg)       1763        505   \n",
       "\n",
       "  Ingame_Stats  \n",
       "0         2513  \n",
       "1         2341  \n",
       "2         2548  \n",
       "3         2475  \n",
       "4         2452  \n",
       "\n",
       "[5 rows x 26 columns]"
      ]
     },
     "metadata": {},
     "output_type": "display_data"
    },
    {
     "data": {
      "text/html": [
       "<div>\n",
       "<style scoped>\n",
       "    .dataframe tbody tr th:only-of-type {\n",
       "        vertical-align: middle;\n",
       "    }\n",
       "\n",
       "    .dataframe tbody tr th {\n",
       "        vertical-align: top;\n",
       "    }\n",
       "\n",
       "    .dataframe thead th {\n",
       "        text-align: right;\n",
       "    }\n",
       "</style>\n",
       "<table border=\"1\" class=\"dataframe\">\n",
       "  <thead>\n",
       "    <tr style=\"text-align: right;\">\n",
       "      <th></th>\n",
       "      <th>Name</th>\n",
       "      <th>Club</th>\n",
       "      <th>Nation</th>\n",
       "      <th>League</th>\n",
       "      <th>Rating</th>\n",
       "      <th>Main_Position</th>\n",
       "      <th>Alternate_Positions</th>\n",
       "      <th>Card_Version</th>\n",
       "      <th>Run_Style</th>\n",
       "      <th>Price</th>\n",
       "      <th>...</th>\n",
       "      <th>Shooting / Handling</th>\n",
       "      <th>Passing / Kicking</th>\n",
       "      <th>Dribbling / Reflexes</th>\n",
       "      <th>Defense / Speed</th>\n",
       "      <th>Physical / Positioning</th>\n",
       "      <th>Height</th>\n",
       "      <th>BodyType</th>\n",
       "      <th>Popularity</th>\n",
       "      <th>Base_Stats</th>\n",
       "      <th>Ingame_Stats</th>\n",
       "    </tr>\n",
       "  </thead>\n",
       "  <tbody>\n",
       "    <tr>\n",
       "      <th>25</th>\n",
       "      <td>Ederson</td>\n",
       "      <td>Manchester City</td>\n",
       "      <td>Brazil</td>\n",
       "      <td>Premier League</td>\n",
       "      <td>89</td>\n",
       "      <td>GK</td>\n",
       "      <td>0</td>\n",
       "      <td>Normal</td>\n",
       "      <td>Lengthy</td>\n",
       "      <td>38K</td>\n",
       "      <td>...</td>\n",
       "      <td>82</td>\n",
       "      <td>93</td>\n",
       "      <td>88</td>\n",
       "      <td>64</td>\n",
       "      <td>88</td>\n",
       "      <td>188cm | 6'2\"</td>\n",
       "      <td>Unique  (86kg)</td>\n",
       "      <td>399</td>\n",
       "      <td>502</td>\n",
       "      <td>1215</td>\n",
       "    </tr>\n",
       "    <tr>\n",
       "      <th>26</th>\n",
       "      <td>N'Golo Kanté</td>\n",
       "      <td>Chelsea</td>\n",
       "      <td>France</td>\n",
       "      <td>Premier League</td>\n",
       "      <td>89</td>\n",
       "      <td>CDM</td>\n",
       "      <td>CM</td>\n",
       "      <td>Normal</td>\n",
       "      <td>Controlled</td>\n",
       "      <td>36.5K</td>\n",
       "      <td>...</td>\n",
       "      <td>66</td>\n",
       "      <td>74</td>\n",
       "      <td>81</td>\n",
       "      <td>87</td>\n",
       "      <td>82</td>\n",
       "      <td>168cm | 5'6\"</td>\n",
       "      <td>Unique  (70kg)</td>\n",
       "      <td>1551</td>\n",
       "      <td>462</td>\n",
       "      <td>2184</td>\n",
       "    </tr>\n",
       "    <tr>\n",
       "      <th>27</th>\n",
       "      <td>Jan Oblak</td>\n",
       "      <td>Atlético de Madrid</td>\n",
       "      <td>Slovenia</td>\n",
       "      <td>LaLiga Santander</td>\n",
       "      <td>89</td>\n",
       "      <td>GK</td>\n",
       "      <td>0</td>\n",
       "      <td>Normal</td>\n",
       "      <td>Controlled</td>\n",
       "      <td>36.75K</td>\n",
       "      <td>...</td>\n",
       "      <td>90</td>\n",
       "      <td>78</td>\n",
       "      <td>89</td>\n",
       "      <td>49</td>\n",
       "      <td>87</td>\n",
       "      <td>188cm | 6'2\"</td>\n",
       "      <td>Unique  (87kg)</td>\n",
       "      <td>142</td>\n",
       "      <td>479</td>\n",
       "      <td>1040</td>\n",
       "    </tr>\n",
       "    <tr>\n",
       "      <th>28</th>\n",
       "      <td>Morientes</td>\n",
       "      <td>HERO</td>\n",
       "      <td>Spain</td>\n",
       "      <td>LaLiga Santander</td>\n",
       "      <td>89</td>\n",
       "      <td>ST</td>\n",
       "      <td>CF</td>\n",
       "      <td>Hero</td>\n",
       "      <td>Controlled</td>\n",
       "      <td>38K</td>\n",
       "      <td>...</td>\n",
       "      <td>90</td>\n",
       "      <td>77</td>\n",
       "      <td>83</td>\n",
       "      <td>45</td>\n",
       "      <td>86</td>\n",
       "      <td>186cm | 6'1\"</td>\n",
       "      <td>High &amp; Average  (79kg)</td>\n",
       "      <td>1162</td>\n",
       "      <td>465</td>\n",
       "      <td>2242</td>\n",
       "    </tr>\n",
       "    <tr>\n",
       "      <th>29</th>\n",
       "      <td>Abedi Pelé</td>\n",
       "      <td>HERO</td>\n",
       "      <td>Ghana</td>\n",
       "      <td>Ligue 1</td>\n",
       "      <td>89</td>\n",
       "      <td>CAM</td>\n",
       "      <td>LM,CF</td>\n",
       "      <td>Hero</td>\n",
       "      <td>Explosive</td>\n",
       "      <td>204K</td>\n",
       "      <td>...</td>\n",
       "      <td>83</td>\n",
       "      <td>87</td>\n",
       "      <td>91</td>\n",
       "      <td>48</td>\n",
       "      <td>66</td>\n",
       "      <td>174cm | 5'9\"</td>\n",
       "      <td>Average  (67kg)</td>\n",
       "      <td>694</td>\n",
       "      <td>466</td>\n",
       "      <td>2267</td>\n",
       "    </tr>\n",
       "  </tbody>\n",
       "</table>\n",
       "<p>5 rows × 26 columns</p>\n",
       "</div>"
      ],
      "text/plain": [
       "            Name                Club    Nation            League Rating  \\\n",
       "25       Ederson     Manchester City    Brazil    Premier League     89   \n",
       "26  N'Golo Kanté             Chelsea    France    Premier League     89   \n",
       "27     Jan Oblak  Atlético de Madrid  Slovenia  LaLiga Santander     89   \n",
       "28     Morientes                HERO     Spain  LaLiga Santander     89   \n",
       "29    Abedi Pelé                HERO     Ghana           Ligue 1     89   \n",
       "\n",
       "   Main_Position Alternate_Positions Card_Version   Run_Style   Price  ...  \\\n",
       "25            GK                   0       Normal     Lengthy     38K  ...   \n",
       "26           CDM                  CM       Normal  Controlled   36.5K  ...   \n",
       "27            GK                   0       Normal  Controlled  36.75K  ...   \n",
       "28            ST                  CF         Hero  Controlled     38K  ...   \n",
       "29           CAM               LM,CF         Hero   Explosive    204K  ...   \n",
       "\n",
       "   Shooting / Handling Passing / Kicking Dribbling / Reflexes Defense / Speed  \\\n",
       "25                  82                93                   88              64   \n",
       "26                  66                74                   81              87   \n",
       "27                  90                78                   89              49   \n",
       "28                  90                77                   83              45   \n",
       "29                  83                87                   91              48   \n",
       "\n",
       "   Physical / Positioning        Height                BodyType Popularity  \\\n",
       "25                     88  188cm | 6'2\"          Unique  (86kg)        399   \n",
       "26                     82  168cm | 5'6\"          Unique  (70kg)       1551   \n",
       "27                     87  188cm | 6'2\"          Unique  (87kg)        142   \n",
       "28                     86  186cm | 6'1\"  High & Average  (79kg)       1162   \n",
       "29                     66  174cm | 5'9\"         Average  (67kg)        694   \n",
       "\n",
       "   Base_Stats Ingame_Stats  \n",
       "25        502         1215  \n",
       "26        462         2184  \n",
       "27        479         1040  \n",
       "28        465         2242  \n",
       "29        466         2267  \n",
       "\n",
       "[5 rows x 26 columns]"
      ]
     },
     "metadata": {},
     "output_type": "display_data"
    }
   ],
   "source": [
    "display(players_till_10.head())\n",
    "display(players_till_10.tail())"
   ]
  },
  {
   "cell_type": "markdown",
   "id": "972d793e",
   "metadata": {
    "papermill": {
     "duration": 0.01794,
     "end_time": "2023-01-06T22:40:33.446103",
     "exception": false,
     "start_time": "2023-01-06T22:40:33.428163",
     "status": "completed"
    },
    "tags": []
   },
   "source": [
    "<div style=\"font-family:Inter; text-align:center; font-size:36px;\n",
    "            background-color:#ead1dc; border-radius: 20px; padding: 10px\">\n",
    "    <b>Scraping all players</b></div>"
   ]
  },
  {
   "cell_type": "markdown",
   "id": "ba3b2d35",
   "metadata": {
    "papermill": {
     "duration": 0.017461,
     "end_time": "2023-01-06T22:40:33.482295",
     "exception": false,
     "start_time": "2023-01-06T22:40:33.464834",
     "status": "completed"
    },
    "tags": []
   },
   "source": [
    "<div style=\"font-size: 26px; font-family:Inter\"><b>Iteration through all pages - 608 in total</b></div>\n",
    "<hr style=\"height:6px; background-color:#9c9598\"></hr>\n",
    "<p style=\"font-size: 16px; font-family:Inter\"> <b>Care taken:</b> in order to get all the players, it had to iterate in each page, requesting to scrape. If the iteration is too fast, it gives the <b style=\"color:#cc0000; background-color:#f5abab\">HTTPError 429: Too Many Requests</b>. So, every 5 iterations it sleeps 15 seconds, it takes more time but gives no error.</p>"
   ]
  },
  {
   "cell_type": "code",
   "execution_count": 34,
   "id": "11ccd960",
   "metadata": {
    "execution": {
     "iopub.execute_input": "2023-01-06T22:40:33.519666Z",
     "iopub.status.busy": "2023-01-06T22:40:33.519222Z",
     "iopub.status.idle": "2023-01-06T22:40:33.525332Z",
     "shell.execute_reply": "2023-01-06T22:40:33.524091Z"
    },
    "papermill": {
     "duration": 0.028166,
     "end_time": "2023-01-06T22:40:33.528060",
     "exception": false,
     "start_time": "2023-01-06T22:40:33.499894",
     "status": "completed"
    },
    "tags": []
   },
   "outputs": [],
   "source": [
    "all_players = pd.DataFrame([])"
   ]
  },
  {
   "cell_type": "code",
   "execution_count": 35,
   "id": "fb7a2429",
   "metadata": {
    "_kg_hide-output": true,
    "execution": {
     "iopub.execute_input": "2023-01-06T22:40:33.567213Z",
     "iopub.status.busy": "2023-01-06T22:40:33.566811Z",
     "iopub.status.idle": "2023-01-06T23:27:18.043127Z",
     "shell.execute_reply": "2023-01-06T23:27:18.041707Z"
    },
    "papermill": {
     "duration": 2804.498598,
     "end_time": "2023-01-06T23:27:18.045950",
     "exception": false,
     "start_time": "2023-01-06T22:40:33.547352",
     "status": "completed"
    },
    "tags": []
   },
   "outputs": [
    {
     "name": "stdout",
     "output_type": "stream",
     "text": [
      "Page 50 Successful\n",
      "Page 100 Successful\n",
      "Page 150 Successful\n",
      "Page 200 Successful\n",
      "Page 250 Successful\n",
      "Page 300 Successful\n",
      "Page 350 Successful\n",
      "Page 400 Successful\n",
      "Page 450 Successful\n",
      "Page 500 Successful\n",
      "Page 550 Successful\n",
      "Page 600 Successful\n"
     ]
    }
   ],
   "source": [
    "for i in range(608):\n",
    "    try:\n",
    "        page_df = iterate_for_page(i + 1)\n",
    "        all_players = pd.concat([all_players, page_df])\n",
    "        \n",
    "        if (i + 1) % 5 == 0:\n",
    "            sleep(15)\n",
    "        if (i + 1) % 50 == 0:\n",
    "            print(f\"Page {i + 1} Successful\")\n",
    "            \n",
    "    except HTTPError as err:\n",
    "        print(\"--Erro--\", err, sep = \"\\n\")\n",
    "        sleep(30)"
   ]
  },
  {
   "cell_type": "code",
   "execution_count": 36,
   "id": "ede2efa5",
   "metadata": {
    "execution": {
     "iopub.execute_input": "2023-01-06T23:27:18.086977Z",
     "iopub.status.busy": "2023-01-06T23:27:18.086121Z",
     "iopub.status.idle": "2023-01-06T23:27:18.109033Z",
     "shell.execute_reply": "2023-01-06T23:27:18.108080Z"
    },
    "papermill": {
     "duration": 0.046909,
     "end_time": "2023-01-06T23:27:18.111789",
     "exception": false,
     "start_time": "2023-01-06T23:27:18.064880",
     "status": "completed"
    },
    "tags": []
   },
   "outputs": [
    {
     "data": {
      "text/html": [
       "<div>\n",
       "<style scoped>\n",
       "    .dataframe tbody tr th:only-of-type {\n",
       "        vertical-align: middle;\n",
       "    }\n",
       "\n",
       "    .dataframe tbody tr th {\n",
       "        vertical-align: top;\n",
       "    }\n",
       "\n",
       "    .dataframe thead th {\n",
       "        text-align: right;\n",
       "    }\n",
       "</style>\n",
       "<table border=\"1\" class=\"dataframe\">\n",
       "  <thead>\n",
       "    <tr style=\"text-align: right;\">\n",
       "      <th></th>\n",
       "      <th>Name</th>\n",
       "      <th>Club</th>\n",
       "      <th>Nation</th>\n",
       "      <th>League</th>\n",
       "      <th>Rating</th>\n",
       "      <th>Main_Position</th>\n",
       "      <th>Alternate_Positions</th>\n",
       "      <th>Card_Version</th>\n",
       "      <th>Run_Style</th>\n",
       "      <th>Price</th>\n",
       "      <th>...</th>\n",
       "      <th>Shooting / Handling</th>\n",
       "      <th>Passing / Kicking</th>\n",
       "      <th>Dribbling / Reflexes</th>\n",
       "      <th>Defense / Speed</th>\n",
       "      <th>Physical / Positioning</th>\n",
       "      <th>Height</th>\n",
       "      <th>BodyType</th>\n",
       "      <th>Popularity</th>\n",
       "      <th>Base_Stats</th>\n",
       "      <th>Ingame_Stats</th>\n",
       "    </tr>\n",
       "  </thead>\n",
       "  <tbody>\n",
       "    <tr>\n",
       "      <th>0</th>\n",
       "      <td>Pelé</td>\n",
       "      <td>FUT ICONS</td>\n",
       "      <td>Brazil</td>\n",
       "      <td>Icons</td>\n",
       "      <td>98</td>\n",
       "      <td>CAM</td>\n",
       "      <td>CF,ST</td>\n",
       "      <td>Icon</td>\n",
       "      <td>Explosive</td>\n",
       "      <td>4.85M</td>\n",
       "      <td>...</td>\n",
       "      <td>96</td>\n",
       "      <td>93</td>\n",
       "      <td>96</td>\n",
       "      <td>60</td>\n",
       "      <td>76</td>\n",
       "      <td>173cm | 5'8\"</td>\n",
       "      <td>Unique  (70kg)</td>\n",
       "      <td>2925</td>\n",
       "      <td>516</td>\n",
       "      <td>2513</td>\n",
       "    </tr>\n",
       "    <tr>\n",
       "      <th>1</th>\n",
       "      <td>Ronaldo</td>\n",
       "      <td>FUT ICONS</td>\n",
       "      <td>Brazil</td>\n",
       "      <td>Icons</td>\n",
       "      <td>96</td>\n",
       "      <td>ST</td>\n",
       "      <td>CF</td>\n",
       "      <td>Icon</td>\n",
       "      <td>Controlled</td>\n",
       "      <td>9.7M</td>\n",
       "      <td>...</td>\n",
       "      <td>95</td>\n",
       "      <td>81</td>\n",
       "      <td>95</td>\n",
       "      <td>45</td>\n",
       "      <td>76</td>\n",
       "      <td>183cm | 6'0\"</td>\n",
       "      <td>R9  (78kg)</td>\n",
       "      <td>3170</td>\n",
       "      <td>489</td>\n",
       "      <td>2341</td>\n",
       "    </tr>\n",
       "    <tr>\n",
       "      <th>2</th>\n",
       "      <td>Zinedine Zidane</td>\n",
       "      <td>FUT ICONS</td>\n",
       "      <td>France</td>\n",
       "      <td>Icons</td>\n",
       "      <td>96</td>\n",
       "      <td>CAM</td>\n",
       "      <td>CM</td>\n",
       "      <td>Icon</td>\n",
       "      <td>Controlled</td>\n",
       "      <td>2.94M</td>\n",
       "      <td>...</td>\n",
       "      <td>92</td>\n",
       "      <td>96</td>\n",
       "      <td>95</td>\n",
       "      <td>75</td>\n",
       "      <td>86</td>\n",
       "      <td>185cm | 6'1\"</td>\n",
       "      <td>Average  (77kg)</td>\n",
       "      <td>1175</td>\n",
       "      <td>529</td>\n",
       "      <td>2548</td>\n",
       "    </tr>\n",
       "    <tr>\n",
       "      <th>3</th>\n",
       "      <td>Pelé</td>\n",
       "      <td>FUT ICONS</td>\n",
       "      <td>Brazil</td>\n",
       "      <td>Icons</td>\n",
       "      <td>96</td>\n",
       "      <td>CF</td>\n",
       "      <td>CAM,ST</td>\n",
       "      <td>World Cup ICON</td>\n",
       "      <td>Explosive</td>\n",
       "      <td>3.9M</td>\n",
       "      <td>...</td>\n",
       "      <td>94</td>\n",
       "      <td>92</td>\n",
       "      <td>95</td>\n",
       "      <td>58</td>\n",
       "      <td>75</td>\n",
       "      <td>173cm | 5'8\"</td>\n",
       "      <td>Unique  (70kg)</td>\n",
       "      <td>914</td>\n",
       "      <td>510</td>\n",
       "      <td>2475</td>\n",
       "    </tr>\n",
       "    <tr>\n",
       "      <th>4</th>\n",
       "      <td>Pelé</td>\n",
       "      <td>FUT ICONS</td>\n",
       "      <td>Brazil</td>\n",
       "      <td>Icons</td>\n",
       "      <td>95</td>\n",
       "      <td>CF</td>\n",
       "      <td>CAM,ST</td>\n",
       "      <td>Icon</td>\n",
       "      <td>Explosive</td>\n",
       "      <td>3.1M</td>\n",
       "      <td>...</td>\n",
       "      <td>93</td>\n",
       "      <td>90</td>\n",
       "      <td>95</td>\n",
       "      <td>56</td>\n",
       "      <td>75</td>\n",
       "      <td>173cm | 5'8\"</td>\n",
       "      <td>Unique  (69kg)</td>\n",
       "      <td>1763</td>\n",
       "      <td>505</td>\n",
       "      <td>2452</td>\n",
       "    </tr>\n",
       "  </tbody>\n",
       "</table>\n",
       "<p>5 rows × 26 columns</p>\n",
       "</div>"
      ],
      "text/plain": [
       "              Name       Club  Nation League Rating Main_Position  \\\n",
       "0             Pelé  FUT ICONS  Brazil  Icons     98           CAM   \n",
       "1          Ronaldo  FUT ICONS  Brazil  Icons     96            ST   \n",
       "2  Zinedine Zidane  FUT ICONS  France  Icons     96           CAM   \n",
       "3             Pelé  FUT ICONS  Brazil  Icons     96            CF   \n",
       "4             Pelé  FUT ICONS  Brazil  Icons     95            CF   \n",
       "\n",
       "  Alternate_Positions    Card_Version   Run_Style  Price  ...  \\\n",
       "0               CF,ST            Icon   Explosive  4.85M  ...   \n",
       "1                  CF            Icon  Controlled   9.7M  ...   \n",
       "2                  CM            Icon  Controlled  2.94M  ...   \n",
       "3              CAM,ST  World Cup ICON   Explosive   3.9M  ...   \n",
       "4              CAM,ST            Icon   Explosive   3.1M  ...   \n",
       "\n",
       "  Shooting / Handling Passing / Kicking Dribbling / Reflexes Defense / Speed  \\\n",
       "0                  96                93                   96              60   \n",
       "1                  95                81                   95              45   \n",
       "2                  92                96                   95              75   \n",
       "3                  94                92                   95              58   \n",
       "4                  93                90                   95              56   \n",
       "\n",
       "  Physical / Positioning        Height         BodyType Popularity Base_Stats  \\\n",
       "0                     76  173cm | 5'8\"   Unique  (70kg)       2925        516   \n",
       "1                     76  183cm | 6'0\"       R9  (78kg)       3170        489   \n",
       "2                     86  185cm | 6'1\"  Average  (77kg)       1175        529   \n",
       "3                     75  173cm | 5'8\"   Unique  (70kg)        914        510   \n",
       "4                     75  173cm | 5'8\"   Unique  (69kg)       1763        505   \n",
       "\n",
       "  Ingame_Stats  \n",
       "0         2513  \n",
       "1         2341  \n",
       "2         2548  \n",
       "3         2475  \n",
       "4         2452  \n",
       "\n",
       "[5 rows x 26 columns]"
      ]
     },
     "execution_count": 36,
     "metadata": {},
     "output_type": "execute_result"
    }
   ],
   "source": [
    "all_players.head()"
   ]
  },
  {
   "cell_type": "markdown",
   "id": "01303052",
   "metadata": {
    "papermill": {
     "duration": 0.019303,
     "end_time": "2023-01-06T23:27:18.150598",
     "exception": false,
     "start_time": "2023-01-06T23:27:18.131295",
     "status": "completed"
    },
    "tags": []
   },
   "source": [
    "<div style=\"font-family:Inter; text-align:center; font-size:36px;\n",
    "            background-color:#ead1dc; border-radius: 20px; padding: 10px\">\n",
    "    <b>Processing the Dataset</b></div>"
   ]
  },
  {
   "cell_type": "markdown",
   "id": "b9ef3237",
   "metadata": {
    "papermill": {
     "duration": 0.018968,
     "end_time": "2023-01-06T23:27:18.190082",
     "exception": false,
     "start_time": "2023-01-06T23:27:18.171114",
     "status": "completed"
    },
    "tags": []
   },
   "source": [
    "<div style=\"font-size: 26px; font-family:Inter\"><b>Transforming columns in numeric</b></div>\n",
    "<hr style=\"height:6px; background-color:#9c9598\"></hr>\n",
    "<div style=\"font-size: 16px; font-family:Inter\"> There are columns that could be transformed in numeric:\n",
    "    <ul>\n",
    "        <li> Rating;</li>   \n",
    "        <li>Skills Star;</li>\n",
    "        <li>Weakfoot Star;</li>\n",
    "        <li>Pace / Diving;</li>\n",
    "        <li>Shooting / Handling;</li>\n",
    "        <li>Passing / Kicking;</li>\n",
    "        <li>Dribbling / Reflexes;</li>\n",
    "        <li>Defense / Speed;</li>\n",
    "        <li>Physical / Positioning;</li>\n",
    "        <li>Popularity;</li>\n",
    "        <li>Base Stats;</li>\n",
    "        <li>Ingame Stats;</li>\n",
    "    </ul>\n",
    "</div>"
   ]
  },
  {
   "cell_type": "code",
   "execution_count": 37,
   "id": "2e1de3d7",
   "metadata": {
    "execution": {
     "iopub.execute_input": "2023-01-06T23:27:18.231441Z",
     "iopub.status.busy": "2023-01-06T23:27:18.231032Z",
     "iopub.status.idle": "2023-01-06T23:27:18.326739Z",
     "shell.execute_reply": "2023-01-06T23:27:18.325228Z"
    },
    "papermill": {
     "duration": 0.11962,
     "end_time": "2023-01-06T23:27:18.329661",
     "exception": false,
     "start_time": "2023-01-06T23:27:18.210041",
     "status": "completed"
    },
    "tags": []
   },
   "outputs": [],
   "source": [
    "all_players['Rating'] = pd.to_numeric(all_players.Rating)\n",
    "all_players['Skills_Star'] = pd.to_numeric(all_players.Skills_Star)\n",
    "all_players['Weak_Foot_Star'] = pd.to_numeric(all_players.Weak_Foot_Star)"
   ]
  },
  {
   "cell_type": "code",
   "execution_count": 38,
   "id": "0fa34699",
   "metadata": {
    "execution": {
     "iopub.execute_input": "2023-01-06T23:27:18.372213Z",
     "iopub.status.busy": "2023-01-06T23:27:18.371478Z",
     "iopub.status.idle": "2023-01-06T23:27:18.532877Z",
     "shell.execute_reply": "2023-01-06T23:27:18.531335Z"
    },
    "papermill": {
     "duration": 0.186313,
     "end_time": "2023-01-06T23:27:18.536195",
     "exception": false,
     "start_time": "2023-01-06T23:27:18.349882",
     "status": "completed"
    },
    "tags": []
   },
   "outputs": [],
   "source": [
    "all_players['Pace / Diving'] = pd.to_numeric(all_players['Pace / Diving'], errors=\"coerce\") \n",
    "all_players['Shooting / Handling'] = pd.to_numeric(all_players['Shooting / Handling'])\n",
    "all_players['Passing / Kicking'] = pd.to_numeric(all_players['Passing / Kicking'])\n",
    "all_players['Dribbling / Reflexes'] = pd.to_numeric(all_players['Dribbling / Reflexes'])\n",
    "all_players['Defense / Speed'] = pd.to_numeric(all_players['Defense / Speed'])\n",
    "all_players['Physical / Positioning'] = pd.to_numeric(all_players['Physical / Positioning'])"
   ]
  },
  {
   "cell_type": "code",
   "execution_count": 39,
   "id": "e3fa20ad",
   "metadata": {
    "execution": {
     "iopub.execute_input": "2023-01-06T23:27:18.577678Z",
     "iopub.status.busy": "2023-01-06T23:27:18.577181Z",
     "iopub.status.idle": "2023-01-06T23:27:18.651179Z",
     "shell.execute_reply": "2023-01-06T23:27:18.649746Z"
    },
    "papermill": {
     "duration": 0.098249,
     "end_time": "2023-01-06T23:27:18.654797",
     "exception": false,
     "start_time": "2023-01-06T23:27:18.556548",
     "status": "completed"
    },
    "tags": []
   },
   "outputs": [],
   "source": [
    "all_players['Popularity'] = pd.to_numeric(all_players.Popularity)\n",
    "all_players['Base_Stats'] = pd.to_numeric(all_players.Base_Stats)\n",
    "all_players['Ingame_Stats'] = pd.to_numeric(all_players.Ingame_Stats)"
   ]
  },
  {
   "cell_type": "markdown",
   "id": "373ed1f3",
   "metadata": {
    "papermill": {
     "duration": 0.018929,
     "end_time": "2023-01-06T23:27:18.693153",
     "exception": false,
     "start_time": "2023-01-06T23:27:18.674224",
     "status": "completed"
    },
    "tags": []
   },
   "source": [
    "<div style=\"font-size: 26px; font-family:Inter\"><b>Price Processing</b></div>\n",
    "<hr style=\"height:6px; background-color:#9c9598\"></hr>\n",
    "<p style=\"font-size: 16px; font-family:Inter\"> The price column has a different composition, with \"K\" meaning 1000 and \"M\" Million.</p>"
   ]
  },
  {
   "cell_type": "code",
   "execution_count": 40,
   "id": "69ca5359",
   "metadata": {
    "execution": {
     "iopub.execute_input": "2023-01-06T23:27:18.733955Z",
     "iopub.status.busy": "2023-01-06T23:27:18.732912Z",
     "iopub.status.idle": "2023-01-06T23:27:18.738327Z",
     "shell.execute_reply": "2023-01-06T23:27:18.737405Z"
    },
    "papermill": {
     "duration": 0.028532,
     "end_time": "2023-01-06T23:27:18.740757",
     "exception": false,
     "start_time": "2023-01-06T23:27:18.712225",
     "status": "completed"
    },
    "tags": []
   },
   "outputs": [],
   "source": [
    "price_processing = all_players['Price']"
   ]
  },
  {
   "cell_type": "code",
   "execution_count": 41,
   "id": "9440a9cb",
   "metadata": {
    "_kg_hide-input": true,
    "execution": {
     "iopub.execute_input": "2023-01-06T23:27:18.781525Z",
     "iopub.status.busy": "2023-01-06T23:27:18.780743Z",
     "iopub.status.idle": "2023-01-06T23:27:18.803062Z",
     "shell.execute_reply": "2023-01-06T23:27:18.801798Z"
    },
    "papermill": {
     "duration": 0.045981,
     "end_time": "2023-01-06T23:27:18.805916",
     "exception": false,
     "start_time": "2023-01-06T23:27:18.759935",
     "status": "completed"
    },
    "tags": []
   },
   "outputs": [],
   "source": [
    "symbols = (\"M\", \"K\")\n",
    "prices_p = list()\n",
    "for price in price_processing:\n",
    "    if symbols[0] in price:\n",
    "        price_p = price[:-1]\n",
    "        price_p = round(float(price_p) * 1e6, 2)\n",
    "    elif symbols[1] in price:\n",
    "        price_p = price[:-1]\n",
    "        price_p = round(float(price_p) * 1e3, 2)\n",
    "    else:\n",
    "        price_p = price\n",
    "        \n",
    "    prices_p.append(price_p)"
   ]
  },
  {
   "cell_type": "code",
   "execution_count": 42,
   "id": "d5dccad7",
   "metadata": {
    "execution": {
     "iopub.execute_input": "2023-01-06T23:27:18.846736Z",
     "iopub.status.busy": "2023-01-06T23:27:18.846202Z",
     "iopub.status.idle": "2023-01-06T23:27:18.855697Z",
     "shell.execute_reply": "2023-01-06T23:27:18.854415Z"
    },
    "papermill": {
     "duration": 0.032809,
     "end_time": "2023-01-06T23:27:18.858511",
     "exception": false,
     "start_time": "2023-01-06T23:27:18.825702",
     "status": "completed"
    },
    "tags": []
   },
   "outputs": [],
   "source": [
    "all_players['Price'] = prices_p"
   ]
  },
  {
   "cell_type": "markdown",
   "id": "dea8d94d",
   "metadata": {
    "papermill": {
     "duration": 0.018937,
     "end_time": "2023-01-06T23:27:18.897100",
     "exception": false,
     "start_time": "2023-01-06T23:27:18.878163",
     "status": "completed"
    },
    "tags": []
   },
   "source": [
    "<div style=\"font-size: 26px; font-family:Inter\"><b>Fixing the Index and Droping Null Values</b></div>\n",
    "<hr style=\"height:6px; background-color:#9c9598\"></hr>\n",
    "<p style=\"font-size: 16px; font-family:Inter\"> The index is duplicate - a number between 0 and 29 - so it has to be fixed. Also, there are a few players that are the exception in missing values, so it's more efficient to drop these rows than creating a specific rule in the searching function.</p>"
   ]
  },
  {
   "cell_type": "code",
   "execution_count": 43,
   "id": "66cf5285",
   "metadata": {
    "execution": {
     "iopub.execute_input": "2023-01-06T23:27:18.937704Z",
     "iopub.status.busy": "2023-01-06T23:27:18.937180Z",
     "iopub.status.idle": "2023-01-06T23:27:18.989954Z",
     "shell.execute_reply": "2023-01-06T23:27:18.988283Z"
    },
    "papermill": {
     "duration": 0.0766,
     "end_time": "2023-01-06T23:27:18.993031",
     "exception": false,
     "start_time": "2023-01-06T23:27:18.916431",
     "status": "completed"
    },
    "tags": []
   },
   "outputs": [
    {
     "data": {
      "text/html": [
       "<div>\n",
       "<style scoped>\n",
       "    .dataframe tbody tr th:only-of-type {\n",
       "        vertical-align: middle;\n",
       "    }\n",
       "\n",
       "    .dataframe tbody tr th {\n",
       "        vertical-align: top;\n",
       "    }\n",
       "\n",
       "    .dataframe thead th {\n",
       "        text-align: right;\n",
       "    }\n",
       "</style>\n",
       "<table border=\"1\" class=\"dataframe\">\n",
       "  <thead>\n",
       "    <tr style=\"text-align: right;\">\n",
       "      <th></th>\n",
       "      <th>Name</th>\n",
       "      <th>Club</th>\n",
       "      <th>Nation</th>\n",
       "      <th>League</th>\n",
       "      <th>Rating</th>\n",
       "      <th>Main_Position</th>\n",
       "      <th>Alternate_Positions</th>\n",
       "      <th>Card_Version</th>\n",
       "      <th>Run_Style</th>\n",
       "      <th>Price</th>\n",
       "      <th>...</th>\n",
       "      <th>Shooting / Handling</th>\n",
       "      <th>Passing / Kicking</th>\n",
       "      <th>Dribbling / Reflexes</th>\n",
       "      <th>Defense / Speed</th>\n",
       "      <th>Physical / Positioning</th>\n",
       "      <th>Height</th>\n",
       "      <th>BodyType</th>\n",
       "      <th>Popularity</th>\n",
       "      <th>Base_Stats</th>\n",
       "      <th>Ingame_Stats</th>\n",
       "    </tr>\n",
       "  </thead>\n",
       "  <tbody>\n",
       "    <tr>\n",
       "      <th>0</th>\n",
       "      <td>Pelé</td>\n",
       "      <td>FUT ICONS</td>\n",
       "      <td>Brazil</td>\n",
       "      <td>Icons</td>\n",
       "      <td>98</td>\n",
       "      <td>CAM</td>\n",
       "      <td>CF,ST</td>\n",
       "      <td>Icon</td>\n",
       "      <td>Explosive</td>\n",
       "      <td>4850000.0</td>\n",
       "      <td>...</td>\n",
       "      <td>96</td>\n",
       "      <td>93</td>\n",
       "      <td>96</td>\n",
       "      <td>60</td>\n",
       "      <td>76</td>\n",
       "      <td>173cm | 5'8\"</td>\n",
       "      <td>Unique  (70kg)</td>\n",
       "      <td>2925</td>\n",
       "      <td>516</td>\n",
       "      <td>2513</td>\n",
       "    </tr>\n",
       "    <tr>\n",
       "      <th>1</th>\n",
       "      <td>Ronaldo</td>\n",
       "      <td>FUT ICONS</td>\n",
       "      <td>Brazil</td>\n",
       "      <td>Icons</td>\n",
       "      <td>96</td>\n",
       "      <td>ST</td>\n",
       "      <td>CF</td>\n",
       "      <td>Icon</td>\n",
       "      <td>Controlled</td>\n",
       "      <td>9700000.0</td>\n",
       "      <td>...</td>\n",
       "      <td>95</td>\n",
       "      <td>81</td>\n",
       "      <td>95</td>\n",
       "      <td>45</td>\n",
       "      <td>76</td>\n",
       "      <td>183cm | 6'0\"</td>\n",
       "      <td>R9  (78kg)</td>\n",
       "      <td>3170</td>\n",
       "      <td>489</td>\n",
       "      <td>2341</td>\n",
       "    </tr>\n",
       "    <tr>\n",
       "      <th>2</th>\n",
       "      <td>Zinedine Zidane</td>\n",
       "      <td>FUT ICONS</td>\n",
       "      <td>France</td>\n",
       "      <td>Icons</td>\n",
       "      <td>96</td>\n",
       "      <td>CAM</td>\n",
       "      <td>CM</td>\n",
       "      <td>Icon</td>\n",
       "      <td>Controlled</td>\n",
       "      <td>2940000.0</td>\n",
       "      <td>...</td>\n",
       "      <td>92</td>\n",
       "      <td>96</td>\n",
       "      <td>95</td>\n",
       "      <td>75</td>\n",
       "      <td>86</td>\n",
       "      <td>185cm | 6'1\"</td>\n",
       "      <td>Average  (77kg)</td>\n",
       "      <td>1175</td>\n",
       "      <td>529</td>\n",
       "      <td>2548</td>\n",
       "    </tr>\n",
       "    <tr>\n",
       "      <th>3</th>\n",
       "      <td>Pelé</td>\n",
       "      <td>FUT ICONS</td>\n",
       "      <td>Brazil</td>\n",
       "      <td>Icons</td>\n",
       "      <td>96</td>\n",
       "      <td>CF</td>\n",
       "      <td>CAM,ST</td>\n",
       "      <td>World Cup ICON</td>\n",
       "      <td>Explosive</td>\n",
       "      <td>3900000.0</td>\n",
       "      <td>...</td>\n",
       "      <td>94</td>\n",
       "      <td>92</td>\n",
       "      <td>95</td>\n",
       "      <td>58</td>\n",
       "      <td>75</td>\n",
       "      <td>173cm | 5'8\"</td>\n",
       "      <td>Unique  (70kg)</td>\n",
       "      <td>914</td>\n",
       "      <td>510</td>\n",
       "      <td>2475</td>\n",
       "    </tr>\n",
       "    <tr>\n",
       "      <th>4</th>\n",
       "      <td>Pelé</td>\n",
       "      <td>FUT ICONS</td>\n",
       "      <td>Brazil</td>\n",
       "      <td>Icons</td>\n",
       "      <td>95</td>\n",
       "      <td>CF</td>\n",
       "      <td>CAM,ST</td>\n",
       "      <td>Icon</td>\n",
       "      <td>Explosive</td>\n",
       "      <td>3100000.0</td>\n",
       "      <td>...</td>\n",
       "      <td>93</td>\n",
       "      <td>90</td>\n",
       "      <td>95</td>\n",
       "      <td>56</td>\n",
       "      <td>75</td>\n",
       "      <td>173cm | 5'8\"</td>\n",
       "      <td>Unique  (69kg)</td>\n",
       "      <td>1763</td>\n",
       "      <td>505</td>\n",
       "      <td>2452</td>\n",
       "    </tr>\n",
       "  </tbody>\n",
       "</table>\n",
       "<p>5 rows × 26 columns</p>\n",
       "</div>"
      ],
      "text/plain": [
       "              Name       Club  Nation League  Rating Main_Position  \\\n",
       "0             Pelé  FUT ICONS  Brazil  Icons      98           CAM   \n",
       "1          Ronaldo  FUT ICONS  Brazil  Icons      96            ST   \n",
       "2  Zinedine Zidane  FUT ICONS  France  Icons      96           CAM   \n",
       "3             Pelé  FUT ICONS  Brazil  Icons      96            CF   \n",
       "4             Pelé  FUT ICONS  Brazil  Icons      95            CF   \n",
       "\n",
       "  Alternate_Positions    Card_Version   Run_Style      Price  ...  \\\n",
       "0               CF,ST            Icon   Explosive  4850000.0  ...   \n",
       "1                  CF            Icon  Controlled  9700000.0  ...   \n",
       "2                  CM            Icon  Controlled  2940000.0  ...   \n",
       "3              CAM,ST  World Cup ICON   Explosive  3900000.0  ...   \n",
       "4              CAM,ST            Icon   Explosive  3100000.0  ...   \n",
       "\n",
       "  Shooting / Handling  Passing / Kicking  Dribbling / Reflexes  \\\n",
       "0                  96                 93                    96   \n",
       "1                  95                 81                    95   \n",
       "2                  92                 96                    95   \n",
       "3                  94                 92                    95   \n",
       "4                  93                 90                    95   \n",
       "\n",
       "  Defense / Speed Physical / Positioning        Height         BodyType  \\\n",
       "0              60                     76  173cm | 5'8\"   Unique  (70kg)   \n",
       "1              45                     76  183cm | 6'0\"       R9  (78kg)   \n",
       "2              75                     86  185cm | 6'1\"  Average  (77kg)   \n",
       "3              58                     75  173cm | 5'8\"   Unique  (70kg)   \n",
       "4              56                     75  173cm | 5'8\"   Unique  (69kg)   \n",
       "\n",
       "   Popularity  Base_Stats  Ingame_Stats  \n",
       "0        2925         516          2513  \n",
       "1        3170         489          2341  \n",
       "2        1175         529          2548  \n",
       "3         914         510          2475  \n",
       "4        1763         505          2452  \n",
       "\n",
       "[5 rows x 26 columns]"
      ]
     },
     "execution_count": 43,
     "metadata": {},
     "output_type": "execute_result"
    }
   ],
   "source": [
    "# Fixing the index\n",
    "all_players = all_players.reset_index().drop('index', axis=1)\n",
    "all_players.head()"
   ]
  },
  {
   "cell_type": "code",
   "execution_count": 44,
   "id": "8f058586",
   "metadata": {
    "execution": {
     "iopub.execute_input": "2023-01-06T23:27:19.036150Z",
     "iopub.status.busy": "2023-01-06T23:27:19.035713Z",
     "iopub.status.idle": "2023-01-06T23:27:19.063685Z",
     "shell.execute_reply": "2023-01-06T23:27:19.062421Z"
    },
    "papermill": {
     "duration": 0.052885,
     "end_time": "2023-01-06T23:27:19.066453",
     "exception": false,
     "start_time": "2023-01-06T23:27:19.013568",
     "status": "completed"
    },
    "tags": []
   },
   "outputs": [
    {
     "data": {
      "text/html": [
       "<div>\n",
       "<style scoped>\n",
       "    .dataframe tbody tr th:only-of-type {\n",
       "        vertical-align: middle;\n",
       "    }\n",
       "\n",
       "    .dataframe tbody tr th {\n",
       "        vertical-align: top;\n",
       "    }\n",
       "\n",
       "    .dataframe thead th {\n",
       "        text-align: right;\n",
       "    }\n",
       "</style>\n",
       "<table border=\"1\" class=\"dataframe\">\n",
       "  <thead>\n",
       "    <tr style=\"text-align: right;\">\n",
       "      <th></th>\n",
       "      <th>Name</th>\n",
       "      <th>Club</th>\n",
       "      <th>Nation</th>\n",
       "      <th>League</th>\n",
       "      <th>Rating</th>\n",
       "      <th>Main_Position</th>\n",
       "      <th>Alternate_Positions</th>\n",
       "      <th>Card_Version</th>\n",
       "      <th>Run_Style</th>\n",
       "      <th>Price</th>\n",
       "      <th>...</th>\n",
       "      <th>Shooting / Handling</th>\n",
       "      <th>Passing / Kicking</th>\n",
       "      <th>Dribbling / Reflexes</th>\n",
       "      <th>Defense / Speed</th>\n",
       "      <th>Physical / Positioning</th>\n",
       "      <th>Height</th>\n",
       "      <th>BodyType</th>\n",
       "      <th>Popularity</th>\n",
       "      <th>Base_Stats</th>\n",
       "      <th>Ingame_Stats</th>\n",
       "    </tr>\n",
       "  </thead>\n",
       "  <tbody>\n",
       "    <tr>\n",
       "      <th>9666</th>\n",
       "      <td>Rolando Aarons</td>\n",
       "      <td>Motherwell</td>\n",
       "      <td>Jamaica</td>\n",
       "      <td>Scottish Premiership (SPFL)</td>\n",
       "      <td>67</td>\n",
       "      <td>LW</td>\n",
       "      <td>0</td>\n",
       "      <td>LWB,LM,RW</td>\n",
       "      <td>Normal</td>\n",
       "      <td>Explosive</td>\n",
       "      <td>...</td>\n",
       "      <td>78</td>\n",
       "      <td>62</td>\n",
       "      <td>66</td>\n",
       "      <td>70</td>\n",
       "      <td>39</td>\n",
       "      <td>52</td>\n",
       "      <td>175cm | 5'9\"</td>\n",
       "      <td>0</td>\n",
       "      <td>367</td>\n",
       "      <td>1709</td>\n",
       "    </tr>\n",
       "    <tr>\n",
       "      <th>9904</th>\n",
       "      <td>Rolando Aarons</td>\n",
       "      <td>Huddersfield</td>\n",
       "      <td>Jamaica</td>\n",
       "      <td>EFL Championship (ENG 2)</td>\n",
       "      <td>67</td>\n",
       "      <td>LW</td>\n",
       "      <td>0</td>\n",
       "      <td>LWB,LM,RW</td>\n",
       "      <td>non-rare</td>\n",
       "      <td>Explosive</td>\n",
       "      <td>...</td>\n",
       "      <td>78</td>\n",
       "      <td>62</td>\n",
       "      <td>66</td>\n",
       "      <td>70</td>\n",
       "      <td>39</td>\n",
       "      <td>52</td>\n",
       "      <td>175cm | 5'9\"</td>\n",
       "      <td>0</td>\n",
       "      <td>367</td>\n",
       "      <td>1709</td>\n",
       "    </tr>\n",
       "    <tr>\n",
       "      <th>12640</th>\n",
       "      <td>Harry Smith</td>\n",
       "      <td>Exeter City</td>\n",
       "      <td>England</td>\n",
       "      <td>EFL League One (ENG 3)</td>\n",
       "      <td>64</td>\n",
       "      <td>ST</td>\n",
       "      <td>0</td>\n",
       "      <td>CF</td>\n",
       "      <td>Normal</td>\n",
       "      <td>Controlled</td>\n",
       "      <td>...</td>\n",
       "      <td>53</td>\n",
       "      <td>64</td>\n",
       "      <td>48</td>\n",
       "      <td>56</td>\n",
       "      <td>31</td>\n",
       "      <td>78</td>\n",
       "      <td>193cm | 6'4\"</td>\n",
       "      <td>4</td>\n",
       "      <td>330</td>\n",
       "      <td>1530</td>\n",
       "    </tr>\n",
       "    <tr>\n",
       "      <th>12959</th>\n",
       "      <td>Harry Smith</td>\n",
       "      <td>Leyton Orient</td>\n",
       "      <td>England</td>\n",
       "      <td>EFL League Two (ENG 4)</td>\n",
       "      <td>64</td>\n",
       "      <td>ST</td>\n",
       "      <td>0</td>\n",
       "      <td>CF</td>\n",
       "      <td>Rare</td>\n",
       "      <td>Controlled</td>\n",
       "      <td>...</td>\n",
       "      <td>53</td>\n",
       "      <td>64</td>\n",
       "      <td>48</td>\n",
       "      <td>56</td>\n",
       "      <td>31</td>\n",
       "      <td>78</td>\n",
       "      <td>193cm | 6'4\"</td>\n",
       "      <td>-1</td>\n",
       "      <td>330</td>\n",
       "      <td>1530</td>\n",
       "    </tr>\n",
       "    <tr>\n",
       "      <th>17746</th>\n",
       "      <td>Frimpong</td>\n",
       "      <td>AFC Wimbledon</td>\n",
       "      <td>England</td>\n",
       "      <td>EFL League Two (ENG 4)</td>\n",
       "      <td>54</td>\n",
       "      <td>CDM</td>\n",
       "      <td>0</td>\n",
       "      <td>Normal</td>\n",
       "      <td>non-rare</td>\n",
       "      <td>Controlled</td>\n",
       "      <td>...</td>\n",
       "      <td>65</td>\n",
       "      <td>37</td>\n",
       "      <td>45</td>\n",
       "      <td>54</td>\n",
       "      <td>52</td>\n",
       "      <td>61</td>\n",
       "      <td>0</td>\n",
       "      <td>0</td>\n",
       "      <td>314</td>\n",
       "      <td>1463</td>\n",
       "    </tr>\n",
       "    <tr>\n",
       "      <th>17909</th>\n",
       "      <td>Ridley</td>\n",
       "      <td>Sutton United</td>\n",
       "      <td>England</td>\n",
       "      <td>EFL League Two (ENG 4)</td>\n",
       "      <td>53</td>\n",
       "      <td>CB</td>\n",
       "      <td>0</td>\n",
       "      <td>Normal</td>\n",
       "      <td>Rare</td>\n",
       "      <td>Controlled</td>\n",
       "      <td>...</td>\n",
       "      <td>64</td>\n",
       "      <td>23</td>\n",
       "      <td>27</td>\n",
       "      <td>33</td>\n",
       "      <td>56</td>\n",
       "      <td>58</td>\n",
       "      <td>0</td>\n",
       "      <td>0</td>\n",
       "      <td>261</td>\n",
       "      <td>1204</td>\n",
       "    </tr>\n",
       "    <tr>\n",
       "      <th>18227</th>\n",
       "      <td>Charles-Cook</td>\n",
       "      <td>Sutton United</td>\n",
       "      <td>England</td>\n",
       "      <td>EFL League Two (ENG 4)</td>\n",
       "      <td>50</td>\n",
       "      <td>RB</td>\n",
       "      <td>0</td>\n",
       "      <td>RWB</td>\n",
       "      <td>non-rare</td>\n",
       "      <td>Controlled</td>\n",
       "      <td>...</td>\n",
       "      <td>65</td>\n",
       "      <td>24</td>\n",
       "      <td>31</td>\n",
       "      <td>43</td>\n",
       "      <td>49</td>\n",
       "      <td>58</td>\n",
       "      <td>0</td>\n",
       "      <td>-1</td>\n",
       "      <td>270</td>\n",
       "      <td>1231</td>\n",
       "    </tr>\n",
       "  </tbody>\n",
       "</table>\n",
       "<p>7 rows × 26 columns</p>\n",
       "</div>"
      ],
      "text/plain": [
       "                 Name           Club   Nation                       League  \\\n",
       "9666   Rolando Aarons     Motherwell  Jamaica  Scottish Premiership (SPFL)   \n",
       "9904   Rolando Aarons   Huddersfield  Jamaica     EFL Championship (ENG 2)   \n",
       "12640     Harry Smith    Exeter City  England       EFL League One (ENG 3)   \n",
       "12959     Harry Smith  Leyton Orient  England       EFL League Two (ENG 4)   \n",
       "17746        Frimpong  AFC Wimbledon  England       EFL League Two (ENG 4)   \n",
       "17909          Ridley  Sutton United  England       EFL League Two (ENG 4)   \n",
       "18227    Charles-Cook  Sutton United  England       EFL League Two (ENG 4)   \n",
       "\n",
       "       Rating Main_Position Alternate_Positions Card_Version Run_Style  \\\n",
       "9666       67            LW                   0    LWB,LM,RW    Normal   \n",
       "9904       67            LW                   0    LWB,LM,RW  non-rare   \n",
       "12640      64            ST                   0           CF    Normal   \n",
       "12959      64            ST                   0           CF      Rare   \n",
       "17746      54           CDM                   0       Normal  non-rare   \n",
       "17909      53            CB                   0       Normal      Rare   \n",
       "18227      50            RB                   0          RWB  non-rare   \n",
       "\n",
       "            Price  ... Shooting / Handling  Passing / Kicking  \\\n",
       "9666    Explosive  ...                  78                 62   \n",
       "9904    Explosive  ...                  78                 62   \n",
       "12640  Controlled  ...                  53                 64   \n",
       "12959  Controlled  ...                  53                 64   \n",
       "17746  Controlled  ...                  65                 37   \n",
       "17909  Controlled  ...                  64                 23   \n",
       "18227  Controlled  ...                  65                 24   \n",
       "\n",
       "       Dribbling / Reflexes Defense / Speed Physical / Positioning  Height  \\\n",
       "9666                     66              70                     39      52   \n",
       "9904                     66              70                     39      52   \n",
       "12640                    48              56                     31      78   \n",
       "12959                    48              56                     31      78   \n",
       "17746                    45              54                     52      61   \n",
       "17909                    27              33                     56      58   \n",
       "18227                    31              43                     49      58   \n",
       "\n",
       "           BodyType  Popularity  Base_Stats  Ingame_Stats  \n",
       "9666   175cm | 5'9\"           0         367          1709  \n",
       "9904   175cm | 5'9\"           0         367          1709  \n",
       "12640  193cm | 6'4\"           4         330          1530  \n",
       "12959  193cm | 6'4\"          -1         330          1530  \n",
       "17746             0           0         314          1463  \n",
       "17909             0           0         261          1204  \n",
       "18227             0          -1         270          1231  \n",
       "\n",
       "[7 rows x 26 columns]"
      ]
     },
     "execution_count": 44,
     "metadata": {},
     "output_type": "execute_result"
    }
   ],
   "source": [
    "# Viewing the players with these null values\n",
    "na_players = all_players[all_players[\"Pace / Diving\"].isna()]\n",
    "na_players"
   ]
  },
  {
   "cell_type": "code",
   "execution_count": 45,
   "id": "e7cabbaa",
   "metadata": {
    "execution": {
     "iopub.execute_input": "2023-01-06T23:27:19.110101Z",
     "iopub.status.busy": "2023-01-06T23:27:19.109681Z",
     "iopub.status.idle": "2023-01-06T23:27:19.150703Z",
     "shell.execute_reply": "2023-01-06T23:27:19.149334Z"
    },
    "papermill": {
     "duration": 0.065294,
     "end_time": "2023-01-06T23:27:19.153589",
     "exception": false,
     "start_time": "2023-01-06T23:27:19.088295",
     "status": "completed"
    },
    "tags": []
   },
   "outputs": [],
   "source": [
    "all_players.drop(na_players.index, inplace=True, errors='ignore')\n",
    "all_players = all_players.reset_index().drop('index', axis=1)"
   ]
  },
  {
   "cell_type": "code",
   "execution_count": 46,
   "id": "4dc93fc5",
   "metadata": {
    "execution": {
     "iopub.execute_input": "2023-01-06T23:27:19.196027Z",
     "iopub.status.busy": "2023-01-06T23:27:19.195592Z",
     "iopub.status.idle": "2023-01-06T23:27:19.219557Z",
     "shell.execute_reply": "2023-01-06T23:27:19.218668Z"
    },
    "papermill": {
     "duration": 0.048596,
     "end_time": "2023-01-06T23:27:19.222152",
     "exception": false,
     "start_time": "2023-01-06T23:27:19.173556",
     "status": "completed"
    },
    "tags": []
   },
   "outputs": [],
   "source": [
    "all_players['Price'] = pd.to_numeric(all_players['Price'])"
   ]
  },
  {
   "cell_type": "code",
   "execution_count": 47,
   "id": "c1728c48",
   "metadata": {
    "execution": {
     "iopub.execute_input": "2023-01-06T23:27:19.265691Z",
     "iopub.status.busy": "2023-01-06T23:27:19.264823Z",
     "iopub.status.idle": "2023-01-06T23:27:19.317476Z",
     "shell.execute_reply": "2023-01-06T23:27:19.315758Z"
    },
    "papermill": {
     "duration": 0.078844,
     "end_time": "2023-01-06T23:27:19.322045",
     "exception": false,
     "start_time": "2023-01-06T23:27:19.243201",
     "status": "completed"
    },
    "tags": []
   },
   "outputs": [
    {
     "name": "stdout",
     "output_type": "stream",
     "text": [
      "<class 'pandas.core.frame.DataFrame'>\n",
      "RangeIndex: 18233 entries, 0 to 18232\n",
      "Data columns (total 26 columns):\n",
      " #   Column                  Non-Null Count  Dtype  \n",
      "---  ------                  --------------  -----  \n",
      " 0   Name                    18233 non-null  object \n",
      " 1   Club                    18233 non-null  object \n",
      " 2   Nation                  18233 non-null  object \n",
      " 3   League                  18233 non-null  object \n",
      " 4   Rating                  18233 non-null  int64  \n",
      " 5   Main_Position           18233 non-null  object \n",
      " 6   Alternate_Positions     18233 non-null  object \n",
      " 7   Card_Version            18233 non-null  object \n",
      " 8   Run_Style               18233 non-null  object \n",
      " 9   Price                   18233 non-null  float64\n",
      " 10  Price_Variation         18233 non-null  object \n",
      " 11  Skills_Star             18233 non-null  int64  \n",
      " 12  Weak_Foot_Star          18233 non-null  int64  \n",
      " 13  Attack_Workrate         18233 non-null  object \n",
      " 14  Defense_Workrate        18233 non-null  object \n",
      " 15  Pace / Diving           18233 non-null  float64\n",
      " 16  Shooting / Handling     18233 non-null  int64  \n",
      " 17  Passing / Kicking       18233 non-null  int64  \n",
      " 18  Dribbling / Reflexes    18233 non-null  int64  \n",
      " 19  Defense / Speed         18233 non-null  int64  \n",
      " 20  Physical / Positioning  18233 non-null  int64  \n",
      " 21  Height                  18233 non-null  object \n",
      " 22  BodyType                18233 non-null  object \n",
      " 23  Popularity              18233 non-null  int64  \n",
      " 24  Base_Stats              18233 non-null  int64  \n",
      " 25  Ingame_Stats            18233 non-null  int64  \n",
      "dtypes: float64(2), int64(11), object(13)\n",
      "memory usage: 3.6+ MB\n"
     ]
    }
   ],
   "source": [
    "all_players.info()"
   ]
  },
  {
   "cell_type": "markdown",
   "id": "13223605",
   "metadata": {
    "papermill": {
     "duration": 0.021115,
     "end_time": "2023-01-06T23:27:19.365283",
     "exception": false,
     "start_time": "2023-01-06T23:27:19.344168",
     "status": "completed"
    },
    "tags": []
   },
   "source": [
    "<div style=\"font-family:Inter; text-align:center; font-size:36px;\n",
    "            background-color:#ead1dc; border-radius: 20px; padding: 10px\">\n",
    "    <b>Exporting as csv</b></div>"
   ]
  },
  {
   "cell_type": "code",
   "execution_count": 48,
   "id": "94468fa1",
   "metadata": {
    "execution": {
     "iopub.execute_input": "2023-01-06T23:27:19.409772Z",
     "iopub.status.busy": "2023-01-06T23:27:19.409362Z",
     "iopub.status.idle": "2023-01-06T23:27:19.604589Z",
     "shell.execute_reply": "2023-01-06T23:27:19.603538Z"
    },
    "papermill": {
     "duration": 0.221546,
     "end_time": "2023-01-06T23:27:19.607391",
     "exception": false,
     "start_time": "2023-01-06T23:27:19.385845",
     "status": "completed"
    },
    "tags": []
   },
   "outputs": [],
   "source": [
    "path = \"fifa23_players_\"\n",
    "today = str(date.today())\n",
    "path += today + \".csv\"\n",
    "\n",
    "all_players.to_csv(path, index=False)"
   ]
  }
 ],
 "metadata": {
  "kernelspec": {
   "display_name": "Python 3",
   "language": "python",
   "name": "python3"
  },
  "language_info": {
   "codemirror_mode": {
    "name": "ipython",
    "version": 3
   },
   "file_extension": ".py",
   "mimetype": "text/x-python",
   "name": "python",
   "nbconvert_exporter": "python",
   "pygments_lexer": "ipython3",
   "version": "3.7.12"
  },
  "papermill": {
   "default_parameters": {},
   "duration": 2837.677911,
   "end_time": "2023-01-06T23:27:20.456765",
   "environment_variables": {},
   "exception": null,
   "input_path": "__notebook__.ipynb",
   "output_path": "__notebook__.ipynb",
   "parameters": {},
   "start_time": "2023-01-06T22:40:02.778854",
   "version": "2.3.4"
  }
 },
 "nbformat": 4,
 "nbformat_minor": 5
}
