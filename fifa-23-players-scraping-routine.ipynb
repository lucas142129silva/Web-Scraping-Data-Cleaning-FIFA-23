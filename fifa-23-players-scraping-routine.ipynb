{
 "cells": [
  {
   "cell_type": "markdown",
   "id": "789e4a90",
   "metadata": {
    "papermill": {
     "duration": 0.019353,
     "end_time": "2023-01-14T00:50:56.381086",
     "exception": false,
     "start_time": "2023-01-14T00:50:56.361733",
     "status": "completed"
    },
    "tags": []
   },
   "source": [
    "<div style=\"font-family:Inter; text-align:center; font-size:36px;\n",
    "            background-color:#ead1dc; border-radius: 20px; padding: 10px\">\n",
    "    <b>Introduction</b></div>"
   ]
  },
  {
   "cell_type": "markdown",
   "id": "6bdac034",
   "metadata": {
    "papermill": {
     "duration": 0.01829,
     "end_time": "2023-01-14T00:50:56.418022",
     "exception": false,
     "start_time": "2023-01-14T00:50:56.399732",
     "status": "completed"
    },
    "tags": []
   },
   "source": [
    "<div style=\"font-size: 26px; font-family:Inter\"><b>Objectives</b></div>\n",
    "<hr style=\"height:6px; background-color:#9c9598\"></hr>\n",
    "<p style=\"font-size: 16px; font-family:Inter\">Make an <b>updatable FIFA 23 players dataset</b>, new players will be added and prices will be updated. Also, it helps me to improve in <b>web scraping and data cleaning</b>. I hope you enjoy.</p>"
   ]
  },
  {
   "cell_type": "markdown",
   "id": "03a227c2",
   "metadata": {
    "papermill": {
     "duration": 0.017397,
     "end_time": "2023-01-14T00:50:56.453405",
     "exception": false,
     "start_time": "2023-01-14T00:50:56.436008",
     "status": "completed"
    },
    "tags": []
   },
   "source": [
    "<div style=\"font-size: 26px; font-family:Inter\"><b>Technologies and Concepts used</b></div>\n",
    "<hr style=\"height:6px; background-color:#9c9598\"></hr>\n",
    "<div style=\"font-size: 16px; font-family:Inter\">\n",
    "    <ul>\n",
    "        <li> <b>Beautiful Soup</b> for Web Scraping;</li>   \n",
    "        <li> <b>URLlib</b> for requests;</li>\n",
    "        <li> <b>Pandas</b> for data manipulation and data cleaning; </li>\n",
    "    </ul>\n",
    "</div>\n",
    "<img src=\"https://upload.wikimedia.org/wikipedia/commons/thumb/e/ed/Pandas_logo.svg/1200px-Pandas_logo.svg.png\" style=\"width:150px;height:-100px\"></img>"
   ]
  },
  {
   "cell_type": "markdown",
   "id": "4a1a15fa",
   "metadata": {
    "papermill": {
     "duration": 0.017308,
     "end_time": "2023-01-14T00:50:56.488677",
     "exception": false,
     "start_time": "2023-01-14T00:50:56.471369",
     "status": "completed"
    },
    "tags": []
   },
   "source": [
    "<div style=\"font-size: 26px; font-family:Inter\"><b>From where the data was scraped</b></div>\n",
    "<hr style=\"height:6px; background-color:#9c9598\"></hr>\n",
    "<p style=\"font-size: 16px; font-family:Inter\"><b>FUTBIN</b> is a FIFA site that contains the FIFA 23 players and features database.</p>"
   ]
  },
  {
   "cell_type": "markdown",
   "id": "7b3743d3",
   "metadata": {
    "papermill": {
     "duration": 0.017299,
     "end_time": "2023-01-14T00:50:56.523996",
     "exception": false,
     "start_time": "2023-01-14T00:50:56.506697",
     "status": "completed"
    },
    "tags": []
   },
   "source": [
    "<img src=\"https://cdn.futbin.com/design/img/futbinBigLogo-w.png\" style=\"background-color:#75ddac;border-radius:20px\"><img>"
   ]
  },
  {
   "cell_type": "markdown",
   "id": "8cd925b5",
   "metadata": {
    "papermill": {
     "duration": 0.017318,
     "end_time": "2023-01-14T00:50:56.559011",
     "exception": false,
     "start_time": "2023-01-14T00:50:56.541693",
     "status": "completed"
    },
    "tags": []
   },
   "source": [
    "<div style=\"font-family:Inter; text-align:center; font-size:36px;\n",
    "            background-color:#ead1dc; border-radius: 20px; padding: 10px\">\n",
    "    <b>Imports</b></div>"
   ]
  },
  {
   "cell_type": "code",
   "execution_count": 1,
   "id": "4db6766c",
   "metadata": {
    "execution": {
     "iopub.execute_input": "2023-01-14T00:50:56.597325Z",
     "iopub.status.busy": "2023-01-14T00:50:56.596440Z",
     "iopub.status.idle": "2023-01-14T00:50:56.817969Z",
     "shell.execute_reply": "2023-01-14T00:50:56.816619Z"
    },
    "papermill": {
     "duration": 0.244552,
     "end_time": "2023-01-14T00:50:56.821551",
     "exception": false,
     "start_time": "2023-01-14T00:50:56.576999",
     "status": "completed"
    },
    "tags": []
   },
   "outputs": [],
   "source": [
    "# Data Manipulation\n",
    "import numpy as np\n",
    "import pandas as pd\n",
    "\n",
    "# Web Scraping\n",
    "from urllib.request import Request, urlopen\n",
    "from urllib.error import HTTPError\n",
    "from bs4 import BeautifulSoup\n",
    "\n",
    "# Time\n",
    "from datetime import date\n",
    "from time import sleep"
   ]
  },
  {
   "cell_type": "markdown",
   "id": "d1b8a5a3",
   "metadata": {
    "papermill": {
     "duration": 0.017536,
     "end_time": "2023-01-14T00:50:56.856745",
     "exception": false,
     "start_time": "2023-01-14T00:50:56.839209",
     "status": "completed"
    },
    "tags": []
   },
   "source": [
    "<div style=\"font-family:Inter; text-align:center; font-size:36px;\n",
    "            background-color:#ead1dc; border-radius: 20px; padding: 10px\">\n",
    "    <b>Creating a Pipeline Step by Step</b></div>"
   ]
  },
  {
   "cell_type": "markdown",
   "id": "72eeeabc",
   "metadata": {
    "papermill": {
     "duration": 0.017178,
     "end_time": "2023-01-14T00:50:56.891399",
     "exception": false,
     "start_time": "2023-01-14T00:50:56.874221",
     "status": "completed"
    },
    "tags": []
   },
   "source": [
    "<div style=\"font-size: 26px; font-family:Inter\"><b>Example - Top 30 Gold Players - Mbappé</b></div>\n",
    "<hr style=\"height:6px; background-color:#9c9598\"></hr>"
   ]
  },
  {
   "cell_type": "code",
   "execution_count": 2,
   "id": "95d783e1",
   "metadata": {
    "execution": {
     "iopub.execute_input": "2023-01-14T00:50:56.928746Z",
     "iopub.status.busy": "2023-01-14T00:50:56.928211Z",
     "iopub.status.idle": "2023-01-14T00:50:58.071264Z",
     "shell.execute_reply": "2023-01-14T00:50:58.069963Z"
    },
    "papermill": {
     "duration": 1.165174,
     "end_time": "2023-01-14T00:50:58.074321",
     "exception": false,
     "start_time": "2023-01-14T00:50:56.909147",
     "status": "completed"
    },
    "tags": []
   },
   "outputs": [],
   "source": [
    "url = \"https://www.futbin.com/players?page=1&version=gold_rare&pos_type=all\"\n",
    "\n",
    "headers = {'User-Agent': 'Mozilla/5.0'}\n",
    "req = Request(url, headers=headers)\n",
    "response = urlopen(req)\n",
    "html = response.read()\n",
    "\n",
    "\n",
    "soup = BeautifulSoup(html, 'html.parser')"
   ]
  },
  {
   "cell_type": "code",
   "execution_count": 3,
   "id": "c8e6d7c7",
   "metadata": {
    "execution": {
     "iopub.execute_input": "2023-01-14T00:50:58.111528Z",
     "iopub.status.busy": "2023-01-14T00:50:58.111046Z",
     "iopub.status.idle": "2023-01-14T00:50:58.122175Z",
     "shell.execute_reply": "2023-01-14T00:50:58.120785Z"
    },
    "papermill": {
     "duration": 0.033171,
     "end_time": "2023-01-14T00:50:58.124831",
     "exception": false,
     "start_time": "2023-01-14T00:50:58.091660",
     "status": "completed"
    },
    "tags": []
   },
   "outputs": [],
   "source": [
    "example = soup.find_all(\"tr\")[4] # Mbappé"
   ]
  },
  {
   "cell_type": "code",
   "execution_count": 4,
   "id": "8ac12d67",
   "metadata": {
    "execution": {
     "iopub.execute_input": "2023-01-14T00:50:58.162592Z",
     "iopub.status.busy": "2023-01-14T00:50:58.161434Z",
     "iopub.status.idle": "2023-01-14T00:50:58.167723Z",
     "shell.execute_reply": "2023-01-14T00:50:58.166780Z"
    },
    "papermill": {
     "duration": 0.027987,
     "end_time": "2023-01-14T00:50:58.170267",
     "exception": false,
     "start_time": "2023-01-14T00:50:58.142280",
     "status": "completed"
    },
    "tags": []
   },
   "outputs": [],
   "source": [
    "attributes = [td.get_text() for td in example.find_all(\"td\")]"
   ]
  },
  {
   "cell_type": "markdown",
   "id": "177c753a",
   "metadata": {
    "papermill": {
     "duration": 0.017032,
     "end_time": "2023-01-14T00:50:58.204626",
     "exception": false,
     "start_time": "2023-01-14T00:50:58.187594",
     "status": "completed"
    },
    "tags": []
   },
   "source": [
    "<div style=\"font-size: 26px; font-family:Inter\"><b>Clean the Data</b></div>\n",
    "<hr style=\"height:6px; background-color:#9c9598\"></hr>"
   ]
  },
  {
   "cell_type": "code",
   "execution_count": 5,
   "id": "bedef571",
   "metadata": {
    "execution": {
     "iopub.execute_input": "2023-01-14T00:50:58.241825Z",
     "iopub.status.busy": "2023-01-14T00:50:58.241087Z",
     "iopub.status.idle": "2023-01-14T00:50:58.246608Z",
     "shell.execute_reply": "2023-01-14T00:50:58.245791Z"
    },
    "papermill": {
     "duration": 0.027059,
     "end_time": "2023-01-14T00:50:58.249087",
     "exception": false,
     "start_time": "2023-01-14T00:50:58.222028",
     "status": "completed"
    },
    "tags": []
   },
   "outputs": [],
   "source": [
    "def flatten_list(list_):\n",
    "    output = []\n",
    "    for sublist in list_:\n",
    "        output.extend(sublist)\n",
    "        \n",
    "    return output"
   ]
  },
  {
   "cell_type": "code",
   "execution_count": 6,
   "id": "65207071",
   "metadata": {
    "execution": {
     "iopub.execute_input": "2023-01-14T00:50:58.286374Z",
     "iopub.status.busy": "2023-01-14T00:50:58.285660Z",
     "iopub.status.idle": "2023-01-14T00:50:58.290903Z",
     "shell.execute_reply": "2023-01-14T00:50:58.290120Z"
    },
    "papermill": {
     "duration": 0.026836,
     "end_time": "2023-01-14T00:50:58.293207",
     "exception": false,
     "start_time": "2023-01-14T00:50:58.266371",
     "status": "completed"
    },
    "tags": []
   },
   "outputs": [],
   "source": [
    "attributes = [i.strip() for i in attributes]"
   ]
  },
  {
   "cell_type": "markdown",
   "id": "d55682cc",
   "metadata": {
    "papermill": {
     "duration": 0.016708,
     "end_time": "2023-01-14T00:50:58.327129",
     "exception": false,
     "start_time": "2023-01-14T00:50:58.310421",
     "status": "completed"
    },
    "tags": []
   },
   "source": [
    "<div style=\"font-size: 26px; font-family:Inter\"><b>Get the Positions, Run Style and Price</b></div>\n",
    "<hr style=\"height:6px; background-color:#9c9598\"></hr>\n",
    "<p style=\"font-size: 16px; font-family:Inter\">Get these three attributes by splitting by \"\\n\". This will generate a list of lists, so it flattens to an one dimensional vector.</p>"
   ]
  },
  {
   "cell_type": "code",
   "execution_count": 7,
   "id": "016e20ad",
   "metadata": {
    "execution": {
     "iopub.execute_input": "2023-01-14T00:50:58.364238Z",
     "iopub.status.busy": "2023-01-14T00:50:58.363546Z",
     "iopub.status.idle": "2023-01-14T00:50:58.369149Z",
     "shell.execute_reply": "2023-01-14T00:50:58.368234Z"
    },
    "papermill": {
     "duration": 0.027272,
     "end_time": "2023-01-14T00:50:58.371661",
     "exception": false,
     "start_time": "2023-01-14T00:50:58.344389",
     "status": "completed"
    },
    "tags": []
   },
   "outputs": [],
   "source": [
    "attributes = flatten_list([i.split(\"\\n\") for i in attributes])"
   ]
  },
  {
   "cell_type": "markdown",
   "id": "92058a45",
   "metadata": {
    "papermill": {
     "duration": 0.017282,
     "end_time": "2023-01-14T00:50:58.406380",
     "exception": false,
     "start_time": "2023-01-14T00:50:58.389098",
     "status": "completed"
    },
    "tags": []
   },
   "source": [
    "<div style=\"font-size: 26px; font-family:Inter\"><b>Get the Workrates</b></div>\n",
    "<hr style=\"height:6px; background-color:#9c9598\"></hr>\n",
    "<p style=\"font-size: 16px; font-family:Inter\">Get the attack and defense workrates by splitting by \"\\\\\" and then flattening again.</p>"
   ]
  },
  {
   "cell_type": "code",
   "execution_count": 8,
   "id": "e9c63e5d",
   "metadata": {
    "execution": {
     "iopub.execute_input": "2023-01-14T00:50:58.443738Z",
     "iopub.status.busy": "2023-01-14T00:50:58.442891Z",
     "iopub.status.idle": "2023-01-14T00:50:58.448565Z",
     "shell.execute_reply": "2023-01-14T00:50:58.447670Z"
    },
    "papermill": {
     "duration": 0.027328,
     "end_time": "2023-01-14T00:50:58.451068",
     "exception": false,
     "start_time": "2023-01-14T00:50:58.423740",
     "status": "completed"
    },
    "tags": []
   },
   "outputs": [],
   "source": [
    "attributes = flatten_list([i.split(\"\\\\\") for i in attributes])"
   ]
  },
  {
   "cell_type": "markdown",
   "id": "02d69aa3",
   "metadata": {
    "papermill": {
     "duration": 0.017656,
     "end_time": "2023-01-14T00:50:58.486212",
     "exception": false,
     "start_time": "2023-01-14T00:50:58.468556",
     "status": "completed"
    },
    "tags": []
   },
   "source": [
    "<div style=\"font-size: 26px; font-family:Inter\"><b>Cleaning again removing empty values</b></div>\n",
    "<hr style=\"height:6px; background-color:#9c9598\"></hr>\n",
    "<p style=\"font-size: 16px; font-family:Inter\">After all, there are items that are empty or dirty with \"\\n\" or \"\\r\", so it cleans it and generates a final list result.</p>"
   ]
  },
  {
   "cell_type": "code",
   "execution_count": 9,
   "id": "e7f3e1ab",
   "metadata": {
    "execution": {
     "iopub.execute_input": "2023-01-14T00:50:58.524084Z",
     "iopub.status.busy": "2023-01-14T00:50:58.523354Z",
     "iopub.status.idle": "2023-01-14T00:50:58.529183Z",
     "shell.execute_reply": "2023-01-14T00:50:58.528268Z"
    },
    "papermill": {
     "duration": 0.027801,
     "end_time": "2023-01-14T00:50:58.531846",
     "exception": false,
     "start_time": "2023-01-14T00:50:58.504045",
     "status": "completed"
    },
    "tags": []
   },
   "outputs": [],
   "source": [
    "attributes = [item.strip() for item in attributes if item.strip() != \"\"]"
   ]
  },
  {
   "cell_type": "markdown",
   "id": "84647667",
   "metadata": {
    "papermill": {
     "duration": 0.017062,
     "end_time": "2023-01-14T00:50:58.566535",
     "exception": false,
     "start_time": "2023-01-14T00:50:58.549473",
     "status": "completed"
    },
    "tags": []
   },
   "source": [
    "<div style=\"font-size: 26px; font-family:Inter\"><b>Partial Result</b></div>\n",
    "<hr style=\"height:6px; background-color:#9c9598\"></hr>"
   ]
  },
  {
   "cell_type": "code",
   "execution_count": 10,
   "id": "2611a6b7",
   "metadata": {
    "execution": {
     "iopub.execute_input": "2023-01-14T00:50:58.603538Z",
     "iopub.status.busy": "2023-01-14T00:50:58.603021Z",
     "iopub.status.idle": "2023-01-14T00:50:58.612982Z",
     "shell.execute_reply": "2023-01-14T00:50:58.611534Z"
    },
    "papermill": {
     "duration": 0.033315,
     "end_time": "2023-01-14T00:50:58.617177",
     "exception": false,
     "start_time": "2023-01-14T00:50:58.583862",
     "status": "completed"
    },
    "tags": []
   },
   "outputs": [
    {
     "data": {
      "text/plain": [
       "['Kylian Mbappé',\n",
       " '91',\n",
       " 'ST',\n",
       " 'CF,LW',\n",
       " 'Normal',\n",
       " 'Controlled',\n",
       " '772K',\n",
       " '0.26%',\n",
       " '5',\n",
       " '4',\n",
       " 'H',\n",
       " 'L',\n",
       " '97',\n",
       " '89',\n",
       " '80',\n",
       " '92',\n",
       " '36',\n",
       " '76',\n",
       " '182cm | 6\\'0\"',\n",
       " 'Unique  (73kg)',\n",
       " '-1796',\n",
       " '470',\n",
       " '2223']"
      ]
     },
     "execution_count": 10,
     "metadata": {},
     "output_type": "execute_result"
    }
   ],
   "source": [
    "attributes"
   ]
  },
  {
   "cell_type": "markdown",
   "id": "0a524317",
   "metadata": {
    "papermill": {
     "duration": 0.01746,
     "end_time": "2023-01-14T00:50:58.652378",
     "exception": false,
     "start_time": "2023-01-14T00:50:58.634918",
     "status": "completed"
    },
    "tags": []
   },
   "source": [
    "<div style=\"font-size: 26px; font-family:Inter\"><b>Get player information</b></div>\n",
    "<hr style=\"height:6px; background-color:#9c9598\"></hr>\n",
    "<p style=\"font-size: 16px; font-family:Inter\">Get player information for club, nation and league. They all are links, so they are tagged as \"&lt a &gt\".</p>"
   ]
  },
  {
   "cell_type": "code",
   "execution_count": 11,
   "id": "50b42ec0",
   "metadata": {
    "execution": {
     "iopub.execute_input": "2023-01-14T00:50:58.692061Z",
     "iopub.status.busy": "2023-01-14T00:50:58.690738Z",
     "iopub.status.idle": "2023-01-14T00:50:58.699353Z",
     "shell.execute_reply": "2023-01-14T00:50:58.698521Z"
    },
    "papermill": {
     "duration": 0.031242,
     "end_time": "2023-01-14T00:50:58.701483",
     "exception": false,
     "start_time": "2023-01-14T00:50:58.670241",
     "status": "completed"
    },
    "tags": []
   },
   "outputs": [
    {
     "data": {
      "text/plain": [
       "['Paris SG', 'France', 'Ligue 1']"
      ]
     },
     "execution_count": 11,
     "metadata": {},
     "output_type": "execute_result"
    }
   ],
   "source": [
    "player_information = example.find_all(\"span\")[0].find_all(\"a\")\n",
    "player_information = [item['data-original-title'] for item in player_information]\n",
    "player_information"
   ]
  },
  {
   "cell_type": "markdown",
   "id": "4bbb7e8a",
   "metadata": {
    "papermill": {
     "duration": 0.017317,
     "end_time": "2023-01-14T00:50:58.736371",
     "exception": false,
     "start_time": "2023-01-14T00:50:58.719054",
     "status": "completed"
    },
    "tags": []
   },
   "source": [
    "<div style=\"font-size: 26px; font-family:Inter\"><b>Joining all the pipeline</b></div>\n",
    "<hr style=\"height:6px; background-color:#9c9598\"></hr>\n",
    "<p style=\"font-size: 16px; font-family:Inter\">Joining all the pipeline in order to create a dictionary of each player, which all values are labeled.</p>"
   ]
  },
  {
   "cell_type": "code",
   "execution_count": 12,
   "id": "5075200f",
   "metadata": {
    "execution": {
     "iopub.execute_input": "2023-01-14T00:50:58.773970Z",
     "iopub.status.busy": "2023-01-14T00:50:58.773090Z",
     "iopub.status.idle": "2023-01-14T00:50:58.779773Z",
     "shell.execute_reply": "2023-01-14T00:50:58.778472Z"
    },
    "papermill": {
     "duration": 0.02836,
     "end_time": "2023-01-14T00:50:58.782330",
     "exception": false,
     "start_time": "2023-01-14T00:50:58.753970",
     "status": "completed"
    },
    "tags": []
   },
   "outputs": [],
   "source": [
    "attributes_names = [\"Name\", \"Club\", \"Nation\", \"League\", \"Rating\", \"Main_Position\", \"Alternate_Positions\", \n",
    "                    \"Card_Version\", \"Run_Style\", \"Price\", \"Price_Variation\", \"Skills_Star\", \"Weak_Foot_Star\", \n",
    "                    \"Attack_Workrate\", \"Defense_Workrate\", \n",
    "                    \"Pace / Diving\", \"Shooting / Handling\",\n",
    "                    \"Passing / Kicking\", \"Dribbling / Reflexes\", \n",
    "                    \"Defense / Speed\", \"Physical / Positioning\", \n",
    "                    \"Height\", \"BodyType\", \"Popularity\", \"Base_Stats\", \"Ingame_Stats\"]"
   ]
  },
  {
   "cell_type": "code",
   "execution_count": 13,
   "id": "4a75cf9c",
   "metadata": {
    "execution": {
     "iopub.execute_input": "2023-01-14T00:50:58.820220Z",
     "iopub.status.busy": "2023-01-14T00:50:58.819411Z",
     "iopub.status.idle": "2023-01-14T00:50:58.824978Z",
     "shell.execute_reply": "2023-01-14T00:50:58.824154Z"
    },
    "papermill": {
     "duration": 0.027454,
     "end_time": "2023-01-14T00:50:58.827484",
     "exception": false,
     "start_time": "2023-01-14T00:50:58.800030",
     "status": "completed"
    },
    "tags": []
   },
   "outputs": [],
   "source": [
    "for e, info in enumerate(player_information):\n",
    "    attributes.insert(e + 1, info)"
   ]
  },
  {
   "cell_type": "code",
   "execution_count": 14,
   "id": "bb1dca6b",
   "metadata": {
    "execution": {
     "iopub.execute_input": "2023-01-14T00:50:58.865185Z",
     "iopub.status.busy": "2023-01-14T00:50:58.864458Z",
     "iopub.status.idle": "2023-01-14T00:50:58.872717Z",
     "shell.execute_reply": "2023-01-14T00:50:58.871473Z"
    },
    "papermill": {
     "duration": 0.03029,
     "end_time": "2023-01-14T00:50:58.875358",
     "exception": false,
     "start_time": "2023-01-14T00:50:58.845068",
     "status": "completed"
    },
    "tags": []
   },
   "outputs": [
    {
     "data": {
      "text/plain": [
       "{'Name': 'Kylian Mbappé',\n",
       " 'Club': 'Paris SG',\n",
       " 'Nation': 'France',\n",
       " 'League': 'Ligue 1',\n",
       " 'Rating': '91',\n",
       " 'Main_Position': 'ST',\n",
       " 'Alternate_Positions': 'CF,LW',\n",
       " 'Card_Version': 'Normal',\n",
       " 'Run_Style': 'Controlled',\n",
       " 'Price': '772K',\n",
       " 'Price_Variation': '0.26%',\n",
       " 'Skills_Star': '5',\n",
       " 'Weak_Foot_Star': '4',\n",
       " 'Attack_Workrate': 'H',\n",
       " 'Defense_Workrate': 'L',\n",
       " 'Pace / Diving': '97',\n",
       " 'Shooting / Handling': '89',\n",
       " 'Passing / Kicking': '80',\n",
       " 'Dribbling / Reflexes': '92',\n",
       " 'Defense / Speed': '36',\n",
       " 'Physical / Positioning': '76',\n",
       " 'Height': '182cm | 6\\'0\"',\n",
       " 'BodyType': 'Unique  (73kg)',\n",
       " 'Popularity': '-1796',\n",
       " 'Base_Stats': '470',\n",
       " 'Ingame_Stats': '2223'}"
      ]
     },
     "execution_count": 14,
     "metadata": {},
     "output_type": "execute_result"
    }
   ],
   "source": [
    "player_dict = dict(zip(attributes_names, attributes))\n",
    "player_dict"
   ]
  },
  {
   "cell_type": "markdown",
   "id": "14c8a4dd",
   "metadata": {
    "papermill": {
     "duration": 0.017715,
     "end_time": "2023-01-14T00:50:58.911002",
     "exception": false,
     "start_time": "2023-01-14T00:50:58.893287",
     "status": "completed"
    },
    "tags": []
   },
   "source": [
    "<div style=\"font-size: 26px; font-family:Inter\"><b>Players without Alternate Position problem</b></div>\n",
    "<hr style=\"height:6px; background-color:#9c9598\"></hr>\n",
    "<p style=\"font-size: 16px; font-family:Inter\">Players that don't have an alternate position have the value as \"\", so the function cleans it, implying in missing values. One example is Van Dijk, his values vector has 25 values instead of 26 like Mbappé, so for these players it adds \"0\" in the alternate position field using the same attributes names dictionary.</p>"
   ]
  },
  {
   "cell_type": "code",
   "execution_count": 15,
   "id": "950eb572",
   "metadata": {
    "execution": {
     "iopub.execute_input": "2023-01-14T00:50:58.949251Z",
     "iopub.status.busy": "2023-01-14T00:50:58.948757Z",
     "iopub.status.idle": "2023-01-14T00:50:58.957858Z",
     "shell.execute_reply": "2023-01-14T00:50:58.956969Z"
    },
    "papermill": {
     "duration": 0.031133,
     "end_time": "2023-01-14T00:50:58.959919",
     "exception": false,
     "start_time": "2023-01-14T00:50:58.928786",
     "status": "completed"
    },
    "tags": []
   },
   "outputs": [],
   "source": [
    "van_dijk = soup.find_all(\"tr\")[12]"
   ]
  },
  {
   "cell_type": "code",
   "execution_count": 16,
   "id": "3719f7db",
   "metadata": {
    "_kg_hide-input": true,
    "execution": {
     "iopub.execute_input": "2023-01-14T00:50:58.997784Z",
     "iopub.status.busy": "2023-01-14T00:50:58.996973Z",
     "iopub.status.idle": "2023-01-14T00:50:59.009061Z",
     "shell.execute_reply": "2023-01-14T00:50:59.007727Z"
    },
    "papermill": {
     "duration": 0.033963,
     "end_time": "2023-01-14T00:50:59.011654",
     "exception": false,
     "start_time": "2023-01-14T00:50:58.977691",
     "status": "completed"
    },
    "tags": []
   },
   "outputs": [
    {
     "data": {
      "text/plain": [
       "['Virgil van Dijk',\n",
       " 'Liverpool',\n",
       " 'Netherlands',\n",
       " 'Premier League',\n",
       " '90',\n",
       " 'CB',\n",
       " 'Normal',\n",
       " 'Lengthy',\n",
       " '75K',\n",
       " '1.35%',\n",
       " '2',\n",
       " '3',\n",
       " 'M',\n",
       " 'H',\n",
       " '81',\n",
       " '60',\n",
       " '71',\n",
       " '72',\n",
       " '91',\n",
       " '86',\n",
       " '193cm | 6\\'4\"',\n",
       " 'Unique  (92kg)',\n",
       " '3116',\n",
       " '461',\n",
       " '2149']"
      ]
     },
     "execution_count": 16,
     "metadata": {},
     "output_type": "execute_result"
    }
   ],
   "source": [
    "attributes = [td.get_text() for td in van_dijk.find_all(\"td\")]\n",
    "attributes = [i.strip() for i in attributes]\n",
    "\n",
    "attributes = flatten_list([i.split(\"\\n\") for i in attributes])\n",
    "attributes = flatten_list([i.split(\"\\\\\") for i in attributes])\n",
    "\n",
    "attributes = [item.strip() for item in attributes if item.strip() != \"\"]\n",
    "\n",
    "player_information = van_dijk.find_all(\"span\")[0].find_all(\"a\")\n",
    "player_information = [item['data-original-title'] for item in player_information]\n",
    "\n",
    "for e, info in enumerate(player_information):\n",
    "    attributes.insert(e + 1, info)\n",
    "    \n",
    "attributes"
   ]
  },
  {
   "cell_type": "code",
   "execution_count": 17,
   "id": "47ebea20",
   "metadata": {
    "execution": {
     "iopub.execute_input": "2023-01-14T00:50:59.049958Z",
     "iopub.status.busy": "2023-01-14T00:50:59.049483Z",
     "iopub.status.idle": "2023-01-14T00:50:59.056774Z",
     "shell.execute_reply": "2023-01-14T00:50:59.055668Z"
    },
    "papermill": {
     "duration": 0.029801,
     "end_time": "2023-01-14T00:50:59.059585",
     "exception": false,
     "start_time": "2023-01-14T00:50:59.029784",
     "status": "completed"
    },
    "tags": []
   },
   "outputs": [
    {
     "data": {
      "text/plain": [
       "25"
      ]
     },
     "execution_count": 17,
     "metadata": {},
     "output_type": "execute_result"
    }
   ],
   "source": [
    "len(attributes)"
   ]
  },
  {
   "cell_type": "markdown",
   "id": "fac27b9b",
   "metadata": {
    "papermill": {
     "duration": 0.017926,
     "end_time": "2023-01-14T00:50:59.096443",
     "exception": false,
     "start_time": "2023-01-14T00:50:59.078517",
     "status": "completed"
    },
    "tags": []
   },
   "source": [
    "<div style=\"font-size: 26px; font-family:Inter\"><b>Joining all the steps into a function</b></div>\n",
    "<hr style=\"height:6px; background-color:#9c9598\"></hr>"
   ]
  },
  {
   "cell_type": "code",
   "execution_count": 18,
   "id": "a7bbd6a2",
   "metadata": {
    "execution": {
     "iopub.execute_input": "2023-01-14T00:50:59.136225Z",
     "iopub.status.busy": "2023-01-14T00:50:59.135018Z",
     "iopub.status.idle": "2023-01-14T00:50:59.145316Z",
     "shell.execute_reply": "2023-01-14T00:50:59.143830Z"
    },
    "papermill": {
     "duration": 0.032716,
     "end_time": "2023-01-14T00:50:59.148041",
     "exception": false,
     "start_time": "2023-01-14T00:50:59.115325",
     "status": "completed"
    },
    "tags": []
   },
   "outputs": [],
   "source": [
    "def get_player_attributes(row):\n",
    "    attributes = [td.get_text() for td in row.find_all(\"td\")]\n",
    "    attributes = [i.strip() for i in attributes]\n",
    "    \n",
    "    attributes = flatten_list([i.split(\"\\n\") for i in attributes])\n",
    "    attributes = flatten_list([i.split(\"\\\\\") for i in attributes])\n",
    "    \n",
    "    attributes = [item.strip() for item in attributes if item.strip() != \"\"]\n",
    "    \n",
    "    # Club, League and Nation\n",
    "    player_information = row.find_all(\"span\")[0].find_all(\"a\")\n",
    "    player_information = [item['data-original-title'] for item in player_information]\n",
    "    \n",
    "    # Adding to the attributes list\n",
    "    for e, info in enumerate(player_information):\n",
    "        attributes.insert(e + 1, info)\n",
    "        \n",
    "    # If a player doesn't have an alternate position\n",
    "    if len(attributes) == 25:\n",
    "        attributes.insert(6, None)\n",
    "    \n",
    "    player_dict = dict(zip(attributes_names, attributes))\n",
    "    return player_dict"
   ]
  },
  {
   "cell_type": "markdown",
   "id": "1832ceb4",
   "metadata": {
    "papermill": {
     "duration": 0.018229,
     "end_time": "2023-01-14T00:50:59.184891",
     "exception": false,
     "start_time": "2023-01-14T00:50:59.166662",
     "status": "completed"
    },
    "tags": []
   },
   "source": [
    "<div style=\"font-size: 26px; font-family:Inter\"><b>Example with the top 30 gold players</b></div>\n",
    "<hr style=\"height:6px; background-color:#9c9598\"></hr>"
   ]
  },
  {
   "cell_type": "code",
   "execution_count": 19,
   "id": "67edf8d4",
   "metadata": {
    "execution": {
     "iopub.execute_input": "2023-01-14T00:50:59.224164Z",
     "iopub.status.busy": "2023-01-14T00:50:59.223602Z",
     "iopub.status.idle": "2023-01-14T00:50:59.233860Z",
     "shell.execute_reply": "2023-01-14T00:50:59.232685Z"
    },
    "papermill": {
     "duration": 0.032854,
     "end_time": "2023-01-14T00:50:59.236316",
     "exception": false,
     "start_time": "2023-01-14T00:50:59.203462",
     "status": "completed"
    },
    "tags": []
   },
   "outputs": [],
   "source": [
    "gold_players_page = soup.find_all(\"tr\")[::2]"
   ]
  },
  {
   "cell_type": "code",
   "execution_count": 20,
   "id": "c75d7596",
   "metadata": {
    "execution": {
     "iopub.execute_input": "2023-01-14T00:50:59.275076Z",
     "iopub.status.busy": "2023-01-14T00:50:59.274146Z",
     "iopub.status.idle": "2023-01-14T00:50:59.291494Z",
     "shell.execute_reply": "2023-01-14T00:50:59.290141Z"
    },
    "papermill": {
     "duration": 0.039475,
     "end_time": "2023-01-14T00:50:59.294042",
     "exception": false,
     "start_time": "2023-01-14T00:50:59.254567",
     "status": "completed"
    },
    "tags": []
   },
   "outputs": [],
   "source": [
    "top30_gold_players = list()\n",
    "\n",
    "for player_row in gold_players_page:\n",
    "    player_attributes = get_player_attributes(player_row)\n",
    "    top30_gold_players.append(player_attributes)"
   ]
  },
  {
   "cell_type": "code",
   "execution_count": 21,
   "id": "015c3441",
   "metadata": {
    "_kg_hide-input": true,
    "execution": {
     "iopub.execute_input": "2023-01-14T00:50:59.336842Z",
     "iopub.status.busy": "2023-01-14T00:50:59.336343Z",
     "iopub.status.idle": "2023-01-14T00:50:59.375998Z",
     "shell.execute_reply": "2023-01-14T00:50:59.374571Z"
    },
    "papermill": {
     "duration": 0.065418,
     "end_time": "2023-01-14T00:50:59.378673",
     "exception": false,
     "start_time": "2023-01-14T00:50:59.313255",
     "status": "completed"
    },
    "tags": []
   },
   "outputs": [
    {
     "data": {
      "text/html": [
       "<div>\n",
       "<style scoped>\n",
       "    .dataframe tbody tr th:only-of-type {\n",
       "        vertical-align: middle;\n",
       "    }\n",
       "\n",
       "    .dataframe tbody tr th {\n",
       "        vertical-align: top;\n",
       "    }\n",
       "\n",
       "    .dataframe thead th {\n",
       "        text-align: right;\n",
       "    }\n",
       "</style>\n",
       "<table border=\"1\" class=\"dataframe\">\n",
       "  <thead>\n",
       "    <tr style=\"text-align: right;\">\n",
       "      <th></th>\n",
       "      <th>Name</th>\n",
       "      <th>Club</th>\n",
       "      <th>Nation</th>\n",
       "      <th>League</th>\n",
       "      <th>Rating</th>\n",
       "      <th>Main_Position</th>\n",
       "      <th>Alternate_Positions</th>\n",
       "      <th>Card_Version</th>\n",
       "      <th>Run_Style</th>\n",
       "      <th>Price</th>\n",
       "      <th>...</th>\n",
       "      <th>Shooting / Handling</th>\n",
       "      <th>Passing / Kicking</th>\n",
       "      <th>Dribbling / Reflexes</th>\n",
       "      <th>Defense / Speed</th>\n",
       "      <th>Physical / Positioning</th>\n",
       "      <th>Height</th>\n",
       "      <th>BodyType</th>\n",
       "      <th>Popularity</th>\n",
       "      <th>Base_Stats</th>\n",
       "      <th>Ingame_Stats</th>\n",
       "    </tr>\n",
       "  </thead>\n",
       "  <tbody>\n",
       "    <tr>\n",
       "      <th>0</th>\n",
       "      <td>Karim Benzema</td>\n",
       "      <td>Real Madrid</td>\n",
       "      <td>France</td>\n",
       "      <td>LaLiga Santander</td>\n",
       "      <td>91</td>\n",
       "      <td>CF</td>\n",
       "      <td>ST</td>\n",
       "      <td>Normal</td>\n",
       "      <td>Controlled</td>\n",
       "      <td>63K</td>\n",
       "      <td>...</td>\n",
       "      <td>88</td>\n",
       "      <td>83</td>\n",
       "      <td>87</td>\n",
       "      <td>39</td>\n",
       "      <td>78</td>\n",
       "      <td>185cm | 6'1\"</td>\n",
       "      <td>Average  (81kg)</td>\n",
       "      <td>3576</td>\n",
       "      <td>455</td>\n",
       "      <td>2196</td>\n",
       "    </tr>\n",
       "    <tr>\n",
       "      <th>1</th>\n",
       "      <td>Robert Lewandowski</td>\n",
       "      <td>FC Barcelona</td>\n",
       "      <td>Poland</td>\n",
       "      <td>LaLiga Santander</td>\n",
       "      <td>91</td>\n",
       "      <td>ST</td>\n",
       "      <td>CF</td>\n",
       "      <td>Normal</td>\n",
       "      <td>Controlled</td>\n",
       "      <td>63.5K</td>\n",
       "      <td>...</td>\n",
       "      <td>91</td>\n",
       "      <td>79</td>\n",
       "      <td>86</td>\n",
       "      <td>44</td>\n",
       "      <td>83</td>\n",
       "      <td>185cm | 6'1\"</td>\n",
       "      <td>Unique  (81kg)</td>\n",
       "      <td>1111</td>\n",
       "      <td>458</td>\n",
       "      <td>2242</td>\n",
       "    </tr>\n",
       "    <tr>\n",
       "      <th>2</th>\n",
       "      <td>Kylian Mbappé</td>\n",
       "      <td>Paris SG</td>\n",
       "      <td>France</td>\n",
       "      <td>Ligue 1</td>\n",
       "      <td>91</td>\n",
       "      <td>ST</td>\n",
       "      <td>CF,LW</td>\n",
       "      <td>Normal</td>\n",
       "      <td>Controlled</td>\n",
       "      <td>772K</td>\n",
       "      <td>...</td>\n",
       "      <td>89</td>\n",
       "      <td>80</td>\n",
       "      <td>92</td>\n",
       "      <td>36</td>\n",
       "      <td>76</td>\n",
       "      <td>182cm | 6'0\"</td>\n",
       "      <td>Unique  (73kg)</td>\n",
       "      <td>-1796</td>\n",
       "      <td>470</td>\n",
       "      <td>2223</td>\n",
       "    </tr>\n",
       "    <tr>\n",
       "      <th>3</th>\n",
       "      <td>Kevin De Bruyne</td>\n",
       "      <td>Manchester City</td>\n",
       "      <td>Belgium</td>\n",
       "      <td>Premier League</td>\n",
       "      <td>91</td>\n",
       "      <td>CM</td>\n",
       "      <td>CAM</td>\n",
       "      <td>Normal</td>\n",
       "      <td>Controlled</td>\n",
       "      <td>62K</td>\n",
       "      <td>...</td>\n",
       "      <td>88</td>\n",
       "      <td>93</td>\n",
       "      <td>87</td>\n",
       "      <td>64</td>\n",
       "      <td>77</td>\n",
       "      <td>181cm | 5'11\"</td>\n",
       "      <td>Unique  (70kg)</td>\n",
       "      <td>1919</td>\n",
       "      <td>483</td>\n",
       "      <td>2336</td>\n",
       "    </tr>\n",
       "    <tr>\n",
       "      <th>4</th>\n",
       "      <td>Lionel Messi</td>\n",
       "      <td>Paris SG</td>\n",
       "      <td>Argentina</td>\n",
       "      <td>Ligue 1</td>\n",
       "      <td>91</td>\n",
       "      <td>RW</td>\n",
       "      <td>RM</td>\n",
       "      <td>Normal</td>\n",
       "      <td>Explosive</td>\n",
       "      <td>71K</td>\n",
       "      <td>...</td>\n",
       "      <td>89</td>\n",
       "      <td>90</td>\n",
       "      <td>94</td>\n",
       "      <td>34</td>\n",
       "      <td>64</td>\n",
       "      <td>169cm | 5'7\"</td>\n",
       "      <td>Messi  (67kg)</td>\n",
       "      <td>2856</td>\n",
       "      <td>452</td>\n",
       "      <td>2232</td>\n",
       "    </tr>\n",
       "  </tbody>\n",
       "</table>\n",
       "<p>5 rows × 26 columns</p>\n",
       "</div>"
      ],
      "text/plain": [
       "                 Name             Club     Nation            League Rating  \\\n",
       "0       Karim Benzema      Real Madrid     France  LaLiga Santander     91   \n",
       "1  Robert Lewandowski     FC Barcelona     Poland  LaLiga Santander     91   \n",
       "2       Kylian Mbappé         Paris SG     France           Ligue 1     91   \n",
       "3     Kevin De Bruyne  Manchester City    Belgium    Premier League     91   \n",
       "4        Lionel Messi         Paris SG  Argentina           Ligue 1     91   \n",
       "\n",
       "  Main_Position Alternate_Positions Card_Version   Run_Style  Price  ...  \\\n",
       "0            CF                  ST       Normal  Controlled    63K  ...   \n",
       "1            ST                  CF       Normal  Controlled  63.5K  ...   \n",
       "2            ST               CF,LW       Normal  Controlled   772K  ...   \n",
       "3            CM                 CAM       Normal  Controlled    62K  ...   \n",
       "4            RW                  RM       Normal   Explosive    71K  ...   \n",
       "\n",
       "  Shooting / Handling Passing / Kicking Dribbling / Reflexes Defense / Speed  \\\n",
       "0                  88                83                   87              39   \n",
       "1                  91                79                   86              44   \n",
       "2                  89                80                   92              36   \n",
       "3                  88                93                   87              64   \n",
       "4                  89                90                   94              34   \n",
       "\n",
       "  Physical / Positioning         Height         BodyType Popularity  \\\n",
       "0                     78   185cm | 6'1\"  Average  (81kg)       3576   \n",
       "1                     83   185cm | 6'1\"   Unique  (81kg)       1111   \n",
       "2                     76   182cm | 6'0\"   Unique  (73kg)      -1796   \n",
       "3                     77  181cm | 5'11\"   Unique  (70kg)       1919   \n",
       "4                     64   169cm | 5'7\"    Messi  (67kg)       2856   \n",
       "\n",
       "  Base_Stats Ingame_Stats  \n",
       "0        455         2196  \n",
       "1        458         2242  \n",
       "2        470         2223  \n",
       "3        483         2336  \n",
       "4        452         2232  \n",
       "\n",
       "[5 rows x 26 columns]"
      ]
     },
     "execution_count": 21,
     "metadata": {},
     "output_type": "execute_result"
    }
   ],
   "source": [
    "top30_gold_players = pd.DataFrame(top30_gold_players)\n",
    "top30_gold_players.head()"
   ]
  },
  {
   "cell_type": "markdown",
   "id": "dbd6d7f5",
   "metadata": {
    "papermill": {
     "duration": 0.018215,
     "end_time": "2023-01-14T00:50:59.415547",
     "exception": false,
     "start_time": "2023-01-14T00:50:59.397332",
     "status": "completed"
    },
    "tags": []
   },
   "source": [
    "<div style=\"font-family:Inter; text-align:center; font-size:36px;\n",
    "            background-color:#ead1dc; border-radius: 20px; padding: 10px\">\n",
    "    <b>Missing Values</b></div>"
   ]
  },
  {
   "cell_type": "markdown",
   "id": "aa42611c",
   "metadata": {
    "papermill": {
     "duration": 0.018086,
     "end_time": "2023-01-14T00:50:59.452317",
     "exception": false,
     "start_time": "2023-01-14T00:50:59.434231",
     "status": "completed"
    },
    "tags": []
   },
   "source": [
    "<div style=\"font-size: 26px; font-family:Inter\"><b>Casillas Problem</b></div>\n",
    "<hr style=\"height:6px; background-color:#9c9598\"></hr>\n",
    "<p style=\"font-size: 16px; font-family:Inter\">For example, Casillas doesn't have height neither bodytype, besides the alternate position, like a few players as Cafu, that doesn't have the bodytype.</p> \n",
    "<p style=\"font-size: 16px; font-family:Inter\">The solution for the problem is to find what differentiates the height and bodytype from the other attributes. The height has its separator \"|\" (differs cm to feet) while bodytype contains the weight of the player in \"()\".</p>\n",
    "<p style=\"font-size: 16px; font-family:Inter\">So if a player doens't have the separator \"|\" in any of his attributes, it means that he doenst' have height, so it completes with \"0\" or \"Other\". The same way for bodytype.</p>"
   ]
  },
  {
   "cell_type": "code",
   "execution_count": 22,
   "id": "5a3076d0",
   "metadata": {
    "_kg_hide-input": true,
    "execution": {
     "iopub.execute_input": "2023-01-14T00:50:59.492205Z",
     "iopub.status.busy": "2023-01-14T00:50:59.491777Z",
     "iopub.status.idle": "2023-01-14T00:51:00.380221Z",
     "shell.execute_reply": "2023-01-14T00:51:00.379064Z"
    },
    "papermill": {
     "duration": 0.911777,
     "end_time": "2023-01-14T00:51:00.383236",
     "exception": false,
     "start_time": "2023-01-14T00:50:59.471459",
     "status": "completed"
    },
    "tags": []
   },
   "outputs": [],
   "source": [
    "page = \"https://www.futbin.com/players?page=1&search=Casillas\"\n",
    "\n",
    "headers = {'User-Agent': 'Mozilla/5.0'}\n",
    "req = Request(page, headers=headers)\n",
    "response = urlopen(req)\n",
    "html = response.read()\n",
    "\n",
    "\n",
    "soup_p = BeautifulSoup(html, 'html.parser')"
   ]
  },
  {
   "cell_type": "code",
   "execution_count": 23,
   "id": "c1cb5e63",
   "metadata": {
    "execution": {
     "iopub.execute_input": "2023-01-14T00:51:00.423322Z",
     "iopub.status.busy": "2023-01-14T00:51:00.422083Z",
     "iopub.status.idle": "2023-01-14T00:51:00.429571Z",
     "shell.execute_reply": "2023-01-14T00:51:00.428611Z"
    },
    "papermill": {
     "duration": 0.029923,
     "end_time": "2023-01-14T00:51:00.431916",
     "exception": false,
     "start_time": "2023-01-14T00:51:00.401993",
     "status": "completed"
    },
    "tags": []
   },
   "outputs": [],
   "source": [
    "casillas = soup_p.find_all(\"tr\")[0]"
   ]
  },
  {
   "cell_type": "code",
   "execution_count": 24,
   "id": "df297df7",
   "metadata": {
    "_kg_hide-input": true,
    "execution": {
     "iopub.execute_input": "2023-01-14T00:51:00.471944Z",
     "iopub.status.busy": "2023-01-14T00:51:00.471492Z",
     "iopub.status.idle": "2023-01-14T00:51:00.480893Z",
     "shell.execute_reply": "2023-01-14T00:51:00.480083Z"
    },
    "papermill": {
     "duration": 0.032556,
     "end_time": "2023-01-14T00:51:00.483174",
     "exception": false,
     "start_time": "2023-01-14T00:51:00.450618",
     "status": "completed"
    },
    "tags": []
   },
   "outputs": [
    {
     "data": {
      "text/plain": [
       "['Casillas Fernández',\n",
       " '92',\n",
       " 'GK',\n",
       " 'Icon',\n",
       " 'Controlled',\n",
       " '450K',\n",
       " '4.65%',\n",
       " '1',\n",
       " '3',\n",
       " 'M',\n",
       " 'M',\n",
       " '93',\n",
       " '89',\n",
       " '85',\n",
       " '95',\n",
       " '60',\n",
       " '91',\n",
       " '81',\n",
       " '513',\n",
       " '1355']"
      ]
     },
     "execution_count": 24,
     "metadata": {},
     "output_type": "execute_result"
    }
   ],
   "source": [
    "c_attributes = [td.get_text() for td in casillas.find_all(\"td\")]\n",
    "c_attributes = [i.strip() for i in c_attributes]\n",
    "\n",
    "c_attributes = flatten_list([i.split(\"\\n\") for i in c_attributes])\n",
    "c_attributes = flatten_list([i.split(\"\\\\\") for i in c_attributes])\n",
    "c_attributes = [i.strip() for i in c_attributes if i.strip() != \"\"]\n",
    "c_attributes"
   ]
  },
  {
   "cell_type": "markdown",
   "id": "8156a5ac",
   "metadata": {
    "papermill": {
     "duration": 0.018141,
     "end_time": "2023-01-14T00:51:00.519803",
     "exception": false,
     "start_time": "2023-01-14T00:51:00.501662",
     "status": "completed"
    },
    "tags": []
   },
   "source": [
    "<div style=\"font-size: 26px; font-family:Inter\"><b>Function to find these missing values</b></div>\n",
    "<hr style=\"height:6px; background-color:#9c9598\"></hr>\n",
    "<p style=\"font-size: 16px; font-family:Inter\"> It iterates for the attributes list and returns False if doesn't contain. If the function find the separator in an item it will break the loop and the value will keep his True value, meaning that it found and the player has the attribute.</p>"
   ]
  },
  {
   "cell_type": "code",
   "execution_count": 25,
   "id": "6907fb0a",
   "metadata": {
    "execution": {
     "iopub.execute_input": "2023-01-14T00:51:00.559103Z",
     "iopub.status.busy": "2023-01-14T00:51:00.558614Z",
     "iopub.status.idle": "2023-01-14T00:51:00.565009Z",
     "shell.execute_reply": "2023-01-14T00:51:00.563871Z"
    },
    "papermill": {
     "duration": 0.028991,
     "end_time": "2023-01-14T00:51:00.567240",
     "exception": false,
     "start_time": "2023-01-14T00:51:00.538249",
     "status": "completed"
    },
    "tags": []
   },
   "outputs": [],
   "source": [
    "def find_missing_att(list_att, sep):\n",
    "    '''Iterates for the attributes list and  returns False if doesn't contain.\n",
    "    If the function find the separator in an item it will break the loop and \n",
    "    the value will keep his True value, meaning that it found and the player has\n",
    "    the attribute.'''\n",
    "    for att in list_att:\n",
    "        value = sep in att\n",
    "        if value:\n",
    "            break\n",
    "            \n",
    "    return value"
   ]
  },
  {
   "cell_type": "markdown",
   "id": "7b6d87f9",
   "metadata": {
    "papermill": {
     "duration": 0.018255,
     "end_time": "2023-01-14T00:51:00.604121",
     "exception": false,
     "start_time": "2023-01-14T00:51:00.585866",
     "status": "completed"
    },
    "tags": []
   },
   "source": [
    "<div style=\"font-size: 26px; font-family:Inter\"><b>Searching for height using \"|\"</b></div>\n",
    "<hr style=\"height:6px; background-color:#9c9598\"></hr>"
   ]
  },
  {
   "cell_type": "code",
   "execution_count": 26,
   "id": "97e99aef",
   "metadata": {
    "execution": {
     "iopub.execute_input": "2023-01-14T00:51:00.644070Z",
     "iopub.status.busy": "2023-01-14T00:51:00.643565Z",
     "iopub.status.idle": "2023-01-14T00:51:00.650230Z",
     "shell.execute_reply": "2023-01-14T00:51:00.648928Z"
    },
    "papermill": {
     "duration": 0.030375,
     "end_time": "2023-01-14T00:51:00.653408",
     "exception": false,
     "start_time": "2023-01-14T00:51:00.623033",
     "status": "completed"
    },
    "tags": []
   },
   "outputs": [
    {
     "name": "stdout",
     "output_type": "stream",
     "text": [
      "Casillas (don't have):  False\n",
      "Van Dijk (have):  True\n"
     ]
    }
   ],
   "source": [
    "# Searching for height using \"|\"\n",
    "print(\"Casillas (don't have): \", find_missing_att(c_attributes, \"|\"))\n",
    "print(\"Van Dijk (have): \", find_missing_att(attributes, \"|\"))"
   ]
  },
  {
   "cell_type": "markdown",
   "id": "88f5878b",
   "metadata": {
    "papermill": {
     "duration": 0.018381,
     "end_time": "2023-01-14T00:51:00.690543",
     "exception": false,
     "start_time": "2023-01-14T00:51:00.672162",
     "status": "completed"
    },
    "tags": []
   },
   "source": [
    "<div style=\"font-size: 26px; font-family:Inter\"><b>Searching for bodytype / weight using \"(\"</b></div>\n",
    "<hr style=\"height:6px; background-color:#9c9598\"></hr>"
   ]
  },
  {
   "cell_type": "code",
   "execution_count": 27,
   "id": "a1628655",
   "metadata": {
    "execution": {
     "iopub.execute_input": "2023-01-14T00:51:00.729953Z",
     "iopub.status.busy": "2023-01-14T00:51:00.729515Z",
     "iopub.status.idle": "2023-01-14T00:51:00.734787Z",
     "shell.execute_reply": "2023-01-14T00:51:00.733851Z"
    },
    "papermill": {
     "duration": 0.028173,
     "end_time": "2023-01-14T00:51:00.737280",
     "exception": false,
     "start_time": "2023-01-14T00:51:00.709107",
     "status": "completed"
    },
    "tags": []
   },
   "outputs": [
    {
     "name": "stdout",
     "output_type": "stream",
     "text": [
      "Casillas (don't have):  False\n",
      "Van Dijk (have):  True\n"
     ]
    }
   ],
   "source": [
    "# Searching for bodytype / weight using \"(\"\n",
    "print(\"Casillas (don't have): \", find_missing_att(c_attributes, \"(\"))\n",
    "print(\"Van Dijk (have): \", find_missing_att(attributes, \"(\"))"
   ]
  },
  {
   "cell_type": "markdown",
   "id": "a432367b",
   "metadata": {
    "papermill": {
     "duration": 0.018137,
     "end_time": "2023-01-14T00:51:00.773972",
     "exception": false,
     "start_time": "2023-01-14T00:51:00.755835",
     "status": "completed"
    },
    "tags": []
   },
   "source": [
    "<div style=\"font-size: 26px; font-family:Inter\"><b>Update the searching function</b></div>\n",
    "<hr style=\"height:6px; background-color:#9c9598\"></hr>"
   ]
  },
  {
   "cell_type": "code",
   "execution_count": 28,
   "id": "438c413d",
   "metadata": {
    "execution": {
     "iopub.execute_input": "2023-01-14T00:51:00.814365Z",
     "iopub.status.busy": "2023-01-14T00:51:00.813869Z",
     "iopub.status.idle": "2023-01-14T00:51:00.826468Z",
     "shell.execute_reply": "2023-01-14T00:51:00.825242Z"
    },
    "papermill": {
     "duration": 0.035438,
     "end_time": "2023-01-14T00:51:00.829084",
     "exception": false,
     "start_time": "2023-01-14T00:51:00.793646",
     "status": "completed"
    },
    "tags": []
   },
   "outputs": [],
   "source": [
    "def get_player_attributes(row):\n",
    "    attributes = [td.get_text() for td in row.find_all(\"td\")]\n",
    "    attributes = [i.strip() for i in attributes]\n",
    "    \n",
    "    attributes = flatten_list([i.split(\"\\n\") for i in attributes])\n",
    "    attributes = flatten_list([i.split(\"\\\\\") for i in attributes])\n",
    "    \n",
    "    attributes = [item.strip() for item in attributes if item.strip() != \"\"]\n",
    "    \n",
    "    # Club, League and Nation\n",
    "    player_information = row.find_all(\"span\")[0].find_all(\"a\")\n",
    "    player_information = [item['data-original-title'] for item in player_information]\n",
    "    \n",
    "    # Adding to the attributes list\n",
    "    for e, info in enumerate(player_information):\n",
    "        attributes.insert(e + 1, info)\n",
    "    \n",
    "    # Searching for missing values\n",
    "    ## Height\n",
    "    if not find_missing_att(attributes, \"|\"):\n",
    "        attributes.insert(-3, \"0\")\n",
    "    ## BodyType -- completed with the most common\n",
    "    if not find_missing_att(attributes, \"(\"):\n",
    "        attributes.insert(-3, \"Normal\")\n",
    "    ## Price Variation:\n",
    "    if not find_missing_att(attributes, \"%\"):\n",
    "        attributes.insert(10, \"0\")\n",
    "        \n",
    "    # Player doesn't have card version labeled\n",
    "    runstyle = [\"Controlled\", \"Explosive\", \"Lengthy\"]\n",
    "    if len(attributes) < 25:\n",
    "        for style in runstyle:\n",
    "            if style in attributes:\n",
    "                index = attributes.index(style)\n",
    "                attributes.insert(index - 1, \"Normal\")\n",
    "    \n",
    "    # If a player doesn't have an alternate position\n",
    "    if len(attributes) == 25:\n",
    "        attributes.insert(6, \"0\")\n",
    "    \n",
    "    player_dict = dict(zip(attributes_names, attributes))\n",
    "    return player_dict"
   ]
  },
  {
   "cell_type": "code",
   "execution_count": 29,
   "id": "2e84b6ac",
   "metadata": {
    "execution": {
     "iopub.execute_input": "2023-01-14T00:51:00.869238Z",
     "iopub.status.busy": "2023-01-14T00:51:00.868757Z",
     "iopub.status.idle": "2023-01-14T00:51:00.877421Z",
     "shell.execute_reply": "2023-01-14T00:51:00.876231Z"
    },
    "papermill": {
     "duration": 0.03159,
     "end_time": "2023-01-14T00:51:00.879789",
     "exception": false,
     "start_time": "2023-01-14T00:51:00.848199",
     "status": "completed"
    },
    "tags": []
   },
   "outputs": [
    {
     "data": {
      "text/plain": [
       "{'Name': 'Casillas Fernández',\n",
       " 'Club': 'FUT ICONS',\n",
       " 'Nation': 'Spain',\n",
       " 'League': 'Icons',\n",
       " 'Rating': '92',\n",
       " 'Main_Position': 'GK',\n",
       " 'Alternate_Positions': '0',\n",
       " 'Card_Version': 'Icon',\n",
       " 'Run_Style': 'Controlled',\n",
       " 'Price': '450K',\n",
       " 'Price_Variation': '4.65%',\n",
       " 'Skills_Star': '1',\n",
       " 'Weak_Foot_Star': '3',\n",
       " 'Attack_Workrate': 'M',\n",
       " 'Defense_Workrate': 'M',\n",
       " 'Pace / Diving': '93',\n",
       " 'Shooting / Handling': '89',\n",
       " 'Passing / Kicking': '85',\n",
       " 'Dribbling / Reflexes': '95',\n",
       " 'Defense / Speed': '60',\n",
       " 'Physical / Positioning': '91',\n",
       " 'Height': '0',\n",
       " 'BodyType': 'Normal',\n",
       " 'Popularity': '81',\n",
       " 'Base_Stats': '513',\n",
       " 'Ingame_Stats': '1355'}"
      ]
     },
     "execution_count": 29,
     "metadata": {},
     "output_type": "execute_result"
    }
   ],
   "source": [
    "get_player_attributes(casillas)"
   ]
  },
  {
   "cell_type": "markdown",
   "id": "5b72b1c9",
   "metadata": {
    "papermill": {
     "duration": 0.018411,
     "end_time": "2023-01-14T00:51:00.917145",
     "exception": false,
     "start_time": "2023-01-14T00:51:00.898734",
     "status": "completed"
    },
    "tags": []
   },
   "source": [
    "<div style=\"font-family:Inter; text-align:center; font-size:36px;\n",
    "            background-color:#ead1dc; border-radius: 20px; padding: 10px\">\n",
    "    <b>Pipeline to iterate through pages</b></div>"
   ]
  },
  {
   "cell_type": "code",
   "execution_count": 30,
   "id": "49a09287",
   "metadata": {
    "execution": {
     "iopub.execute_input": "2023-01-14T00:51:00.956762Z",
     "iopub.status.busy": "2023-01-14T00:51:00.956267Z",
     "iopub.status.idle": "2023-01-14T00:51:00.962468Z",
     "shell.execute_reply": "2023-01-14T00:51:00.961329Z"
    },
    "papermill": {
     "duration": 0.028752,
     "end_time": "2023-01-14T00:51:00.964561",
     "exception": false,
     "start_time": "2023-01-14T00:51:00.935809",
     "status": "completed"
    },
    "tags": []
   },
   "outputs": [],
   "source": [
    "def authentication_page(page):\n",
    "    headers = {'User-Agent': 'Mozilla/5.0'}\n",
    "    req = Request(page, headers=headers)\n",
    "    response = urlopen(req)\n",
    "    html = response.read()\n",
    "    soup_a = BeautifulSoup(html, 'html.parser')\n",
    "    return soup_a"
   ]
  },
  {
   "cell_type": "code",
   "execution_count": 31,
   "id": "648ab36d",
   "metadata": {
    "execution": {
     "iopub.execute_input": "2023-01-14T00:51:01.004183Z",
     "iopub.status.busy": "2023-01-14T00:51:01.003731Z",
     "iopub.status.idle": "2023-01-14T00:51:01.010666Z",
     "shell.execute_reply": "2023-01-14T00:51:01.009500Z"
    },
    "papermill": {
     "duration": 0.029545,
     "end_time": "2023-01-14T00:51:01.012934",
     "exception": false,
     "start_time": "2023-01-14T00:51:00.983389",
     "status": "completed"
    },
    "tags": []
   },
   "outputs": [],
   "source": [
    "def iterate_for_page(index):\n",
    "    page_url = \"https://www.futbin.com/players?page=\" + str(index)\n",
    "    \n",
    "    # Authentication\n",
    "    soup_p = authentication_page(page_url)\n",
    "    \n",
    "    # Getting the players from the page\n",
    "    page_players = soup_p.find_all(\"tr\")[::2]\n",
    "    page_dataframe = list()\n",
    "    \n",
    "    # Iteration\n",
    "    for player_row in page_players:\n",
    "        player_attributes = get_player_attributes(player_row)\n",
    "        page_dataframe.append(player_attributes)\n",
    "        \n",
    "    page_dataframe = pd.DataFrame(page_dataframe)\n",
    "    return page_dataframe"
   ]
  },
  {
   "cell_type": "markdown",
   "id": "1059e58c",
   "metadata": {
    "papermill": {
     "duration": 0.018303,
     "end_time": "2023-01-14T00:51:01.050022",
     "exception": false,
     "start_time": "2023-01-14T00:51:01.031719",
     "status": "completed"
    },
    "tags": []
   },
   "source": [
    "<div style=\"font-size: 26px; font-family:Inter\"><b>Test until page 10</b></div>\n",
    "<hr style=\"height:6px; background-color:#9c9598\"></hr>"
   ]
  },
  {
   "cell_type": "code",
   "execution_count": 32,
   "id": "7c3a90ff",
   "metadata": {
    "execution": {
     "iopub.execute_input": "2023-01-14T00:51:01.089722Z",
     "iopub.status.busy": "2023-01-14T00:51:01.089226Z",
     "iopub.status.idle": "2023-01-14T00:51:12.110681Z",
     "shell.execute_reply": "2023-01-14T00:51:12.109533Z"
    },
    "papermill": {
     "duration": 11.044856,
     "end_time": "2023-01-14T00:51:12.113739",
     "exception": false,
     "start_time": "2023-01-14T00:51:01.068883",
     "status": "completed"
    },
    "tags": []
   },
   "outputs": [],
   "source": [
    "# Test until page 10\n",
    "players_till_10 = pd.DataFrame([])\n",
    "for i in range(10):\n",
    "    page_df = iterate_for_page(i + 1)\n",
    "    players_till_10 = pd.concat([players_till_10, page_df])"
   ]
  },
  {
   "cell_type": "code",
   "execution_count": 33,
   "id": "b8109df3",
   "metadata": {
    "execution": {
     "iopub.execute_input": "2023-01-14T00:51:12.157887Z",
     "iopub.status.busy": "2023-01-14T00:51:12.157413Z",
     "iopub.status.idle": "2023-01-14T00:51:12.202797Z",
     "shell.execute_reply": "2023-01-14T00:51:12.201990Z"
    },
    "papermill": {
     "duration": 0.069538,
     "end_time": "2023-01-14T00:51:12.205938",
     "exception": false,
     "start_time": "2023-01-14T00:51:12.136400",
     "status": "completed"
    },
    "tags": []
   },
   "outputs": [
    {
     "data": {
      "text/html": [
       "<div>\n",
       "<style scoped>\n",
       "    .dataframe tbody tr th:only-of-type {\n",
       "        vertical-align: middle;\n",
       "    }\n",
       "\n",
       "    .dataframe tbody tr th {\n",
       "        vertical-align: top;\n",
       "    }\n",
       "\n",
       "    .dataframe thead th {\n",
       "        text-align: right;\n",
       "    }\n",
       "</style>\n",
       "<table border=\"1\" class=\"dataframe\">\n",
       "  <thead>\n",
       "    <tr style=\"text-align: right;\">\n",
       "      <th></th>\n",
       "      <th>Name</th>\n",
       "      <th>Club</th>\n",
       "      <th>Nation</th>\n",
       "      <th>League</th>\n",
       "      <th>Rating</th>\n",
       "      <th>Main_Position</th>\n",
       "      <th>Alternate_Positions</th>\n",
       "      <th>Card_Version</th>\n",
       "      <th>Run_Style</th>\n",
       "      <th>Price</th>\n",
       "      <th>...</th>\n",
       "      <th>Shooting / Handling</th>\n",
       "      <th>Passing / Kicking</th>\n",
       "      <th>Dribbling / Reflexes</th>\n",
       "      <th>Defense / Speed</th>\n",
       "      <th>Physical / Positioning</th>\n",
       "      <th>Height</th>\n",
       "      <th>BodyType</th>\n",
       "      <th>Popularity</th>\n",
       "      <th>Base_Stats</th>\n",
       "      <th>Ingame_Stats</th>\n",
       "    </tr>\n",
       "  </thead>\n",
       "  <tbody>\n",
       "    <tr>\n",
       "      <th>0</th>\n",
       "      <td>Pelé</td>\n",
       "      <td>FUT ICONS</td>\n",
       "      <td>Brazil</td>\n",
       "      <td>Icons</td>\n",
       "      <td>98</td>\n",
       "      <td>CAM</td>\n",
       "      <td>CF,ST</td>\n",
       "      <td>Icon</td>\n",
       "      <td>Explosive</td>\n",
       "      <td>4.15M</td>\n",
       "      <td>...</td>\n",
       "      <td>96</td>\n",
       "      <td>93</td>\n",
       "      <td>96</td>\n",
       "      <td>60</td>\n",
       "      <td>76</td>\n",
       "      <td>173cm | 5'8\"</td>\n",
       "      <td>Unique  (70kg)</td>\n",
       "      <td>2984</td>\n",
       "      <td>516</td>\n",
       "      <td>2513</td>\n",
       "    </tr>\n",
       "    <tr>\n",
       "      <th>1</th>\n",
       "      <td>Ronaldo</td>\n",
       "      <td>FUT ICONS</td>\n",
       "      <td>Brazil</td>\n",
       "      <td>Icons</td>\n",
       "      <td>96</td>\n",
       "      <td>ST</td>\n",
       "      <td>CF</td>\n",
       "      <td>Icon</td>\n",
       "      <td>Controlled</td>\n",
       "      <td>8.27M</td>\n",
       "      <td>...</td>\n",
       "      <td>95</td>\n",
       "      <td>81</td>\n",
       "      <td>95</td>\n",
       "      <td>45</td>\n",
       "      <td>76</td>\n",
       "      <td>183cm | 6'0\"</td>\n",
       "      <td>R9  (78kg)</td>\n",
       "      <td>3225</td>\n",
       "      <td>489</td>\n",
       "      <td>2341</td>\n",
       "    </tr>\n",
       "    <tr>\n",
       "      <th>2</th>\n",
       "      <td>Zinedine Zidane</td>\n",
       "      <td>FUT ICONS</td>\n",
       "      <td>France</td>\n",
       "      <td>Icons</td>\n",
       "      <td>96</td>\n",
       "      <td>CAM</td>\n",
       "      <td>CM</td>\n",
       "      <td>Icon</td>\n",
       "      <td>Controlled</td>\n",
       "      <td>2.63M</td>\n",
       "      <td>...</td>\n",
       "      <td>92</td>\n",
       "      <td>96</td>\n",
       "      <td>95</td>\n",
       "      <td>75</td>\n",
       "      <td>86</td>\n",
       "      <td>185cm | 6'1\"</td>\n",
       "      <td>Average  (77kg)</td>\n",
       "      <td>1194</td>\n",
       "      <td>529</td>\n",
       "      <td>2548</td>\n",
       "    </tr>\n",
       "    <tr>\n",
       "      <th>3</th>\n",
       "      <td>Pelé</td>\n",
       "      <td>FUT ICONS</td>\n",
       "      <td>Brazil</td>\n",
       "      <td>Icons</td>\n",
       "      <td>96</td>\n",
       "      <td>CF</td>\n",
       "      <td>CAM,ST</td>\n",
       "      <td>World Cup ICON</td>\n",
       "      <td>Explosive</td>\n",
       "      <td>3.59M</td>\n",
       "      <td>...</td>\n",
       "      <td>94</td>\n",
       "      <td>92</td>\n",
       "      <td>95</td>\n",
       "      <td>58</td>\n",
       "      <td>75</td>\n",
       "      <td>173cm | 5'8\"</td>\n",
       "      <td>Unique  (70kg)</td>\n",
       "      <td>938</td>\n",
       "      <td>510</td>\n",
       "      <td>2475</td>\n",
       "    </tr>\n",
       "    <tr>\n",
       "      <th>4</th>\n",
       "      <td>Pelé</td>\n",
       "      <td>FUT ICONS</td>\n",
       "      <td>Brazil</td>\n",
       "      <td>Icons</td>\n",
       "      <td>95</td>\n",
       "      <td>CF</td>\n",
       "      <td>CAM,ST</td>\n",
       "      <td>Icon</td>\n",
       "      <td>Explosive</td>\n",
       "      <td>2.72M</td>\n",
       "      <td>...</td>\n",
       "      <td>93</td>\n",
       "      <td>90</td>\n",
       "      <td>95</td>\n",
       "      <td>56</td>\n",
       "      <td>75</td>\n",
       "      <td>173cm | 5'8\"</td>\n",
       "      <td>Unique  (69kg)</td>\n",
       "      <td>1788</td>\n",
       "      <td>505</td>\n",
       "      <td>2452</td>\n",
       "    </tr>\n",
       "  </tbody>\n",
       "</table>\n",
       "<p>5 rows × 26 columns</p>\n",
       "</div>"
      ],
      "text/plain": [
       "              Name       Club  Nation League Rating Main_Position  \\\n",
       "0             Pelé  FUT ICONS  Brazil  Icons     98           CAM   \n",
       "1          Ronaldo  FUT ICONS  Brazil  Icons     96            ST   \n",
       "2  Zinedine Zidane  FUT ICONS  France  Icons     96           CAM   \n",
       "3             Pelé  FUT ICONS  Brazil  Icons     96            CF   \n",
       "4             Pelé  FUT ICONS  Brazil  Icons     95            CF   \n",
       "\n",
       "  Alternate_Positions    Card_Version   Run_Style  Price  ...  \\\n",
       "0               CF,ST            Icon   Explosive  4.15M  ...   \n",
       "1                  CF            Icon  Controlled  8.27M  ...   \n",
       "2                  CM            Icon  Controlled  2.63M  ...   \n",
       "3              CAM,ST  World Cup ICON   Explosive  3.59M  ...   \n",
       "4              CAM,ST            Icon   Explosive  2.72M  ...   \n",
       "\n",
       "  Shooting / Handling Passing / Kicking Dribbling / Reflexes Defense / Speed  \\\n",
       "0                  96                93                   96              60   \n",
       "1                  95                81                   95              45   \n",
       "2                  92                96                   95              75   \n",
       "3                  94                92                   95              58   \n",
       "4                  93                90                   95              56   \n",
       "\n",
       "  Physical / Positioning        Height         BodyType Popularity Base_Stats  \\\n",
       "0                     76  173cm | 5'8\"   Unique  (70kg)       2984        516   \n",
       "1                     76  183cm | 6'0\"       R9  (78kg)       3225        489   \n",
       "2                     86  185cm | 6'1\"  Average  (77kg)       1194        529   \n",
       "3                     75  173cm | 5'8\"   Unique  (70kg)        938        510   \n",
       "4                     75  173cm | 5'8\"   Unique  (69kg)       1788        505   \n",
       "\n",
       "  Ingame_Stats  \n",
       "0         2513  \n",
       "1         2341  \n",
       "2         2548  \n",
       "3         2475  \n",
       "4         2452  \n",
       "\n",
       "[5 rows x 26 columns]"
      ]
     },
     "metadata": {},
     "output_type": "display_data"
    },
    {
     "data": {
      "text/html": [
       "<div>\n",
       "<style scoped>\n",
       "    .dataframe tbody tr th:only-of-type {\n",
       "        vertical-align: middle;\n",
       "    }\n",
       "\n",
       "    .dataframe tbody tr th {\n",
       "        vertical-align: top;\n",
       "    }\n",
       "\n",
       "    .dataframe thead th {\n",
       "        text-align: right;\n",
       "    }\n",
       "</style>\n",
       "<table border=\"1\" class=\"dataframe\">\n",
       "  <thead>\n",
       "    <tr style=\"text-align: right;\">\n",
       "      <th></th>\n",
       "      <th>Name</th>\n",
       "      <th>Club</th>\n",
       "      <th>Nation</th>\n",
       "      <th>League</th>\n",
       "      <th>Rating</th>\n",
       "      <th>Main_Position</th>\n",
       "      <th>Alternate_Positions</th>\n",
       "      <th>Card_Version</th>\n",
       "      <th>Run_Style</th>\n",
       "      <th>Price</th>\n",
       "      <th>...</th>\n",
       "      <th>Shooting / Handling</th>\n",
       "      <th>Passing / Kicking</th>\n",
       "      <th>Dribbling / Reflexes</th>\n",
       "      <th>Defense / Speed</th>\n",
       "      <th>Physical / Positioning</th>\n",
       "      <th>Height</th>\n",
       "      <th>BodyType</th>\n",
       "      <th>Popularity</th>\n",
       "      <th>Base_Stats</th>\n",
       "      <th>Ingame_Stats</th>\n",
       "    </tr>\n",
       "  </thead>\n",
       "  <tbody>\n",
       "    <tr>\n",
       "      <th>25</th>\n",
       "      <td>Joshua Kimmich</td>\n",
       "      <td>FC Bayern</td>\n",
       "      <td>Germany</td>\n",
       "      <td>Bundesliga</td>\n",
       "      <td>89</td>\n",
       "      <td>CDM</td>\n",
       "      <td>RB</td>\n",
       "      <td>Normal</td>\n",
       "      <td>Explosive</td>\n",
       "      <td>37.75K</td>\n",
       "      <td>...</td>\n",
       "      <td>72</td>\n",
       "      <td>87</td>\n",
       "      <td>84</td>\n",
       "      <td>83</td>\n",
       "      <td>79</td>\n",
       "      <td>177cm | 5'10\"</td>\n",
       "      <td>Average  (75kg)</td>\n",
       "      <td>293</td>\n",
       "      <td>473</td>\n",
       "      <td>2308</td>\n",
       "    </tr>\n",
       "    <tr>\n",
       "      <th>26</th>\n",
       "      <td>Casemiro</td>\n",
       "      <td>Manchester Utd</td>\n",
       "      <td>Brazil</td>\n",
       "      <td>Premier League</td>\n",
       "      <td>89</td>\n",
       "      <td>CDM</td>\n",
       "      <td>0</td>\n",
       "      <td>Normal</td>\n",
       "      <td>Lengthy</td>\n",
       "      <td>40K</td>\n",
       "      <td>...</td>\n",
       "      <td>73</td>\n",
       "      <td>75</td>\n",
       "      <td>72</td>\n",
       "      <td>87</td>\n",
       "      <td>90</td>\n",
       "      <td>185cm | 6'1\"</td>\n",
       "      <td>Unique  (84kg)</td>\n",
       "      <td>672</td>\n",
       "      <td>460</td>\n",
       "      <td>2226</td>\n",
       "    </tr>\n",
       "    <tr>\n",
       "      <th>27</th>\n",
       "      <td>Alisson</td>\n",
       "      <td>Liverpool</td>\n",
       "      <td>Brazil</td>\n",
       "      <td>Premier League</td>\n",
       "      <td>89</td>\n",
       "      <td>GK</td>\n",
       "      <td>0</td>\n",
       "      <td>Normal</td>\n",
       "      <td>Lengthy</td>\n",
       "      <td>39K</td>\n",
       "      <td>...</td>\n",
       "      <td>85</td>\n",
       "      <td>85</td>\n",
       "      <td>89</td>\n",
       "      <td>54</td>\n",
       "      <td>90</td>\n",
       "      <td>191cm | 6'3\"</td>\n",
       "      <td>Unique  (91kg)</td>\n",
       "      <td>539</td>\n",
       "      <td>489</td>\n",
       "      <td>1070</td>\n",
       "    </tr>\n",
       "    <tr>\n",
       "      <th>28</th>\n",
       "      <td>Harry Kane</td>\n",
       "      <td>Spurs</td>\n",
       "      <td>England</td>\n",
       "      <td>Premier League</td>\n",
       "      <td>89</td>\n",
       "      <td>ST</td>\n",
       "      <td>CF</td>\n",
       "      <td>Normal</td>\n",
       "      <td>Lengthy</td>\n",
       "      <td>40.75K</td>\n",
       "      <td>...</td>\n",
       "      <td>91</td>\n",
       "      <td>83</td>\n",
       "      <td>82</td>\n",
       "      <td>47</td>\n",
       "      <td>82</td>\n",
       "      <td>188cm | 6'2\"</td>\n",
       "      <td>Unique  (89kg)</td>\n",
       "      <td>563</td>\n",
       "      <td>453</td>\n",
       "      <td>2231</td>\n",
       "    </tr>\n",
       "    <tr>\n",
       "      <th>29</th>\n",
       "      <td>Ederson</td>\n",
       "      <td>Manchester City</td>\n",
       "      <td>Brazil</td>\n",
       "      <td>Premier League</td>\n",
       "      <td>89</td>\n",
       "      <td>GK</td>\n",
       "      <td>0</td>\n",
       "      <td>Normal</td>\n",
       "      <td>Lengthy</td>\n",
       "      <td>39.5K</td>\n",
       "      <td>...</td>\n",
       "      <td>82</td>\n",
       "      <td>93</td>\n",
       "      <td>88</td>\n",
       "      <td>64</td>\n",
       "      <td>88</td>\n",
       "      <td>188cm | 6'2\"</td>\n",
       "      <td>Unique  (86kg)</td>\n",
       "      <td>417</td>\n",
       "      <td>502</td>\n",
       "      <td>1215</td>\n",
       "    </tr>\n",
       "  </tbody>\n",
       "</table>\n",
       "<p>5 rows × 26 columns</p>\n",
       "</div>"
      ],
      "text/plain": [
       "              Name             Club   Nation          League Rating  \\\n",
       "25  Joshua Kimmich        FC Bayern  Germany      Bundesliga     89   \n",
       "26        Casemiro   Manchester Utd   Brazil  Premier League     89   \n",
       "27         Alisson        Liverpool   Brazil  Premier League     89   \n",
       "28      Harry Kane            Spurs  England  Premier League     89   \n",
       "29         Ederson  Manchester City   Brazil  Premier League     89   \n",
       "\n",
       "   Main_Position Alternate_Positions Card_Version  Run_Style   Price  ...  \\\n",
       "25           CDM                  RB       Normal  Explosive  37.75K  ...   \n",
       "26           CDM                   0       Normal    Lengthy     40K  ...   \n",
       "27            GK                   0       Normal    Lengthy     39K  ...   \n",
       "28            ST                  CF       Normal    Lengthy  40.75K  ...   \n",
       "29            GK                   0       Normal    Lengthy   39.5K  ...   \n",
       "\n",
       "   Shooting / Handling Passing / Kicking Dribbling / Reflexes Defense / Speed  \\\n",
       "25                  72                87                   84              83   \n",
       "26                  73                75                   72              87   \n",
       "27                  85                85                   89              54   \n",
       "28                  91                83                   82              47   \n",
       "29                  82                93                   88              64   \n",
       "\n",
       "   Physical / Positioning         Height         BodyType Popularity  \\\n",
       "25                     79  177cm | 5'10\"  Average  (75kg)        293   \n",
       "26                     90   185cm | 6'1\"   Unique  (84kg)        672   \n",
       "27                     90   191cm | 6'3\"   Unique  (91kg)        539   \n",
       "28                     82   188cm | 6'2\"   Unique  (89kg)        563   \n",
       "29                     88   188cm | 6'2\"   Unique  (86kg)        417   \n",
       "\n",
       "   Base_Stats Ingame_Stats  \n",
       "25        473         2308  \n",
       "26        460         2226  \n",
       "27        489         1070  \n",
       "28        453         2231  \n",
       "29        502         1215  \n",
       "\n",
       "[5 rows x 26 columns]"
      ]
     },
     "metadata": {},
     "output_type": "display_data"
    }
   ],
   "source": [
    "display(players_till_10.head())\n",
    "display(players_till_10.tail())"
   ]
  },
  {
   "cell_type": "markdown",
   "id": "b0c5a64f",
   "metadata": {
    "papermill": {
     "duration": 0.019354,
     "end_time": "2023-01-14T00:51:12.245586",
     "exception": false,
     "start_time": "2023-01-14T00:51:12.226232",
     "status": "completed"
    },
    "tags": []
   },
   "source": [
    "<div style=\"font-family:Inter; text-align:center; font-size:36px;\n",
    "            background-color:#ead1dc; border-radius: 20px; padding: 10px\">\n",
    "    <b>Scraping all players</b></div>"
   ]
  },
  {
   "cell_type": "markdown",
   "id": "e1332573",
   "metadata": {
    "papermill": {
     "duration": 0.020313,
     "end_time": "2023-01-14T00:51:12.285411",
     "exception": false,
     "start_time": "2023-01-14T00:51:12.265098",
     "status": "completed"
    },
    "tags": []
   },
   "source": [
    "<div style=\"font-size: 26px; font-family:Inter\"><b>Iteration through all pages</b></div>\n",
    "<hr style=\"height:6px; background-color:#9c9598\"></hr>\n",
    "<p style=\"font-size: 16px; font-family:Inter\"> <b>Care taken:</b> in order to get all the players, it had to iterate in each page, requesting to scrape (the total number of pages is scraped from the first page). If the iteration is too fast, it gives the <b style=\"color:#cc0000; background-color:#f5abab\">HTTPError 429: Too Many Requests</b>. So, every 6 iterations it sleeps 15 seconds, it takes more time but gives no error.</p>"
   ]
  },
  {
   "cell_type": "code",
   "execution_count": 34,
   "id": "89bdf47d",
   "metadata": {
    "execution": {
     "iopub.execute_input": "2023-01-14T00:51:12.328816Z",
     "iopub.status.busy": "2023-01-14T00:51:12.328316Z",
     "iopub.status.idle": "2023-01-14T00:51:13.342911Z",
     "shell.execute_reply": "2023-01-14T00:51:13.341710Z"
    },
    "papermill": {
     "duration": 1.04037,
     "end_time": "2023-01-14T00:51:13.345941",
     "exception": false,
     "start_time": "2023-01-14T00:51:12.305571",
     "status": "completed"
    },
    "tags": []
   },
   "outputs": [],
   "source": [
    "soup_page = authentication_page(\"https://www.futbin.com/players?page=1\")"
   ]
  },
  {
   "cell_type": "code",
   "execution_count": 35,
   "id": "3f62ee4f",
   "metadata": {
    "execution": {
     "iopub.execute_input": "2023-01-14T00:51:13.389938Z",
     "iopub.status.busy": "2023-01-14T00:51:13.388585Z",
     "iopub.status.idle": "2023-01-14T00:51:13.411068Z",
     "shell.execute_reply": "2023-01-14T00:51:13.409071Z"
    },
    "papermill": {
     "duration": 0.047308,
     "end_time": "2023-01-14T00:51:13.414285",
     "exception": false,
     "start_time": "2023-01-14T00:51:13.366977",
     "status": "completed"
    },
    "tags": []
   },
   "outputs": [
    {
     "name": "stdout",
     "output_type": "stream",
     "text": [
      "Total Pages -> 613\n"
     ]
    }
   ],
   "source": [
    "# The last page is in the index -2\n",
    "last_page = int(soup_page.find_all(\"li\", class_=\"page-item\")[-2].find(\"a\").getText())\n",
    "print(f\"Total Pages -> {last_page}\")"
   ]
  },
  {
   "cell_type": "code",
   "execution_count": 36,
   "id": "3c311d7b",
   "metadata": {
    "execution": {
     "iopub.execute_input": "2023-01-14T00:51:13.456226Z",
     "iopub.status.busy": "2023-01-14T00:51:13.455448Z",
     "iopub.status.idle": "2023-01-14T00:51:13.461699Z",
     "shell.execute_reply": "2023-01-14T00:51:13.460598Z"
    },
    "papermill": {
     "duration": 0.029836,
     "end_time": "2023-01-14T00:51:13.464159",
     "exception": false,
     "start_time": "2023-01-14T00:51:13.434323",
     "status": "completed"
    },
    "tags": []
   },
   "outputs": [],
   "source": [
    "all_players = pd.DataFrame([])"
   ]
  },
  {
   "cell_type": "code",
   "execution_count": 37,
   "id": "9ff899b9",
   "metadata": {
    "_kg_hide-output": true,
    "execution": {
     "iopub.execute_input": "2023-01-14T00:51:13.507421Z",
     "iopub.status.busy": "2023-01-14T00:51:13.505965Z",
     "iopub.status.idle": "2023-01-14T01:29:59.098226Z",
     "shell.execute_reply": "2023-01-14T01:29:59.096904Z"
    },
    "papermill": {
     "duration": 2325.637382,
     "end_time": "2023-01-14T01:29:59.122126",
     "exception": false,
     "start_time": "2023-01-14T00:51:13.484744",
     "status": "completed"
    },
    "tags": []
   },
   "outputs": [
    {
     "name": "stdout",
     "output_type": "stream",
     "text": [
      "Page 50 Successful\n",
      "Page 100 Successful\n",
      "Page 150 Successful\n",
      "Page 200 Successful\n",
      "Page 250 Successful\n",
      "Page 300 Successful\n",
      "Page 350 Successful\n",
      "Page 400 Successful\n",
      "Page 450 Successful\n",
      "Page 500 Successful\n",
      "Page 550 Successful\n",
      "Page 600 Successful\n",
      "\n",
      "# -- All Pages Done -- #\n"
     ]
    }
   ],
   "source": [
    "sleep(20)\n",
    "for i in range(1, last_page + 1):\n",
    "    try:\n",
    "        page_df = iterate_for_page(i)\n",
    "        all_players = pd.concat([all_players, page_df])\n",
    "        \n",
    "        if (i) % 6 == 0:\n",
    "            sleep(15)\n",
    "        if (i) % 50 == 0:\n",
    "            print(f\"Page {i} Successful\")\n",
    "            \n",
    "    except HTTPError as err:\n",
    "        print(\"--Erro--\", err, sep = \"\\n\")\n",
    "        sleep(30)\n",
    "        \n",
    "print(\"\\n# -- All Pages Done -- #\")"
   ]
  },
  {
   "cell_type": "code",
   "execution_count": 38,
   "id": "5d67ad86",
   "metadata": {
    "execution": {
     "iopub.execute_input": "2023-01-14T01:29:59.171827Z",
     "iopub.status.busy": "2023-01-14T01:29:59.170672Z",
     "iopub.status.idle": "2023-01-14T01:29:59.196676Z",
     "shell.execute_reply": "2023-01-14T01:29:59.194781Z"
    },
    "papermill": {
     "duration": 0.055942,
     "end_time": "2023-01-14T01:29:59.199478",
     "exception": false,
     "start_time": "2023-01-14T01:29:59.143536",
     "status": "completed"
    },
    "tags": []
   },
   "outputs": [
    {
     "data": {
      "text/html": [
       "<div>\n",
       "<style scoped>\n",
       "    .dataframe tbody tr th:only-of-type {\n",
       "        vertical-align: middle;\n",
       "    }\n",
       "\n",
       "    .dataframe tbody tr th {\n",
       "        vertical-align: top;\n",
       "    }\n",
       "\n",
       "    .dataframe thead th {\n",
       "        text-align: right;\n",
       "    }\n",
       "</style>\n",
       "<table border=\"1\" class=\"dataframe\">\n",
       "  <thead>\n",
       "    <tr style=\"text-align: right;\">\n",
       "      <th></th>\n",
       "      <th>Name</th>\n",
       "      <th>Club</th>\n",
       "      <th>Nation</th>\n",
       "      <th>League</th>\n",
       "      <th>Rating</th>\n",
       "      <th>Main_Position</th>\n",
       "      <th>Alternate_Positions</th>\n",
       "      <th>Card_Version</th>\n",
       "      <th>Run_Style</th>\n",
       "      <th>Price</th>\n",
       "      <th>...</th>\n",
       "      <th>Shooting / Handling</th>\n",
       "      <th>Passing / Kicking</th>\n",
       "      <th>Dribbling / Reflexes</th>\n",
       "      <th>Defense / Speed</th>\n",
       "      <th>Physical / Positioning</th>\n",
       "      <th>Height</th>\n",
       "      <th>BodyType</th>\n",
       "      <th>Popularity</th>\n",
       "      <th>Base_Stats</th>\n",
       "      <th>Ingame_Stats</th>\n",
       "    </tr>\n",
       "  </thead>\n",
       "  <tbody>\n",
       "    <tr>\n",
       "      <th>0</th>\n",
       "      <td>Pelé</td>\n",
       "      <td>FUT ICONS</td>\n",
       "      <td>Brazil</td>\n",
       "      <td>Icons</td>\n",
       "      <td>98</td>\n",
       "      <td>CAM</td>\n",
       "      <td>CF,ST</td>\n",
       "      <td>Icon</td>\n",
       "      <td>Explosive</td>\n",
       "      <td>4.15M</td>\n",
       "      <td>...</td>\n",
       "      <td>96</td>\n",
       "      <td>93</td>\n",
       "      <td>96</td>\n",
       "      <td>60</td>\n",
       "      <td>76</td>\n",
       "      <td>173cm | 5'8\"</td>\n",
       "      <td>Unique  (70kg)</td>\n",
       "      <td>2984</td>\n",
       "      <td>516</td>\n",
       "      <td>2513</td>\n",
       "    </tr>\n",
       "    <tr>\n",
       "      <th>1</th>\n",
       "      <td>Ronaldo</td>\n",
       "      <td>FUT ICONS</td>\n",
       "      <td>Brazil</td>\n",
       "      <td>Icons</td>\n",
       "      <td>96</td>\n",
       "      <td>ST</td>\n",
       "      <td>CF</td>\n",
       "      <td>Icon</td>\n",
       "      <td>Controlled</td>\n",
       "      <td>8.27M</td>\n",
       "      <td>...</td>\n",
       "      <td>95</td>\n",
       "      <td>81</td>\n",
       "      <td>95</td>\n",
       "      <td>45</td>\n",
       "      <td>76</td>\n",
       "      <td>183cm | 6'0\"</td>\n",
       "      <td>R9  (78kg)</td>\n",
       "      <td>3225</td>\n",
       "      <td>489</td>\n",
       "      <td>2341</td>\n",
       "    </tr>\n",
       "    <tr>\n",
       "      <th>2</th>\n",
       "      <td>Zinedine Zidane</td>\n",
       "      <td>FUT ICONS</td>\n",
       "      <td>France</td>\n",
       "      <td>Icons</td>\n",
       "      <td>96</td>\n",
       "      <td>CAM</td>\n",
       "      <td>CM</td>\n",
       "      <td>Icon</td>\n",
       "      <td>Controlled</td>\n",
       "      <td>2.63M</td>\n",
       "      <td>...</td>\n",
       "      <td>92</td>\n",
       "      <td>96</td>\n",
       "      <td>95</td>\n",
       "      <td>75</td>\n",
       "      <td>86</td>\n",
       "      <td>185cm | 6'1\"</td>\n",
       "      <td>Average  (77kg)</td>\n",
       "      <td>1194</td>\n",
       "      <td>529</td>\n",
       "      <td>2548</td>\n",
       "    </tr>\n",
       "    <tr>\n",
       "      <th>3</th>\n",
       "      <td>Pelé</td>\n",
       "      <td>FUT ICONS</td>\n",
       "      <td>Brazil</td>\n",
       "      <td>Icons</td>\n",
       "      <td>96</td>\n",
       "      <td>CF</td>\n",
       "      <td>CAM,ST</td>\n",
       "      <td>World Cup ICON</td>\n",
       "      <td>Explosive</td>\n",
       "      <td>3.59M</td>\n",
       "      <td>...</td>\n",
       "      <td>94</td>\n",
       "      <td>92</td>\n",
       "      <td>95</td>\n",
       "      <td>58</td>\n",
       "      <td>75</td>\n",
       "      <td>173cm | 5'8\"</td>\n",
       "      <td>Unique  (70kg)</td>\n",
       "      <td>938</td>\n",
       "      <td>510</td>\n",
       "      <td>2475</td>\n",
       "    </tr>\n",
       "    <tr>\n",
       "      <th>4</th>\n",
       "      <td>Pelé</td>\n",
       "      <td>FUT ICONS</td>\n",
       "      <td>Brazil</td>\n",
       "      <td>Icons</td>\n",
       "      <td>95</td>\n",
       "      <td>CF</td>\n",
       "      <td>CAM,ST</td>\n",
       "      <td>Icon</td>\n",
       "      <td>Explosive</td>\n",
       "      <td>2.72M</td>\n",
       "      <td>...</td>\n",
       "      <td>93</td>\n",
       "      <td>90</td>\n",
       "      <td>95</td>\n",
       "      <td>56</td>\n",
       "      <td>75</td>\n",
       "      <td>173cm | 5'8\"</td>\n",
       "      <td>Unique  (69kg)</td>\n",
       "      <td>1788</td>\n",
       "      <td>505</td>\n",
       "      <td>2452</td>\n",
       "    </tr>\n",
       "  </tbody>\n",
       "</table>\n",
       "<p>5 rows × 26 columns</p>\n",
       "</div>"
      ],
      "text/plain": [
       "              Name       Club  Nation League Rating Main_Position  \\\n",
       "0             Pelé  FUT ICONS  Brazil  Icons     98           CAM   \n",
       "1          Ronaldo  FUT ICONS  Brazil  Icons     96            ST   \n",
       "2  Zinedine Zidane  FUT ICONS  France  Icons     96           CAM   \n",
       "3             Pelé  FUT ICONS  Brazil  Icons     96            CF   \n",
       "4             Pelé  FUT ICONS  Brazil  Icons     95            CF   \n",
       "\n",
       "  Alternate_Positions    Card_Version   Run_Style  Price  ...  \\\n",
       "0               CF,ST            Icon   Explosive  4.15M  ...   \n",
       "1                  CF            Icon  Controlled  8.27M  ...   \n",
       "2                  CM            Icon  Controlled  2.63M  ...   \n",
       "3              CAM,ST  World Cup ICON   Explosive  3.59M  ...   \n",
       "4              CAM,ST            Icon   Explosive  2.72M  ...   \n",
       "\n",
       "  Shooting / Handling Passing / Kicking Dribbling / Reflexes Defense / Speed  \\\n",
       "0                  96                93                   96              60   \n",
       "1                  95                81                   95              45   \n",
       "2                  92                96                   95              75   \n",
       "3                  94                92                   95              58   \n",
       "4                  93                90                   95              56   \n",
       "\n",
       "  Physical / Positioning        Height         BodyType Popularity Base_Stats  \\\n",
       "0                     76  173cm | 5'8\"   Unique  (70kg)       2984        516   \n",
       "1                     76  183cm | 6'0\"       R9  (78kg)       3225        489   \n",
       "2                     86  185cm | 6'1\"  Average  (77kg)       1194        529   \n",
       "3                     75  173cm | 5'8\"   Unique  (70kg)        938        510   \n",
       "4                     75  173cm | 5'8\"   Unique  (69kg)       1788        505   \n",
       "\n",
       "  Ingame_Stats  \n",
       "0         2513  \n",
       "1         2341  \n",
       "2         2548  \n",
       "3         2475  \n",
       "4         2452  \n",
       "\n",
       "[5 rows x 26 columns]"
      ]
     },
     "execution_count": 38,
     "metadata": {},
     "output_type": "execute_result"
    }
   ],
   "source": [
    "all_players.head()"
   ]
  },
  {
   "cell_type": "markdown",
   "id": "9bb7787c",
   "metadata": {
    "papermill": {
     "duration": 0.024066,
     "end_time": "2023-01-14T01:29:59.252334",
     "exception": false,
     "start_time": "2023-01-14T01:29:59.228268",
     "status": "completed"
    },
    "tags": []
   },
   "source": [
    "<div style=\"font-family:Inter; text-align:center; font-size:36px;\n",
    "            background-color:#ead1dc; border-radius: 20px; padding: 10px\">\n",
    "    <b>Processing the Dataset</b></div>"
   ]
  },
  {
   "cell_type": "markdown",
   "id": "ea3e90b4",
   "metadata": {
    "papermill": {
     "duration": 0.021017,
     "end_time": "2023-01-14T01:29:59.406881",
     "exception": false,
     "start_time": "2023-01-14T01:29:59.385864",
     "status": "completed"
    },
    "tags": []
   },
   "source": [
    "<div style=\"font-size: 26px; font-family:Inter\"><b>Transforming columns in numeric</b></div>\n",
    "<hr style=\"height:6px; background-color:#9c9598\"></hr>\n",
    "<div style=\"font-size: 16px; font-family:Inter\"> There are columns that could be transformed in numeric:\n",
    "    <ul>\n",
    "        <li> Rating;</li>   \n",
    "        <li>Skills Star;</li>\n",
    "        <li>Weakfoot Star;</li>\n",
    "        <li>Pace / Diving;</li>\n",
    "        <li>Shooting / Handling;</li>\n",
    "        <li>Passing / Kicking;</li>\n",
    "        <li>Dribbling / Reflexes;</li>\n",
    "        <li>Defense / Speed;</li>\n",
    "        <li>Physical / Positioning;</li>\n",
    "        <li>Popularity;</li>\n",
    "        <li>Base Stats;</li>\n",
    "        <li>Ingame Stats;</li>\n",
    "    </ul>\n",
    "</div>"
   ]
  },
  {
   "cell_type": "code",
   "execution_count": 39,
   "id": "59e18a52",
   "metadata": {
    "execution": {
     "iopub.execute_input": "2023-01-14T01:29:59.450674Z",
     "iopub.status.busy": "2023-01-14T01:29:59.450198Z",
     "iopub.status.idle": "2023-01-14T01:29:59.547675Z",
     "shell.execute_reply": "2023-01-14T01:29:59.546503Z"
    },
    "papermill": {
     "duration": 0.123137,
     "end_time": "2023-01-14T01:29:59.550985",
     "exception": false,
     "start_time": "2023-01-14T01:29:59.427848",
     "status": "completed"
    },
    "tags": []
   },
   "outputs": [],
   "source": [
    "all_players['Rating'] = pd.to_numeric(all_players.Rating)\n",
    "all_players['Skills_Star'] = pd.to_numeric(all_players.Skills_Star)\n",
    "all_players['Weak_Foot_Star'] = pd.to_numeric(all_players.Weak_Foot_Star)"
   ]
  },
  {
   "cell_type": "code",
   "execution_count": 40,
   "id": "f085d668",
   "metadata": {
    "execution": {
     "iopub.execute_input": "2023-01-14T01:29:59.595830Z",
     "iopub.status.busy": "2023-01-14T01:29:59.595070Z",
     "iopub.status.idle": "2023-01-14T01:29:59.769232Z",
     "shell.execute_reply": "2023-01-14T01:29:59.767906Z"
    },
    "papermill": {
     "duration": 0.200689,
     "end_time": "2023-01-14T01:29:59.772494",
     "exception": false,
     "start_time": "2023-01-14T01:29:59.571805",
     "status": "completed"
    },
    "tags": []
   },
   "outputs": [],
   "source": [
    "all_players['Pace / Diving'] = pd.to_numeric(all_players['Pace / Diving'], errors=\"coerce\") \n",
    "all_players['Shooting / Handling'] = pd.to_numeric(all_players['Shooting / Handling'])\n",
    "all_players['Passing / Kicking'] = pd.to_numeric(all_players['Passing / Kicking'])\n",
    "all_players['Dribbling / Reflexes'] = pd.to_numeric(all_players['Dribbling / Reflexes'])\n",
    "all_players['Defense / Speed'] = pd.to_numeric(all_players['Defense / Speed'])\n",
    "all_players['Physical / Positioning'] = pd.to_numeric(all_players['Physical / Positioning'])"
   ]
  },
  {
   "cell_type": "code",
   "execution_count": 41,
   "id": "030faae6",
   "metadata": {
    "execution": {
     "iopub.execute_input": "2023-01-14T01:29:59.818096Z",
     "iopub.status.busy": "2023-01-14T01:29:59.817373Z",
     "iopub.status.idle": "2023-01-14T01:29:59.895886Z",
     "shell.execute_reply": "2023-01-14T01:29:59.894755Z"
    },
    "papermill": {
     "duration": 0.104676,
     "end_time": "2023-01-14T01:29:59.898806",
     "exception": false,
     "start_time": "2023-01-14T01:29:59.794130",
     "status": "completed"
    },
    "tags": []
   },
   "outputs": [],
   "source": [
    "all_players['Popularity'] = pd.to_numeric(all_players.Popularity)\n",
    "all_players['Base_Stats'] = pd.to_numeric(all_players.Base_Stats)\n",
    "all_players['Ingame_Stats'] = pd.to_numeric(all_players.Ingame_Stats)"
   ]
  },
  {
   "cell_type": "markdown",
   "id": "d37fccf0",
   "metadata": {
    "papermill": {
     "duration": 0.020486,
     "end_time": "2023-01-14T01:29:59.940222",
     "exception": false,
     "start_time": "2023-01-14T01:29:59.919736",
     "status": "completed"
    },
    "tags": []
   },
   "source": [
    "<div style=\"font-size: 26px; font-family:Inter\"><b>Price Processing</b></div>\n",
    "<hr style=\"height:6px; background-color:#9c9598\"></hr>\n",
    "<p style=\"font-size: 16px; font-family:Inter\"> The price column has a different composition, with \"K\" meaning 1000 and \"M\" Million.</p>"
   ]
  },
  {
   "cell_type": "code",
   "execution_count": 42,
   "id": "a609690a",
   "metadata": {
    "execution": {
     "iopub.execute_input": "2023-01-14T01:29:59.985536Z",
     "iopub.status.busy": "2023-01-14T01:29:59.984714Z",
     "iopub.status.idle": "2023-01-14T01:29:59.989262Z",
     "shell.execute_reply": "2023-01-14T01:29:59.988475Z"
    },
    "papermill": {
     "duration": 0.029955,
     "end_time": "2023-01-14T01:29:59.991477",
     "exception": false,
     "start_time": "2023-01-14T01:29:59.961522",
     "status": "completed"
    },
    "tags": []
   },
   "outputs": [],
   "source": [
    "price_processing = all_players['Price']"
   ]
  },
  {
   "cell_type": "code",
   "execution_count": 43,
   "id": "5cf178df",
   "metadata": {
    "_kg_hide-input": true,
    "execution": {
     "iopub.execute_input": "2023-01-14T01:30:00.037194Z",
     "iopub.status.busy": "2023-01-14T01:30:00.036375Z",
     "iopub.status.idle": "2023-01-14T01:30:00.059700Z",
     "shell.execute_reply": "2023-01-14T01:30:00.058459Z"
    },
    "papermill": {
     "duration": 0.05012,
     "end_time": "2023-01-14T01:30:00.062729",
     "exception": false,
     "start_time": "2023-01-14T01:30:00.012609",
     "status": "completed"
    },
    "tags": []
   },
   "outputs": [],
   "source": [
    "symbols = (\"M\", \"K\")\n",
    "prices_p = list()\n",
    "for price in price_processing:\n",
    "    if symbols[0] in price:\n",
    "        price_p = price[:-1]\n",
    "        price_p = round(float(price_p) * 1e6, 2)\n",
    "    elif symbols[1] in price:\n",
    "        price_p = price[:-1]\n",
    "        price_p = round(float(price_p) * 1e3, 2)\n",
    "    else:\n",
    "        price_p = price\n",
    "        \n",
    "    prices_p.append(price_p)"
   ]
  },
  {
   "cell_type": "code",
   "execution_count": 44,
   "id": "9cc3ee20",
   "metadata": {
    "execution": {
     "iopub.execute_input": "2023-01-14T01:30:00.108029Z",
     "iopub.status.busy": "2023-01-14T01:30:00.107582Z",
     "iopub.status.idle": "2023-01-14T01:30:00.115560Z",
     "shell.execute_reply": "2023-01-14T01:30:00.114132Z"
    },
    "papermill": {
     "duration": 0.034449,
     "end_time": "2023-01-14T01:30:00.118597",
     "exception": false,
     "start_time": "2023-01-14T01:30:00.084148",
     "status": "completed"
    },
    "tags": []
   },
   "outputs": [],
   "source": [
    "all_players['Price'] = prices_p"
   ]
  },
  {
   "cell_type": "markdown",
   "id": "9d6ed005",
   "metadata": {
    "papermill": {
     "duration": 0.021023,
     "end_time": "2023-01-14T01:30:00.161606",
     "exception": false,
     "start_time": "2023-01-14T01:30:00.140583",
     "status": "completed"
    },
    "tags": []
   },
   "source": [
    "<div style=\"font-size: 26px; font-family:Inter\"><b>Fixing the Index and Droping Null Values</b></div>\n",
    "<hr style=\"height:6px; background-color:#9c9598\"></hr>\n",
    "<p style=\"font-size: 16px; font-family:Inter\"> The index is duplicate - a number between 0 and 29 - so it has to be fixed. Also, there are a few players that are the exception in missing values, so it's more efficient to drop these rows than creating a specific rule in the searching function.</p>"
   ]
  },
  {
   "cell_type": "code",
   "execution_count": 45,
   "id": "4ed4bc8b",
   "metadata": {
    "execution": {
     "iopub.execute_input": "2023-01-14T01:30:00.206954Z",
     "iopub.status.busy": "2023-01-14T01:30:00.206466Z",
     "iopub.status.idle": "2023-01-14T01:30:00.262547Z",
     "shell.execute_reply": "2023-01-14T01:30:00.261327Z"
    },
    "papermill": {
     "duration": 0.08251,
     "end_time": "2023-01-14T01:30:00.265153",
     "exception": false,
     "start_time": "2023-01-14T01:30:00.182643",
     "status": "completed"
    },
    "tags": []
   },
   "outputs": [
    {
     "data": {
      "text/html": [
       "<div>\n",
       "<style scoped>\n",
       "    .dataframe tbody tr th:only-of-type {\n",
       "        vertical-align: middle;\n",
       "    }\n",
       "\n",
       "    .dataframe tbody tr th {\n",
       "        vertical-align: top;\n",
       "    }\n",
       "\n",
       "    .dataframe thead th {\n",
       "        text-align: right;\n",
       "    }\n",
       "</style>\n",
       "<table border=\"1\" class=\"dataframe\">\n",
       "  <thead>\n",
       "    <tr style=\"text-align: right;\">\n",
       "      <th></th>\n",
       "      <th>Name</th>\n",
       "      <th>Club</th>\n",
       "      <th>Nation</th>\n",
       "      <th>League</th>\n",
       "      <th>Rating</th>\n",
       "      <th>Main_Position</th>\n",
       "      <th>Alternate_Positions</th>\n",
       "      <th>Card_Version</th>\n",
       "      <th>Run_Style</th>\n",
       "      <th>Price</th>\n",
       "      <th>...</th>\n",
       "      <th>Shooting / Handling</th>\n",
       "      <th>Passing / Kicking</th>\n",
       "      <th>Dribbling / Reflexes</th>\n",
       "      <th>Defense / Speed</th>\n",
       "      <th>Physical / Positioning</th>\n",
       "      <th>Height</th>\n",
       "      <th>BodyType</th>\n",
       "      <th>Popularity</th>\n",
       "      <th>Base_Stats</th>\n",
       "      <th>Ingame_Stats</th>\n",
       "    </tr>\n",
       "  </thead>\n",
       "  <tbody>\n",
       "    <tr>\n",
       "      <th>0</th>\n",
       "      <td>Pelé</td>\n",
       "      <td>FUT ICONS</td>\n",
       "      <td>Brazil</td>\n",
       "      <td>Icons</td>\n",
       "      <td>98</td>\n",
       "      <td>CAM</td>\n",
       "      <td>CF,ST</td>\n",
       "      <td>Icon</td>\n",
       "      <td>Explosive</td>\n",
       "      <td>4150000.0</td>\n",
       "      <td>...</td>\n",
       "      <td>96</td>\n",
       "      <td>93</td>\n",
       "      <td>96</td>\n",
       "      <td>60</td>\n",
       "      <td>76</td>\n",
       "      <td>173cm | 5'8\"</td>\n",
       "      <td>Unique  (70kg)</td>\n",
       "      <td>2984</td>\n",
       "      <td>516</td>\n",
       "      <td>2513</td>\n",
       "    </tr>\n",
       "    <tr>\n",
       "      <th>1</th>\n",
       "      <td>Ronaldo</td>\n",
       "      <td>FUT ICONS</td>\n",
       "      <td>Brazil</td>\n",
       "      <td>Icons</td>\n",
       "      <td>96</td>\n",
       "      <td>ST</td>\n",
       "      <td>CF</td>\n",
       "      <td>Icon</td>\n",
       "      <td>Controlled</td>\n",
       "      <td>8270000.0</td>\n",
       "      <td>...</td>\n",
       "      <td>95</td>\n",
       "      <td>81</td>\n",
       "      <td>95</td>\n",
       "      <td>45</td>\n",
       "      <td>76</td>\n",
       "      <td>183cm | 6'0\"</td>\n",
       "      <td>R9  (78kg)</td>\n",
       "      <td>3225</td>\n",
       "      <td>489</td>\n",
       "      <td>2341</td>\n",
       "    </tr>\n",
       "    <tr>\n",
       "      <th>2</th>\n",
       "      <td>Zinedine Zidane</td>\n",
       "      <td>FUT ICONS</td>\n",
       "      <td>France</td>\n",
       "      <td>Icons</td>\n",
       "      <td>96</td>\n",
       "      <td>CAM</td>\n",
       "      <td>CM</td>\n",
       "      <td>Icon</td>\n",
       "      <td>Controlled</td>\n",
       "      <td>2630000.0</td>\n",
       "      <td>...</td>\n",
       "      <td>92</td>\n",
       "      <td>96</td>\n",
       "      <td>95</td>\n",
       "      <td>75</td>\n",
       "      <td>86</td>\n",
       "      <td>185cm | 6'1\"</td>\n",
       "      <td>Average  (77kg)</td>\n",
       "      <td>1194</td>\n",
       "      <td>529</td>\n",
       "      <td>2548</td>\n",
       "    </tr>\n",
       "    <tr>\n",
       "      <th>3</th>\n",
       "      <td>Pelé</td>\n",
       "      <td>FUT ICONS</td>\n",
       "      <td>Brazil</td>\n",
       "      <td>Icons</td>\n",
       "      <td>96</td>\n",
       "      <td>CF</td>\n",
       "      <td>CAM,ST</td>\n",
       "      <td>World Cup ICON</td>\n",
       "      <td>Explosive</td>\n",
       "      <td>3590000.0</td>\n",
       "      <td>...</td>\n",
       "      <td>94</td>\n",
       "      <td>92</td>\n",
       "      <td>95</td>\n",
       "      <td>58</td>\n",
       "      <td>75</td>\n",
       "      <td>173cm | 5'8\"</td>\n",
       "      <td>Unique  (70kg)</td>\n",
       "      <td>938</td>\n",
       "      <td>510</td>\n",
       "      <td>2475</td>\n",
       "    </tr>\n",
       "    <tr>\n",
       "      <th>4</th>\n",
       "      <td>Pelé</td>\n",
       "      <td>FUT ICONS</td>\n",
       "      <td>Brazil</td>\n",
       "      <td>Icons</td>\n",
       "      <td>95</td>\n",
       "      <td>CF</td>\n",
       "      <td>CAM,ST</td>\n",
       "      <td>Icon</td>\n",
       "      <td>Explosive</td>\n",
       "      <td>2720000.0</td>\n",
       "      <td>...</td>\n",
       "      <td>93</td>\n",
       "      <td>90</td>\n",
       "      <td>95</td>\n",
       "      <td>56</td>\n",
       "      <td>75</td>\n",
       "      <td>173cm | 5'8\"</td>\n",
       "      <td>Unique  (69kg)</td>\n",
       "      <td>1788</td>\n",
       "      <td>505</td>\n",
       "      <td>2452</td>\n",
       "    </tr>\n",
       "  </tbody>\n",
       "</table>\n",
       "<p>5 rows × 26 columns</p>\n",
       "</div>"
      ],
      "text/plain": [
       "              Name       Club  Nation League  Rating Main_Position  \\\n",
       "0             Pelé  FUT ICONS  Brazil  Icons      98           CAM   \n",
       "1          Ronaldo  FUT ICONS  Brazil  Icons      96            ST   \n",
       "2  Zinedine Zidane  FUT ICONS  France  Icons      96           CAM   \n",
       "3             Pelé  FUT ICONS  Brazil  Icons      96            CF   \n",
       "4             Pelé  FUT ICONS  Brazil  Icons      95            CF   \n",
       "\n",
       "  Alternate_Positions    Card_Version   Run_Style      Price  ...  \\\n",
       "0               CF,ST            Icon   Explosive  4150000.0  ...   \n",
       "1                  CF            Icon  Controlled  8270000.0  ...   \n",
       "2                  CM            Icon  Controlled  2630000.0  ...   \n",
       "3              CAM,ST  World Cup ICON   Explosive  3590000.0  ...   \n",
       "4              CAM,ST            Icon   Explosive  2720000.0  ...   \n",
       "\n",
       "  Shooting / Handling  Passing / Kicking  Dribbling / Reflexes  \\\n",
       "0                  96                 93                    96   \n",
       "1                  95                 81                    95   \n",
       "2                  92                 96                    95   \n",
       "3                  94                 92                    95   \n",
       "4                  93                 90                    95   \n",
       "\n",
       "  Defense / Speed Physical / Positioning        Height         BodyType  \\\n",
       "0              60                     76  173cm | 5'8\"   Unique  (70kg)   \n",
       "1              45                     76  183cm | 6'0\"       R9  (78kg)   \n",
       "2              75                     86  185cm | 6'1\"  Average  (77kg)   \n",
       "3              58                     75  173cm | 5'8\"   Unique  (70kg)   \n",
       "4              56                     75  173cm | 5'8\"   Unique  (69kg)   \n",
       "\n",
       "   Popularity  Base_Stats  Ingame_Stats  \n",
       "0        2984         516          2513  \n",
       "1        3225         489          2341  \n",
       "2        1194         529          2548  \n",
       "3         938         510          2475  \n",
       "4        1788         505          2452  \n",
       "\n",
       "[5 rows x 26 columns]"
      ]
     },
     "execution_count": 45,
     "metadata": {},
     "output_type": "execute_result"
    }
   ],
   "source": [
    "# Fixing the index\n",
    "all_players = all_players.reset_index().drop('index', axis=1)\n",
    "all_players.head()"
   ]
  },
  {
   "cell_type": "code",
   "execution_count": 46,
   "id": "4700c6df",
   "metadata": {
    "execution": {
     "iopub.execute_input": "2023-01-14T01:30:00.310992Z",
     "iopub.status.busy": "2023-01-14T01:30:00.310439Z",
     "iopub.status.idle": "2023-01-14T01:30:00.339411Z",
     "shell.execute_reply": "2023-01-14T01:30:00.336516Z"
    },
    "papermill": {
     "duration": 0.054496,
     "end_time": "2023-01-14T01:30:00.341859",
     "exception": false,
     "start_time": "2023-01-14T01:30:00.287363",
     "status": "completed"
    },
    "tags": []
   },
   "outputs": [
    {
     "data": {
      "text/html": [
       "<div>\n",
       "<style scoped>\n",
       "    .dataframe tbody tr th:only-of-type {\n",
       "        vertical-align: middle;\n",
       "    }\n",
       "\n",
       "    .dataframe tbody tr th {\n",
       "        vertical-align: top;\n",
       "    }\n",
       "\n",
       "    .dataframe thead th {\n",
       "        text-align: right;\n",
       "    }\n",
       "</style>\n",
       "<table border=\"1\" class=\"dataframe\">\n",
       "  <thead>\n",
       "    <tr style=\"text-align: right;\">\n",
       "      <th></th>\n",
       "      <th>Name</th>\n",
       "      <th>Club</th>\n",
       "      <th>Nation</th>\n",
       "      <th>League</th>\n",
       "      <th>Rating</th>\n",
       "      <th>Main_Position</th>\n",
       "      <th>Alternate_Positions</th>\n",
       "      <th>Card_Version</th>\n",
       "      <th>Run_Style</th>\n",
       "      <th>Price</th>\n",
       "      <th>...</th>\n",
       "      <th>Shooting / Handling</th>\n",
       "      <th>Passing / Kicking</th>\n",
       "      <th>Dribbling / Reflexes</th>\n",
       "      <th>Defense / Speed</th>\n",
       "      <th>Physical / Positioning</th>\n",
       "      <th>Height</th>\n",
       "      <th>BodyType</th>\n",
       "      <th>Popularity</th>\n",
       "      <th>Base_Stats</th>\n",
       "      <th>Ingame_Stats</th>\n",
       "    </tr>\n",
       "  </thead>\n",
       "  <tbody>\n",
       "    <tr>\n",
       "      <th>9716</th>\n",
       "      <td>Rolando Aarons</td>\n",
       "      <td>Motherwell</td>\n",
       "      <td>Jamaica</td>\n",
       "      <td>Scottish Premiership (SPFL)</td>\n",
       "      <td>67</td>\n",
       "      <td>LW</td>\n",
       "      <td>0</td>\n",
       "      <td>LWB,LM,RW</td>\n",
       "      <td>Normal</td>\n",
       "      <td>Explosive</td>\n",
       "      <td>...</td>\n",
       "      <td>78</td>\n",
       "      <td>62</td>\n",
       "      <td>66</td>\n",
       "      <td>70</td>\n",
       "      <td>39</td>\n",
       "      <td>52</td>\n",
       "      <td>175cm | 5'9\"</td>\n",
       "      <td>0</td>\n",
       "      <td>367</td>\n",
       "      <td>1709</td>\n",
       "    </tr>\n",
       "    <tr>\n",
       "      <th>9954</th>\n",
       "      <td>Rolando Aarons</td>\n",
       "      <td>Huddersfield</td>\n",
       "      <td>Jamaica</td>\n",
       "      <td>EFL Championship (ENG 2)</td>\n",
       "      <td>67</td>\n",
       "      <td>LW</td>\n",
       "      <td>0</td>\n",
       "      <td>LWB,LM,RW</td>\n",
       "      <td>non-rare</td>\n",
       "      <td>Explosive</td>\n",
       "      <td>...</td>\n",
       "      <td>78</td>\n",
       "      <td>62</td>\n",
       "      <td>66</td>\n",
       "      <td>70</td>\n",
       "      <td>39</td>\n",
       "      <td>52</td>\n",
       "      <td>175cm | 5'9\"</td>\n",
       "      <td>0</td>\n",
       "      <td>367</td>\n",
       "      <td>1709</td>\n",
       "    </tr>\n",
       "    <tr>\n",
       "      <th>12690</th>\n",
       "      <td>Harry Smith</td>\n",
       "      <td>Exeter City</td>\n",
       "      <td>England</td>\n",
       "      <td>EFL League One (ENG 3)</td>\n",
       "      <td>64</td>\n",
       "      <td>ST</td>\n",
       "      <td>0</td>\n",
       "      <td>CF</td>\n",
       "      <td>Normal</td>\n",
       "      <td>Controlled</td>\n",
       "      <td>...</td>\n",
       "      <td>53</td>\n",
       "      <td>64</td>\n",
       "      <td>48</td>\n",
       "      <td>56</td>\n",
       "      <td>31</td>\n",
       "      <td>78</td>\n",
       "      <td>193cm | 6'4\"</td>\n",
       "      <td>4</td>\n",
       "      <td>330</td>\n",
       "      <td>1530</td>\n",
       "    </tr>\n",
       "    <tr>\n",
       "      <th>13009</th>\n",
       "      <td>Harry Smith</td>\n",
       "      <td>Leyton Orient</td>\n",
       "      <td>England</td>\n",
       "      <td>EFL League Two (ENG 4)</td>\n",
       "      <td>64</td>\n",
       "      <td>ST</td>\n",
       "      <td>0</td>\n",
       "      <td>CF</td>\n",
       "      <td>Rare</td>\n",
       "      <td>Controlled</td>\n",
       "      <td>...</td>\n",
       "      <td>53</td>\n",
       "      <td>64</td>\n",
       "      <td>48</td>\n",
       "      <td>56</td>\n",
       "      <td>31</td>\n",
       "      <td>78</td>\n",
       "      <td>193cm | 6'4\"</td>\n",
       "      <td>-1</td>\n",
       "      <td>330</td>\n",
       "      <td>1530</td>\n",
       "    </tr>\n",
       "    <tr>\n",
       "      <th>17796</th>\n",
       "      <td>Frimpong</td>\n",
       "      <td>AFC Wimbledon</td>\n",
       "      <td>England</td>\n",
       "      <td>EFL League Two (ENG 4)</td>\n",
       "      <td>54</td>\n",
       "      <td>CDM</td>\n",
       "      <td>0</td>\n",
       "      <td>Normal</td>\n",
       "      <td>non-rare</td>\n",
       "      <td>Controlled</td>\n",
       "      <td>...</td>\n",
       "      <td>65</td>\n",
       "      <td>37</td>\n",
       "      <td>45</td>\n",
       "      <td>54</td>\n",
       "      <td>52</td>\n",
       "      <td>61</td>\n",
       "      <td>0</td>\n",
       "      <td>1</td>\n",
       "      <td>314</td>\n",
       "      <td>1463</td>\n",
       "    </tr>\n",
       "    <tr>\n",
       "      <th>17959</th>\n",
       "      <td>Ridley</td>\n",
       "      <td>Sutton United</td>\n",
       "      <td>England</td>\n",
       "      <td>EFL League Two (ENG 4)</td>\n",
       "      <td>53</td>\n",
       "      <td>CB</td>\n",
       "      <td>0</td>\n",
       "      <td>Normal</td>\n",
       "      <td>Rare</td>\n",
       "      <td>Controlled</td>\n",
       "      <td>...</td>\n",
       "      <td>64</td>\n",
       "      <td>23</td>\n",
       "      <td>27</td>\n",
       "      <td>33</td>\n",
       "      <td>56</td>\n",
       "      <td>58</td>\n",
       "      <td>0</td>\n",
       "      <td>0</td>\n",
       "      <td>261</td>\n",
       "      <td>1204</td>\n",
       "    </tr>\n",
       "    <tr>\n",
       "      <th>18277</th>\n",
       "      <td>Charles-Cook</td>\n",
       "      <td>Sutton United</td>\n",
       "      <td>England</td>\n",
       "      <td>EFL League Two (ENG 4)</td>\n",
       "      <td>50</td>\n",
       "      <td>RB</td>\n",
       "      <td>0</td>\n",
       "      <td>RWB</td>\n",
       "      <td>non-rare</td>\n",
       "      <td>Controlled</td>\n",
       "      <td>...</td>\n",
       "      <td>65</td>\n",
       "      <td>24</td>\n",
       "      <td>31</td>\n",
       "      <td>43</td>\n",
       "      <td>49</td>\n",
       "      <td>58</td>\n",
       "      <td>0</td>\n",
       "      <td>0</td>\n",
       "      <td>270</td>\n",
       "      <td>1231</td>\n",
       "    </tr>\n",
       "  </tbody>\n",
       "</table>\n",
       "<p>7 rows × 26 columns</p>\n",
       "</div>"
      ],
      "text/plain": [
       "                 Name           Club   Nation                       League  \\\n",
       "9716   Rolando Aarons     Motherwell  Jamaica  Scottish Premiership (SPFL)   \n",
       "9954   Rolando Aarons   Huddersfield  Jamaica     EFL Championship (ENG 2)   \n",
       "12690     Harry Smith    Exeter City  England       EFL League One (ENG 3)   \n",
       "13009     Harry Smith  Leyton Orient  England       EFL League Two (ENG 4)   \n",
       "17796        Frimpong  AFC Wimbledon  England       EFL League Two (ENG 4)   \n",
       "17959          Ridley  Sutton United  England       EFL League Two (ENG 4)   \n",
       "18277    Charles-Cook  Sutton United  England       EFL League Two (ENG 4)   \n",
       "\n",
       "       Rating Main_Position Alternate_Positions Card_Version Run_Style  \\\n",
       "9716       67            LW                   0    LWB,LM,RW    Normal   \n",
       "9954       67            LW                   0    LWB,LM,RW  non-rare   \n",
       "12690      64            ST                   0           CF    Normal   \n",
       "13009      64            ST                   0           CF      Rare   \n",
       "17796      54           CDM                   0       Normal  non-rare   \n",
       "17959      53            CB                   0       Normal      Rare   \n",
       "18277      50            RB                   0          RWB  non-rare   \n",
       "\n",
       "            Price  ... Shooting / Handling  Passing / Kicking  \\\n",
       "9716    Explosive  ...                  78                 62   \n",
       "9954    Explosive  ...                  78                 62   \n",
       "12690  Controlled  ...                  53                 64   \n",
       "13009  Controlled  ...                  53                 64   \n",
       "17796  Controlled  ...                  65                 37   \n",
       "17959  Controlled  ...                  64                 23   \n",
       "18277  Controlled  ...                  65                 24   \n",
       "\n",
       "       Dribbling / Reflexes Defense / Speed Physical / Positioning  Height  \\\n",
       "9716                     66              70                     39      52   \n",
       "9954                     66              70                     39      52   \n",
       "12690                    48              56                     31      78   \n",
       "13009                    48              56                     31      78   \n",
       "17796                    45              54                     52      61   \n",
       "17959                    27              33                     56      58   \n",
       "18277                    31              43                     49      58   \n",
       "\n",
       "           BodyType  Popularity  Base_Stats  Ingame_Stats  \n",
       "9716   175cm | 5'9\"           0         367          1709  \n",
       "9954   175cm | 5'9\"           0         367          1709  \n",
       "12690  193cm | 6'4\"           4         330          1530  \n",
       "13009  193cm | 6'4\"          -1         330          1530  \n",
       "17796             0           1         314          1463  \n",
       "17959             0           0         261          1204  \n",
       "18277             0           0         270          1231  \n",
       "\n",
       "[7 rows x 26 columns]"
      ]
     },
     "execution_count": 46,
     "metadata": {},
     "output_type": "execute_result"
    }
   ],
   "source": [
    "# Viewing the players with these null values\n",
    "na_players = all_players[all_players[\"Pace / Diving\"].isna()]\n",
    "na_players"
   ]
  },
  {
   "cell_type": "code",
   "execution_count": 47,
   "id": "520e9af5",
   "metadata": {
    "execution": {
     "iopub.execute_input": "2023-01-14T01:30:00.388807Z",
     "iopub.status.busy": "2023-01-14T01:30:00.387979Z",
     "iopub.status.idle": "2023-01-14T01:30:00.431853Z",
     "shell.execute_reply": "2023-01-14T01:30:00.430544Z"
    },
    "papermill": {
     "duration": 0.070383,
     "end_time": "2023-01-14T01:30:00.434988",
     "exception": false,
     "start_time": "2023-01-14T01:30:00.364605",
     "status": "completed"
    },
    "tags": []
   },
   "outputs": [],
   "source": [
    "all_players.drop(na_players.index, inplace=True, errors='ignore')\n",
    "all_players = all_players.reset_index().drop('index', axis=1)"
   ]
  },
  {
   "cell_type": "code",
   "execution_count": 48,
   "id": "78399b9c",
   "metadata": {
    "execution": {
     "iopub.execute_input": "2023-01-14T01:30:00.482339Z",
     "iopub.status.busy": "2023-01-14T01:30:00.481806Z",
     "iopub.status.idle": "2023-01-14T01:30:00.509362Z",
     "shell.execute_reply": "2023-01-14T01:30:00.507803Z"
    },
    "papermill": {
     "duration": 0.055555,
     "end_time": "2023-01-14T01:30:00.512399",
     "exception": false,
     "start_time": "2023-01-14T01:30:00.456844",
     "status": "completed"
    },
    "tags": []
   },
   "outputs": [],
   "source": [
    "all_players['Price'] = pd.to_numeric(all_players['Price'])"
   ]
  },
  {
   "cell_type": "code",
   "execution_count": 49,
   "id": "35af9da7",
   "metadata": {
    "execution": {
     "iopub.execute_input": "2023-01-14T01:30:00.559407Z",
     "iopub.status.busy": "2023-01-14T01:30:00.558763Z",
     "iopub.status.idle": "2023-01-14T01:30:00.618737Z",
     "shell.execute_reply": "2023-01-14T01:30:00.617286Z"
    },
    "papermill": {
     "duration": 0.087924,
     "end_time": "2023-01-14T01:30:00.622449",
     "exception": false,
     "start_time": "2023-01-14T01:30:00.534525",
     "status": "completed"
    },
    "tags": []
   },
   "outputs": [
    {
     "name": "stdout",
     "output_type": "stream",
     "text": [
      "<class 'pandas.core.frame.DataFrame'>\n",
      "RangeIndex: 18355 entries, 0 to 18354\n",
      "Data columns (total 26 columns):\n",
      " #   Column                  Non-Null Count  Dtype  \n",
      "---  ------                  --------------  -----  \n",
      " 0   Name                    18355 non-null  object \n",
      " 1   Club                    18355 non-null  object \n",
      " 2   Nation                  18355 non-null  object \n",
      " 3   League                  18355 non-null  object \n",
      " 4   Rating                  18355 non-null  int64  \n",
      " 5   Main_Position           18355 non-null  object \n",
      " 6   Alternate_Positions     18355 non-null  object \n",
      " 7   Card_Version            18355 non-null  object \n",
      " 8   Run_Style               18355 non-null  object \n",
      " 9   Price                   18355 non-null  float64\n",
      " 10  Price_Variation         18355 non-null  object \n",
      " 11  Skills_Star             18355 non-null  int64  \n",
      " 12  Weak_Foot_Star          18355 non-null  int64  \n",
      " 13  Attack_Workrate         18355 non-null  object \n",
      " 14  Defense_Workrate        18355 non-null  object \n",
      " 15  Pace / Diving           18355 non-null  float64\n",
      " 16  Shooting / Handling     18355 non-null  int64  \n",
      " 17  Passing / Kicking       18355 non-null  int64  \n",
      " 18  Dribbling / Reflexes    18355 non-null  int64  \n",
      " 19  Defense / Speed         18355 non-null  int64  \n",
      " 20  Physical / Positioning  18355 non-null  int64  \n",
      " 21  Height                  18355 non-null  object \n",
      " 22  BodyType                18355 non-null  object \n",
      " 23  Popularity              18355 non-null  int64  \n",
      " 24  Base_Stats              18355 non-null  int64  \n",
      " 25  Ingame_Stats            18355 non-null  int64  \n",
      "dtypes: float64(2), int64(11), object(13)\n",
      "memory usage: 3.6+ MB\n"
     ]
    }
   ],
   "source": [
    "all_players.info()"
   ]
  },
  {
   "cell_type": "markdown",
   "id": "ca4fe136",
   "metadata": {
    "papermill": {
     "duration": 0.022181,
     "end_time": "2023-01-14T01:30:00.667326",
     "exception": false,
     "start_time": "2023-01-14T01:30:00.645145",
     "status": "completed"
    },
    "tags": []
   },
   "source": [
    "<div style=\"font-size: 26px; font-family:Inter\"><b>Players with columns swapped</b></div>\n",
    "<hr style=\"height:6px; background-color:#9c9598\"></hr>\n",
    "<p style=\"font-size: 16px; font-family:Inter\"> Some players have their columns swapped, the columns \"Main_Position\" and \"Card Version\". So to correct this, it selects these problematic players index and swap the columns only on the index.</p>"
   ]
  },
  {
   "cell_type": "code",
   "execution_count": 50,
   "id": "e338d4a1",
   "metadata": {
    "execution": {
     "iopub.execute_input": "2023-01-14T01:30:00.714095Z",
     "iopub.status.busy": "2023-01-14T01:30:00.713658Z",
     "iopub.status.idle": "2023-01-14T01:30:00.728470Z",
     "shell.execute_reply": "2023-01-14T01:30:00.727259Z"
    },
    "papermill": {
     "duration": 0.040737,
     "end_time": "2023-01-14T01:30:00.730799",
     "exception": false,
     "start_time": "2023-01-14T01:30:00.690062",
     "status": "completed"
    },
    "tags": []
   },
   "outputs": [
    {
     "data": {
      "text/plain": [
       "CB        3109\n",
       "ST        2559\n",
       "CM        2180\n",
       "GK        1899\n",
       "CDM       1504\n",
       "RB        1141\n",
       "LB        1102\n",
       "CAM       1047\n",
       "RM         897\n",
       "LM         867\n",
       "RW         518\n",
       "LW         516\n",
       "RWB        312\n",
       "LWB        304\n",
       "Normal     211\n",
       "CF         189\n",
       "Name: Main_Position, dtype: int64"
      ]
     },
     "execution_count": 50,
     "metadata": {},
     "output_type": "execute_result"
    }
   ],
   "source": [
    "# Normal? -- It wasn't supposed to be there\n",
    "all_players[\"Main_Position\"].value_counts()"
   ]
  },
  {
   "cell_type": "code",
   "execution_count": 51,
   "id": "5f9ad545",
   "metadata": {
    "execution": {
     "iopub.execute_input": "2023-01-14T01:30:00.777636Z",
     "iopub.status.busy": "2023-01-14T01:30:00.777177Z",
     "iopub.status.idle": "2023-01-14T01:30:00.796873Z",
     "shell.execute_reply": "2023-01-14T01:30:00.795699Z"
    },
    "papermill": {
     "duration": 0.04602,
     "end_time": "2023-01-14T01:30:00.799592",
     "exception": false,
     "start_time": "2023-01-14T01:30:00.753572",
     "status": "completed"
    },
    "tags": []
   },
   "outputs": [],
   "source": [
    "# Swapping Columns \n",
    "error_positions = all_players.query(\"Main_Position == 'Normal'\")\n",
    "error_index = error_positions.index\n",
    "col1, col2 = error_positions[\"Main_Position\"], error_positions[\"Card_Version\"]\n",
    "all_players.loc[error_index, \"Main_Position\"] = col2\n",
    "all_players.loc[error_index, \"Card_Version\"] = col1"
   ]
  },
  {
   "cell_type": "code",
   "execution_count": 52,
   "id": "bf3d9c3a",
   "metadata": {
    "execution": {
     "iopub.execute_input": "2023-01-14T01:30:00.847133Z",
     "iopub.status.busy": "2023-01-14T01:30:00.845953Z",
     "iopub.status.idle": "2023-01-14T01:30:00.870153Z",
     "shell.execute_reply": "2023-01-14T01:30:00.869365Z"
    },
    "papermill": {
     "duration": 0.050149,
     "end_time": "2023-01-14T01:30:00.872172",
     "exception": false,
     "start_time": "2023-01-14T01:30:00.822023",
     "status": "completed"
    },
    "tags": []
   },
   "outputs": [
    {
     "data": {
      "text/html": [
       "<div>\n",
       "<style scoped>\n",
       "    .dataframe tbody tr th:only-of-type {\n",
       "        vertical-align: middle;\n",
       "    }\n",
       "\n",
       "    .dataframe tbody tr th {\n",
       "        vertical-align: top;\n",
       "    }\n",
       "\n",
       "    .dataframe thead th {\n",
       "        text-align: right;\n",
       "    }\n",
       "</style>\n",
       "<table border=\"1\" class=\"dataframe\">\n",
       "  <thead>\n",
       "    <tr style=\"text-align: right;\">\n",
       "      <th></th>\n",
       "      <th>Name</th>\n",
       "      <th>Club</th>\n",
       "      <th>Nation</th>\n",
       "      <th>League</th>\n",
       "      <th>Rating</th>\n",
       "      <th>Main_Position</th>\n",
       "      <th>Alternate_Positions</th>\n",
       "      <th>Card_Version</th>\n",
       "      <th>Run_Style</th>\n",
       "      <th>Price</th>\n",
       "      <th>...</th>\n",
       "      <th>Shooting / Handling</th>\n",
       "      <th>Passing / Kicking</th>\n",
       "      <th>Dribbling / Reflexes</th>\n",
       "      <th>Defense / Speed</th>\n",
       "      <th>Physical / Positioning</th>\n",
       "      <th>Height</th>\n",
       "      <th>BodyType</th>\n",
       "      <th>Popularity</th>\n",
       "      <th>Base_Stats</th>\n",
       "      <th>Ingame_Stats</th>\n",
       "    </tr>\n",
       "  </thead>\n",
       "  <tbody>\n",
       "  </tbody>\n",
       "</table>\n",
       "<p>0 rows × 26 columns</p>\n",
       "</div>"
      ],
      "text/plain": [
       "Empty DataFrame\n",
       "Columns: [Name, Club, Nation, League, Rating, Main_Position, Alternate_Positions, Card_Version, Run_Style, Price, Price_Variation, Skills_Star, Weak_Foot_Star, Attack_Workrate, Defense_Workrate, Pace / Diving, Shooting / Handling, Passing / Kicking, Dribbling / Reflexes, Defense / Speed, Physical / Positioning, Height, BodyType, Popularity, Base_Stats, Ingame_Stats]\n",
       "Index: []\n",
       "\n",
       "[0 rows x 26 columns]"
      ]
     },
     "execution_count": 52,
     "metadata": {},
     "output_type": "execute_result"
    }
   ],
   "source": [
    "# Asserting\n",
    "all_players.query(\"Main_Position == 'Normal'\")"
   ]
  },
  {
   "cell_type": "markdown",
   "id": "b9ee2305",
   "metadata": {
    "papermill": {
     "duration": 0.021714,
     "end_time": "2023-01-14T01:30:00.915948",
     "exception": false,
     "start_time": "2023-01-14T01:30:00.894234",
     "status": "completed"
    },
    "tags": []
   },
   "source": [
    "<div style=\"font-family:Inter; text-align:center; font-size:36px;\n",
    "            background-color:#ead1dc; border-radius: 20px; padding: 10px\">\n",
    "    <b>Exporting as csv</b></div>"
   ]
  },
  {
   "cell_type": "code",
   "execution_count": 53,
   "id": "db9cf8c8",
   "metadata": {
    "execution": {
     "iopub.execute_input": "2023-01-14T01:30:00.962762Z",
     "iopub.status.busy": "2023-01-14T01:30:00.961461Z",
     "iopub.status.idle": "2023-01-14T01:30:01.162927Z",
     "shell.execute_reply": "2023-01-14T01:30:01.161781Z"
    },
    "papermill": {
     "duration": 0.228048,
     "end_time": "2023-01-14T01:30:01.166092",
     "exception": false,
     "start_time": "2023-01-14T01:30:00.938044",
     "status": "completed"
    },
    "tags": []
   },
   "outputs": [],
   "source": [
    "path = \"fifa23_players_\"\n",
    "today = str(date.today())\n",
    "path += today + \".csv\"\n",
    "\n",
    "all_players.to_csv(path, index=False)"
   ]
  }
 ],
 "metadata": {
  "kernelspec": {
   "display_name": "Python 3",
   "language": "python",
   "name": "python3"
  },
  "language_info": {
   "codemirror_mode": {
    "name": "ipython",
    "version": 3
   },
   "file_extension": ".py",
   "mimetype": "text/x-python",
   "name": "python",
   "nbconvert_exporter": "python",
   "pygments_lexer": "ipython3",
   "version": "3.7.12"
  },
  "papermill": {
   "default_parameters": {},
   "duration": 2355.381531,
   "end_time": "2023-01-14T01:30:02.118896",
   "environment_variables": {},
   "exception": null,
   "input_path": "__notebook__.ipynb",
   "output_path": "__notebook__.ipynb",
   "parameters": {},
   "start_time": "2023-01-14T00:50:46.737365",
   "version": "2.3.4"
  }
 },
 "nbformat": 4,
 "nbformat_minor": 5
}
